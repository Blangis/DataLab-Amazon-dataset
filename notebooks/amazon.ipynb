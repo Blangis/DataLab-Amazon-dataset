{
 "cells": [
  {
   "cell_type": "code",
   "execution_count": 48,
   "id": "23b360e1",
   "metadata": {},
   "outputs": [],
   "source": [
    "import pandas as pd\n",
    "import numpy as np\n",
    "import seaborn as sbn\n",
    "import matplotlib.pyplot as plt"
   ]
  },
  {
   "cell_type": "markdown",
   "id": "751e08ba",
   "metadata": {},
   "source": [
    "# **Products**"
   ]
  },
  {
   "cell_type": "markdown",
   "id": "c1c46af6",
   "metadata": {},
   "source": [
    "## Carga de datos productos"
   ]
  },
  {
   "cell_type": "code",
   "execution_count": 49,
   "id": "dcd17b35",
   "metadata": {},
   "outputs": [
    {
     "name": "stdout",
     "output_type": "stream",
     "text": [
      "Filas y columnas de productos dataset: (1469, 7)\n"
     ]
    }
   ],
   "source": [
    "df_products = pd.read_csv(\"../dataset_amazon/amazon - amazon_product.csv\")\n",
    "print(f\"Filas y columnas de productos dataset: {df_products.shape}\")"
   ]
  },
  {
   "cell_type": "markdown",
   "id": "8e09bab9",
   "metadata": {},
   "source": [
    "# Tipos de datos y valores no nulos por columna"
   ]
  },
  {
   "cell_type": "code",
   "execution_count": 50,
   "id": "9612098a",
   "metadata": {},
   "outputs": [
    {
     "name": "stdout",
     "output_type": "stream",
     "text": [
      "<class 'pandas.core.frame.DataFrame'>\n",
      "RangeIndex: 1469 entries, 0 to 1468\n",
      "Data columns (total 7 columns):\n",
      " #   Column               Non-Null Count  Dtype \n",
      "---  ------               --------------  ----- \n",
      " 0   product_id           1469 non-null   object\n",
      " 1   product_name         1469 non-null   object\n",
      " 2   category             1469 non-null   object\n",
      " 3   discounted_price     1469 non-null   object\n",
      " 4   actual_price         1469 non-null   object\n",
      " 5   discount_percentage  1469 non-null   object\n",
      " 6   about_product        1465 non-null   object\n",
      "dtypes: object(7)\n",
      "memory usage: 80.5+ KB\n"
     ]
    }
   ],
   "source": [
    "df_products.info()"
   ]
  },
  {
   "cell_type": "markdown",
   "id": "db4ca5bd",
   "metadata": {},
   "source": [
    "# Identificación de valores nulos"
   ]
  },
  {
   "cell_type": "code",
   "execution_count": 51,
   "id": "778a6ec0",
   "metadata": {},
   "outputs": [
    {
     "name": "stdout",
     "output_type": "stream",
     "text": [
      " Nulos en productos: \n",
      " product_id             0\n",
      "product_name           0\n",
      "category               0\n",
      "discounted_price       0\n",
      "actual_price           0\n",
      "discount_percentage    0\n",
      "about_product          4\n",
      "dtype: int64\n"
     ]
    }
   ],
   "source": [
    "print(f\" Nulos en productos: \\n {df_products.isnull().sum()}\")"
   ]
  },
  {
   "cell_type": "markdown",
   "id": "8a3a7e89",
   "metadata": {},
   "source": [
    "Para identificar qué columnas tienen nulos se usó *isnull().sum()* , para el caso de *products* se encontró que en la columna **about_product** hay 4 nulos, se tomará la decisión de imputar con *\"sin info\"* más adelante."
   ]
  },
  {
   "cell_type": "markdown",
   "id": "953cdb58",
   "metadata": {},
   "source": [
    "# Manejo de valores nulos"
   ]
  },
  {
   "cell_type": "markdown",
   "id": "62902c75",
   "metadata": {},
   "source": [
    "### DataFrame *products* \n",
    "\n",
    "```\n",
    "df_products['about_product'] → selecciona la columna about_product del DataFrame df_products.\n",
    ".fillna(\"Sin descripción\") → reemplaza todos los valores nulos (NaN) de esa columna con el texto \"Sin descripción\".\n",
    "El resultado se reasigna a la misma columna.\n",
    "```"
   ]
  },
  {
   "cell_type": "code",
   "execution_count": 52,
   "id": "96ac2d08",
   "metadata": {},
   "outputs": [],
   "source": [
    "df_products['about_product'] = df_products['about_product'].fillna(\"Sin descripción\")"
   ]
  },
  {
   "cell_type": "markdown",
   "id": "25dc9b3b",
   "metadata": {},
   "source": [
    "Comprobamos que ya no tenemos nulos"
   ]
  },
  {
   "cell_type": "code",
   "execution_count": 53,
   "id": "ab56f671",
   "metadata": {},
   "outputs": [
    {
     "name": "stdout",
     "output_type": "stream",
     "text": [
      " Nulos en productos: \n",
      " product_id             0\n",
      "product_name           0\n",
      "category               0\n",
      "discounted_price       0\n",
      "actual_price           0\n",
      "discount_percentage    0\n",
      "about_product          0\n",
      "dtype: int64\n"
     ]
    }
   ],
   "source": [
    "print(f\" Nulos en productos: \\n {df_products.isnull().sum()}\")"
   ]
  },
  {
   "cell_type": "markdown",
   "id": "8ce8c5dd",
   "metadata": {},
   "source": [
    "# Normalizamos valores en DataFrame **products**"
   ]
  },
  {
   "cell_type": "code",
   "execution_count": 54,
   "id": "cec98a98",
   "metadata": {},
   "outputs": [],
   "source": [
    "# Precios\n",
    "df_products['discounted_price'] = df_products['discounted_price'].str.replace('₹','').str.replace(',','').astype(float)\n",
    "df_products['actual_price'] = df_products['actual_price'].str.replace('₹','').str.replace(',','').astype(float)\n",
    "\n",
    "# Descuento\n",
    "df_products['discount_percentage'] = df_products['discount_percentage'].str.replace('%','').astype(float)\n"
   ]
  },
  {
   "cell_type": "markdown",
   "id": "f7d5c17f",
   "metadata": {},
   "source": [
    "# Valores duplicados"
   ]
  },
  {
   "cell_type": "markdown",
   "id": "9f48ba30",
   "metadata": {},
   "source": [
    "Contamos duplicados en **products**, usando *duplicated().sum()* , nos dice cuántas columnas completas están duplicadas, es decir, todas las columnas iguales."
   ]
  },
  {
   "cell_type": "code",
   "execution_count": 55,
   "id": "2ce05983",
   "metadata": {},
   "outputs": [
    {
     "name": "stdout",
     "output_type": "stream",
     "text": [
      "106\n"
     ]
    }
   ],
   "source": [
    "print(df_products.duplicated().sum())"
   ]
  },
  {
   "cell_type": "markdown",
   "id": "f64441d2",
   "metadata": {},
   "source": [
    "En el caso de **products** hay 106 filas iguales, por lo que hay que eliminar filas idénticas para cada caso."
   ]
  },
  {
   "cell_type": "markdown",
   "id": "f4a5cdb6",
   "metadata": {},
   "source": [
    "## Eliminación de filas idénticas"
   ]
  },
  {
   "cell_type": "code",
   "execution_count": 56,
   "id": "f0a7d95b",
   "metadata": {},
   "outputs": [],
   "source": [
    "#products\n",
    "df_products = df_products.drop_duplicates()"
   ]
  },
  {
   "cell_type": "markdown",
   "id": "5c3d38f5",
   "metadata": {},
   "source": [
    "Revisamos **id's** , es decir en *products*, la columnas de **product_id**, ya que se espera que sean únicos."
   ]
  },
  {
   "cell_type": "code",
   "execution_count": 57,
   "id": "a216eef4",
   "metadata": {},
   "outputs": [
    {
     "name": "stdout",
     "output_type": "stream",
     "text": [
      "12\n"
     ]
    }
   ],
   "source": [
    "print(df_products['product_id'].duplicated().sum())"
   ]
  },
  {
   "cell_type": "markdown",
   "id": "f7516cc2",
   "metadata": {},
   "source": [
    "En el caso de *products*, aquellos que había imputado con \"Sin descripción\" resultaron ser repetidos, por lo que ahora sí eliminaremos esos valores de **about_product** : "
   ]
  },
  {
   "cell_type": "code",
   "execution_count": 58,
   "id": "a1819b0f",
   "metadata": {},
   "outputs": [],
   "source": [
    "# Eliminar productos cuya descripción es \"Sin descripción\"\n",
    "df_products = df_products[df_products['about_product'] != \"Sin descripción\"]"
   ]
  },
  {
   "cell_type": "code",
   "execution_count": 59,
   "id": "801a519b",
   "metadata": {},
   "outputs": [
    {
     "name": "stdout",
     "output_type": "stream",
     "text": [
      "8\n"
     ]
    }
   ],
   "source": [
    "print(df_products['product_id'].duplicated().sum())"
   ]
  },
  {
   "cell_type": "markdown",
   "id": "10b241b8",
   "metadata": {},
   "source": [
    "Aún se observaron 8 registros con *product_id* repetido."
   ]
  },
  {
   "cell_type": "code",
   "execution_count": 60,
   "id": "8cba4386",
   "metadata": {},
   "outputs": [
    {
     "name": "stdout",
     "output_type": "stream",
     "text": [
      "     product_id                                       product_name  \\\n",
      "433  B07DJLFMPS  HP 32GB Class 10 MicroSD Memory Card (U1 TF Ca...   \n",
      "686  B07DJLFMPS  HP 32GB Class 10 MicroSD Memory Card (U1 TF Ca...   \n",
      "15   B083342NKJ  MI Braided USB Type-C Cable for Charging Adapt...   \n",
      "699  B083342NKJ  MI Braided USB Type-C Cable for Charging Adapt...   \n",
      "10   B08CF3D7QR  Portronics Konnect L POR-1081 Fast Charging 3A...   \n",
      "428  B08CF3D7QR  Portronics Konnect L POR-1081 Fast Charging 3A...   \n",
      "2    B096MSW6CT  Sounce Fast Phone Charging Cable & Data Sync U...   \n",
      "379  B096MSW6CT  Sounce Fast Phone Charging Cable & Data Sync U...   \n",
      "623  B096MSW6CT  Sounce Fast Phone Charging Cable & Data Sync U...   \n",
      "397  B09MT84WV5  Samsung EVO Plus 128GB microSDXC UHS-I U3 130M...   \n",
      "641  B09MT84WV5  Samsung EVO Plus 128GB microSDXC UHS-I U3 130M...   \n",
      "336  B0B5B6PQCT  boAt Wave Call Smart Watch, Smart Talk with Ad...   \n",
      "587  B0B5B6PQCT  boAt Wave Call Smart Watch, Smart Talk with Ad...   \n",
      "344  B0B5LVS732  Noise Pulse Go Buzz Smart Watch Bluetooth Call...   \n",
      "594  B0B5LVS732  Noise Pulse Go Buzz Smart Watch Bluetooth Call...   \n",
      "\n",
      "                                              category  discounted_price  \\\n",
      "433        Electronics|Accessories|MemoryCards|MicroSD             369.0   \n",
      "686        Electronics|Accessories|MemoryCards|MicroSD             369.0   \n",
      "15   Computers&Accessories|Accessories&Peripherals|...             349.0   \n",
      "699  Computers&Accessories|Accessories&Peripherals|...             349.0   \n",
      "10   Computers&Accessories|Accessories&Peripherals|...             154.0   \n",
      "428  Computers&Accessories|Accessories&Peripherals|...             154.0   \n",
      "2    Computers&Accessories|Accessories&Peripherals|...             199.0   \n",
      "379  Computers&Accessories|Accessories&Peripherals|...             199.0   \n",
      "623  Computers&Accessories|Accessories&Peripherals|...             199.0   \n",
      "397        Electronics|Accessories|MemoryCards|MicroSD            1149.0   \n",
      "641        Electronics|Accessories|MemoryCards|MicroSD            1059.0   \n",
      "336        Electronics|WearableTechnology|SmartWatches            1999.0   \n",
      "587        Electronics|WearableTechnology|SmartWatches            1799.0   \n",
      "344        Electronics|WearableTechnology|SmartWatches            1898.0   \n",
      "594        Electronics|WearableTechnology|SmartWatches            1999.0   \n",
      "\n",
      "     actual_price  discount_percentage  \\\n",
      "433        1600.0                 77.0   \n",
      "686        1600.0                 77.0   \n",
      "15          399.0                 13.0   \n",
      "699         399.0                 13.0   \n",
      "10          339.0                 55.0   \n",
      "428         339.0                 55.0   \n",
      "2          1899.0                 90.0   \n",
      "379         999.0                 80.0   \n",
      "623         999.0                 80.0   \n",
      "397        3999.0                 71.0   \n",
      "641        3999.0                 74.0   \n",
      "336        7990.0                 75.0   \n",
      "587        7990.0                 77.0   \n",
      "344        4999.0                 62.0   \n",
      "594        4999.0                 60.0   \n",
      "\n",
      "                                         about_product  \n",
      "433  HP 32GB Class 10 MicroSD Memory Card (U1 TF Ca...  \n",
      "686  Class 10, UHS-I, U1 Memory Card with Adapter|P...  \n",
      "15   1M Long Cable. Usb 2.0 (Type A)|Toughened Join...  \n",
      "699  1M Long Cable. Usb 2.0 (Type A)|Braided Usb Ty...  \n",
      "10   [CHARGE & SYNC FUNCTION]- This cable comes wit...  \n",
      "428  [CHARGE & SYNC FUNCTION]- This cable comes wit...  \n",
      "2    【 Fast Charger& Data Sync】-With built-in safet...  \n",
      "379  【 Fast Charger& Data Sync】-With built-in safet...  \n",
      "623  【 Fast Charger& Data Sync】-With built-in safet...  \n",
      "397  Up to 130MB/s read speed with UHS-I interface....  \n",
      "641  Up to 130MB/s read speed with UHS-I interface....  \n",
      "336  Bluetooth Calling- Wave Call comes with a prem...  \n",
      "587  Bluetooth Calling- Wave Call comes with a prem...  \n",
      "344  Sharp and bright display: The 1.69’’ TFT displ...  \n",
      "594  Sharp and bright display: The 1.69’’ TFT displ...  \n"
     ]
    }
   ],
   "source": [
    "# IDs de productos repetidos\n",
    "dup_products = df_products[df_products['product_id'].duplicated(keep=False)]\n",
    "print(dup_products.sort_values(by='product_id'))\n"
   ]
  },
  {
   "cell_type": "markdown",
   "id": "50b23dfd",
   "metadata": {},
   "source": [
    "### Manejo de valores duplicados en *products*"
   ]
  },
  {
   "cell_type": "markdown",
   "id": "a4326fbd",
   "metadata": {},
   "source": [
    "Para el caso de **products** decidí quedarme con aquellos que tenían un descuento menor, para considerar \"el peor caso\".\n",
    "```\n",
    "df_products.sort_values('discounted_price') Ordena el DataFrame de menor a mayor según discounted_price.Es decir, los precios más bajos aparecen primero.\n",
    "\n",
    ".drop_duplicates(subset='product_id', keep='first') Busca duplicados en la columna product_id.\n",
    "\n",
    "Para cada product_id repetido, mantiene la primera fila (la que tiene el menor discounted_price, porque ya ordenaste).\n",
    "```"
   ]
  },
  {
   "cell_type": "code",
   "execution_count": 61,
   "id": "8ceb8c84",
   "metadata": {},
   "outputs": [],
   "source": [
    "df_products = df_products.sort_values('discounted_price').drop_duplicates(subset='product_id', keep='first')"
   ]
  },
  {
   "cell_type": "code",
   "execution_count": 62,
   "id": "9cf03e46",
   "metadata": {},
   "outputs": [
    {
     "name": "stdout",
     "output_type": "stream",
     "text": [
      "Ver product_id duplicados: 0\n",
      "1351 product_id únicos\n",
      "1351 filas en total\n"
     ]
    }
   ],
   "source": [
    "# Ver cuántos product_id están duplicados\n",
    "print(f\"Ver product_id duplicados: {df_products['product_id'].duplicated().sum()}\")  # debe dar 0\n",
    "\n",
    "# Ver cuántos product_id únicos hay vs total de filas\n",
    "print(df_products['product_id'].nunique(), \"product_id únicos\")\n",
    "print(len(df_products), \"filas en total\")"
   ]
  },
  {
   "cell_type": "code",
   "execution_count": 63,
   "id": "b50b6e72",
   "metadata": {},
   "outputs": [
    {
     "data": {
      "text/plain": [
       "(1351, 7)"
      ]
     },
     "execution_count": 63,
     "metadata": {},
     "output_type": "execute_result"
    }
   ],
   "source": [
    "df_products.shape"
   ]
  },
  {
   "cell_type": "markdown",
   "id": "bfcf63d7",
   "metadata": {},
   "source": [
    "# **Reviews**"
   ]
  },
  {
   "cell_type": "markdown",
   "id": "4c89a8d4",
   "metadata": {},
   "source": [
    "## Carga de datos reviews"
   ]
  },
  {
   "cell_type": "code",
   "execution_count": 64,
   "id": "85505a1d",
   "metadata": {},
   "outputs": [
    {
     "name": "stdout",
     "output_type": "stream",
     "text": [
      "Filas y columnas de reviews dataset: (1465, 10)\n"
     ]
    }
   ],
   "source": [
    "df_reviews = pd.read_csv(\"../dataset_amazon/amazon - amazon_review.csv\")\n",
    "print(f\"Filas y columnas de reviews dataset: {df_reviews.shape}\")"
   ]
  },
  {
   "cell_type": "markdown",
   "id": "767d830c",
   "metadata": {},
   "source": [
    "# Tipos de datos y valores no nulos por columna"
   ]
  },
  {
   "cell_type": "code",
   "execution_count": 65,
   "id": "59a002c8",
   "metadata": {},
   "outputs": [
    {
     "name": "stdout",
     "output_type": "stream",
     "text": [
      "<class 'pandas.core.frame.DataFrame'>\n",
      "RangeIndex: 1465 entries, 0 to 1464\n",
      "Data columns (total 10 columns):\n",
      " #   Column          Non-Null Count  Dtype \n",
      "---  ------          --------------  ----- \n",
      " 0   user_id         1465 non-null   object\n",
      " 1   user_name       1465 non-null   object\n",
      " 2   review_id       1465 non-null   object\n",
      " 3   review_title    1465 non-null   object\n",
      " 4   review_content  1465 non-null   object\n",
      " 5   img_link        999 non-null    object\n",
      " 6   product_link    999 non-null    object\n",
      " 7   product_id      1465 non-null   object\n",
      " 8   rating          1465 non-null   object\n",
      " 9   rating_count    1463 non-null   object\n",
      "dtypes: object(10)\n",
      "memory usage: 114.6+ KB\n"
     ]
    }
   ],
   "source": [
    "df_reviews.info()"
   ]
  },
  {
   "cell_type": "markdown",
   "id": "232d3d8c",
   "metadata": {},
   "source": [
    "De igual manera para *reviews* se identificaron valores nulos, en este caso **img_links** y **product_link** tienen 466 valores nulos, sin embargo, considerando las preguntas a responder en este análisis, esas columnas no nos aportan información relevante, por lo que se sugiere eliminar esas columnas. "
   ]
  },
  {
   "cell_type": "markdown",
   "id": "649c257e",
   "metadata": {},
   "source": [
    "Por otro lado para **rating_count** hay 2 valores nulos, en este caso, se plantea imputarlos con 0."
   ]
  },
  {
   "cell_type": "code",
   "execution_count": 66,
   "id": "9bf97a57",
   "metadata": {},
   "outputs": [
    {
     "name": "stdout",
     "output_type": "stream",
     "text": [
      " Nulos en reviews: \n",
      "  user_id             0\n",
      "user_name           0\n",
      "review_id           0\n",
      "review_title        0\n",
      "review_content      0\n",
      "img_link          466\n",
      "product_link      466\n",
      "product_id          0\n",
      "rating              0\n",
      "rating_count        2\n",
      "dtype: int64\n"
     ]
    }
   ],
   "source": [
    "print(f\" Nulos en reviews: \\n  {df_reviews.isnull().sum()}\")"
   ]
  },
  {
   "cell_type": "markdown",
   "id": "242b7627",
   "metadata": {},
   "source": [
    "### DataFrame *reviews* \n",
    "\n",
    "```\n",
    ".drop(columns=[...]) → elimina columnas completas del DataFrame. Aquí borramos img_link y product_link.\n",
    "Se reasigna a df_reviews para guardar el DataFrame ya sin esas columnas.\n",
    "```\n",
    "Imputamos nulos en rating_count con ceros."
   ]
  },
  {
   "cell_type": "code",
   "execution_count": 67,
   "id": "ee7731a8",
   "metadata": {},
   "outputs": [],
   "source": [
    "df_reviews = df_reviews.drop(columns=['img_link', 'product_link'])"
   ]
  },
  {
   "cell_type": "code",
   "execution_count": 68,
   "id": "40ed30bd",
   "metadata": {},
   "outputs": [],
   "source": [
    "# Imputar con 0 si no hay valor, indicando que no se registró número de reseñas\n",
    "df_reviews['rating_count'] = df_reviews['rating_count'].fillna(0)\n"
   ]
  },
  {
   "cell_type": "code",
   "execution_count": 69,
   "id": "c872628a",
   "metadata": {},
   "outputs": [
    {
     "name": "stdout",
     "output_type": "stream",
     "text": [
      " Nulos en reviews: \n",
      "  user_id           0\n",
      "user_name         0\n",
      "review_id         0\n",
      "review_title      0\n",
      "review_content    0\n",
      "product_id        0\n",
      "rating            0\n",
      "rating_count      0\n",
      "dtype: int64\n"
     ]
    }
   ],
   "source": [
    "\n",
    "print(f\" Nulos en reviews: \\n  {df_reviews.isnull().sum()}\")"
   ]
  },
  {
   "cell_type": "markdown",
   "id": "961b6680",
   "metadata": {},
   "source": [
    "De igual manera contamos duplicados en *reviews* "
   ]
  },
  {
   "cell_type": "code",
   "execution_count": 70,
   "id": "6f365850",
   "metadata": {},
   "outputs": [
    {
     "name": "stdout",
     "output_type": "stream",
     "text": [
      "70\n"
     ]
    }
   ],
   "source": [
    "print(df_reviews.duplicated().sum())"
   ]
  },
  {
   "cell_type": "markdown",
   "id": "db9b0c5b",
   "metadata": {},
   "source": [
    " En **reviews** hubo 70 filas iguales, por lo que hay que eliminar filas idénticas."
   ]
  },
  {
   "cell_type": "markdown",
   "id": "ac79a701",
   "metadata": {},
   "source": [
    "# Eliminación de filas idénticas"
   ]
  },
  {
   "cell_type": "code",
   "execution_count": 71,
   "id": "b79aa9c6",
   "metadata": {},
   "outputs": [],
   "source": [
    "#reviews\n",
    "df_reviews = df_reviews.drop_duplicates()"
   ]
  },
  {
   "cell_type": "markdown",
   "id": "798eae37",
   "metadata": {},
   "source": [
    "## Revisión de IDs en reviews\n",
    "\n",
    "Revisamos los identificadores en el dataset de reseñas. En particular:\n",
    "\n",
    "- **product_id** Para saber si debemos hacer una agrupación por cada product_id.\n",
    "\n",
    "- **review_id** identifica cada reseña individual, pero para nuestro análisis agregado por producto, nos interesa una fila por producto, consolidando la información de todas sus reseñas.\n",
    "\n",
    "> Nota: Al mantener una fila por **product_id**, perdemos la granularidad de las reseñas individuales, pero simplifica el análisis de métricas por producto como promedio de rating, precio, descuento, etc."
   ]
  },
  {
   "cell_type": "code",
   "execution_count": 72,
   "id": "0de18e63",
   "metadata": {},
   "outputs": [
    {
     "name": "stdout",
     "output_type": "stream",
     "text": [
      "Duplicados en product_id (dentro de reviews) antes de limpiar: 44\n"
     ]
    }
   ],
   "source": [
    "# Revisar cuántos product_id duplicados hay\n",
    "print(f\"Duplicados en product_id (dentro de reviews) antes de limpiar: {df_reviews['product_id'].duplicated().sum()}\")  "
   ]
  },
  {
   "cell_type": "markdown",
   "id": "5a721f65",
   "metadata": {},
   "source": []
  },
  {
   "cell_type": "markdown",
   "id": "9bfb2c18",
   "metadata": {},
   "source": [
    "Se observaron 44 duplicados de **product_id** en *reviews*."
   ]
  },
  {
   "cell_type": "markdown",
   "id": "5d68280c",
   "metadata": {},
   "source": [
    "## Manejo de duplicados por producto en *reviews*"
   ]
  },
  {
   "cell_type": "code",
   "execution_count": 73,
   "id": "3808910f",
   "metadata": {},
   "outputs": [],
   "source": [
    "# df_reviews = df_reviews.drop_duplicates(subset=['product_id'])"
   ]
  },
  {
   "cell_type": "code",
   "execution_count": 74,
   "id": "07067243",
   "metadata": {},
   "outputs": [],
   "source": [
    "# Ver cuántos product_id están duplicados\n",
    "# print(f\"Ver product_id duplicados: {df_reviews['product_id'].duplicated().sum()}\")  # debe dar 0 \n",
    "\n",
    "# Ver cuántos product_id únicos hay vs total de filas \n",
    "# print(df_reviews['product_id'].nunique(), \"product_id únicos\") \n",
    "# print(len(df_reviews), \"filas en total\")\n"
   ]
  },
  {
   "cell_type": "code",
   "execution_count": 75,
   "id": "71df669e",
   "metadata": {},
   "outputs": [
    {
     "name": "stdout",
     "output_type": "stream",
     "text": [
      "                                             review_id  product_id  \\\n",
      "791  R2Z9ENI1BK4EAB,R2JTBG4GO7WPMG,R3GKCN4UH999M8,R...  B008FWZGSG   \n",
      "33   R2Z9ENI1BK4EAB,R2JTBG4GO7WPMG,R3GKCN4UH999M8,R...  B008FWZGSG   \n",
      "40   R2AE3BN2Y58N55,R6YVRITBSRECR,R232KD83Q3MVML,R2...  B00NH11KIK   \n",
      "807  R2AE3BN2Y58N55,R6YVRITBSRECR,R232KD83Q3MVML,R2...  B00NH11KIK   \n",
      "347  R2NB2K5XC70FKP,R3623Q21H3MKP6,R1XVC6NEYU3ZHV,R...  B01DEWVZ2C   \n",
      "584  R2NB2K5XC70FKP,R3623Q21H3MKP6,R1XVC6NEYU3ZHV,R...  B01DEWVZ2C   \n",
      "865  R2E3GV1LFGQNFD,R3IM6TBVGY4SYQ,R236B8Q3BSGZJ7,R...  B01FSYQ2A4   \n",
      "527  R2E3GV1LFGQNFD,R3IM6TBVGY4SYQ,R236B8Q3BSGZJ7,R...  B01FSYQ2A4   \n",
      "552  R1BC08IFG4REKS,R1FJKIHIO54SOW,R3JR48W2CI480,R3...  B01GGKYKQM   \n",
      "69   R1BC08IFG4REKS,R1FJKIHIO54SOW,R3JR48W2CI480,R3...  B01GGKYKQM   \n",
      "496  R1DXRMVWV2OVE8,R1G4I5FLAHM16P,R2BJFG3I9TAZ2P,R...  B077Z65HSD   \n",
      "29   R1G4I5FLAHM16P,R1DXRMVWV2OVE8,R2BJFG3I9TAZ2P,R...  B077Z65HSD   \n",
      "11   R3EEUZKKK9J36I,R3HJVYCLYOY554,REDECAZ7AMPQC,R1...  B0789LZTCJ   \n",
      "439  R3EEUZKKK9J36I,R3HJVYCLYOY554,REDECAZ7AMPQC,R1...  B0789LZTCJ   \n",
      "546  R1DSLJ58BW45MG,RZF2IS7TK6MF4,RLAJSE9228SAA,RHZ...  B078G6ZF5Z   \n",
      "901  R1DSLJ58BW45MG,RZF2IS7TK6MF4,RLAJSE9228SAA,RHZ...  B078G6ZF5Z   \n",
      "369  R3HXWT0LRP0NMF,R2AJM3LFTLZHFO,R6AQJGUP6P86,R1K...  B07JW9H4J1   \n",
      "600  R3HXWT0LRP0NMF,R2AJM3LFTLZHFO,R6AQJGUP6P86,R1K...  B07JW9H4J1   \n",
      "0    R3HXWT0LRP0NMF,R2AJM3LFTLZHFO,R6AQJGUP6P86,R1K...  B07JW9H4J1   \n",
      "12   R1FKOKZ3HHKJBZ,R2WNMZI1EXTA0H,RCA1M3W4RIXUR,R3...  B07KSMBL2H   \n",
      "\n",
      "                                          review_title  \\\n",
      "791  Good,Genuine product,Not first charge this cab...   \n",
      "33   Good,Genuine product,Not first charge this cab...   \n",
      "40   Functionality as described,Working,Great USB i...   \n",
      "807  Functionality as described,Working,Great USB i...   \n",
      "347  Good maybe okay,Defective Product Delivered,Am...   \n",
      "584  Good maybe okay,Defective Product Delivered,Am...   \n",
      "865  Worth Every Square Inch.,VFM, Plastic build. M...   \n",
      "527  Worth Every Square Inch.,VFM, Plastic build. M...   \n",
      "552  You can trust on this one,The best usb cable,W...   \n",
      "69   You can trust on this one,The best usb cable,W...   \n",
      "496  Quality is good,Just buy it dont even 2nd gues...   \n",
      "29   Just buy it dont even 2nd guess it,Quality is ...   \n",
      "11   Good product,Good one,Nice,Really nice product...   \n",
      "439  Good product,Good one,Nice,Really nice product...   \n",
      "546  Good,NICE 👍 IN VALUE.PARACASED ON TWO OLY,Work...   \n",
      "901  Good,NICE 👍 IN VALUE.PARACASED ON TWO OLY,Work...   \n",
      "369  Satisfied,Charging is really fast,Value for mo...   \n",
      "600  Satisfied,Charging is really fast,Value for mo...   \n",
      "0    Satisfied,Charging is really fast,Value for mo...   \n",
      "12   It's quite good and value for money,Works well...   \n",
      "\n",
      "                                        review_content  \\\n",
      "791  Buy it,Received in good condition and is worki...   \n",
      "33   Buy it,Received in good condition and is worki...   \n",
      "40   Using it and satisfactory.,Working good also n...   \n",
      "807  Using it and satisfactory.,Working good also n...   \n",
      "347  The quality is not upto mark for the price pai...   \n",
      "584  The quality is not upto mark for the price pai...   \n",
      "865  ----------------------------------------------...   \n",
      "527  ----------------------------------------------...   \n",
      "552  Previously bought amazon basic USB type A cabl...   \n",
      "69   Previously bought amazon basic USB type A cabl...   \n",
      "496  Ok with charging. Looks very sturdy and durabl...   \n",
      "29   One amazing cable for 300 bucks,Ok with chargi...   \n",
      "11   Good product,long wire,Charges good,Nice,I bou...   \n",
      "439  Good product,long wire,Charges good,Nice,I bou...   \n",
      "546  Expect it will last long, price wise it's a go...   \n",
      "901  Expect it will last long, price wise it's a go...   \n",
      "369  Looks durable Charging is fine tooNo complains...   \n",
      "600  Looks durable Charging is fine tooNo complains...   \n",
      "0    Looks durable Charging is fine tooNo complains...   \n",
      "12   I am using it for 14 days now. The experience ...   \n",
      "\n",
      "                                          product_name  \\\n",
      "791  Samsung Original Type C to C Cable - 3.28 Feet...   \n",
      "33   Samsung Original Type C to C Cable - 3.28 Feet...   \n",
      "40   AmazonBasics USB 2.0 Cable - A-Male to B-Male ...   \n",
      "807  AmazonBasics USB 2.0 Cable - A-Male to B-Male ...   \n",
      "347  JBL C100SI Wired In Ear Headphones with Mic, J...   \n",
      "584  JBL C100SI Wired In Ear Headphones with Mic, J...   \n",
      "865  boAt Rockerz 400 Bluetooth On Ear Headphones W...   \n",
      "527  boAt Rockerz 400 Bluetooth On Ear Headphones W...   \n",
      "552  Amazon Basics USB Type-C to USB-A 2.0 Male Fas...   \n",
      "69   Amazon Basics USB Type-C to USB-A 2.0 Male Fas...   \n",
      "496  boAt A400 USB Type-C to USB-A 2.0 Male Data Ca...   \n",
      "29   boAt A400 USB Type-C to USB-A 2.0 Male Data Ca...   \n",
      "11   boAt Rugged v3 Extra Tough Unbreakable Braided...   \n",
      "439  boAt Rugged v3 Extra Tough Unbreakable Braided...   \n",
      "546  Oraimo 18W USB & Type-C Dual Output Super Fast...   \n",
      "901  Oraimo 18W USB & Type-C Dual Output Super Fast...   \n",
      "369  Wayona Nylon Braided USB to Lightning Fast Cha...   \n",
      "600  Wayona Nylon Braided USB to Lightning Fast Cha...   \n",
      "0    Wayona Nylon Braided USB to Lightning Fast Cha...   \n",
      "12   AmazonBasics Flexible Premium HDMI Cable (Blac...   \n",
      "\n",
      "                                              category  \n",
      "791  Computers&Accessories|Accessories&Peripherals|...  \n",
      "33   Computers&Accessories|Accessories&Peripherals|...  \n",
      "40   Computers&Accessories|Accessories&Peripherals|...  \n",
      "807  Computers&Accessories|Accessories&Peripherals|...  \n",
      "347  Electronics|Headphones,Earbuds&Accessories|Hea...  \n",
      "584  Electronics|Headphones,Earbuds&Accessories|Hea...  \n",
      "865  Electronics|Headphones,Earbuds&Accessories|Hea...  \n",
      "527  Electronics|Headphones,Earbuds&Accessories|Hea...  \n",
      "552  Computers&Accessories|Accessories&Peripherals|...  \n",
      "69   Computers&Accessories|Accessories&Peripherals|...  \n",
      "496  Computers&Accessories|Accessories&Peripherals|...  \n",
      "29   Computers&Accessories|Accessories&Peripherals|...  \n",
      "11   Computers&Accessories|Accessories&Peripherals|...  \n",
      "439  Computers&Accessories|Accessories&Peripherals|...  \n",
      "546  Electronics|Mobiles&Accessories|MobileAccessor...  \n",
      "901  Electronics|Mobiles&Accessories|MobileAccessor...  \n",
      "369  Computers&Accessories|Accessories&Peripherals|...  \n",
      "600  Computers&Accessories|Accessories&Peripherals|...  \n",
      "0    Computers&Accessories|Accessories&Peripherals|...  \n",
      "12   Electronics|HomeTheater,TV&Video|Accessories|C...  \n"
     ]
    }
   ],
   "source": [
    "import pandas as pd\n",
    "\n",
    "# Columnas que quieres mantener de df_reviews\n",
    "cols_reviews = ['review_id', 'product_id', 'review_title', 'review_content']\n",
    "df_reviews_sel = df_reviews[cols_reviews]\n",
    "\n",
    "# Columnas de productos\n",
    "cols_productos = ['product_id', 'product_name', 'category']\n",
    "df_productos_sel = df_products[cols_productos]\n",
    "\n",
    "# Inner join: agregar nombre de producto a las reviews\n",
    "df_joined = pd.merge(df_reviews_sel, df_productos_sel, on='product_id', how='inner')\n",
    "\n",
    "# Contar cuántas veces aparece cada product_id\n",
    "product_counts = df_joined['product_id'].value_counts()\n",
    "\n",
    "# Filtrar solo los product_id que aparecen más de una vez\n",
    "duplicated_products = product_counts[product_counts > 1].index.tolist()\n",
    "\n",
    "# Seleccionar solo las filas de esos product_id duplicados\n",
    "df_duplicated_products = df_joined[df_joined['product_id'].isin(duplicated_products)]\n",
    "\n",
    "# Ordenar por product_id para ver claramente los duplicados\n",
    "df_duplicated_products_sorted = df_duplicated_products.sort_values(by='product_id')\n",
    "\n",
    "# Guardar a CSV para revisar\n",
    "df_duplicated_products_sorted.to_csv('duplicated_products_reviews.csv', index=False)\n",
    "\n",
    "# Mostrar primeras filas por pantalla\n",
    "print(df_duplicated_products_sorted.head(20))\n"
   ]
  },
  {
   "cell_type": "markdown",
   "id": "70b00c47",
   "metadata": {},
   "source": [
    "Procedí a hacer una unión de parámetros, para revisar los review_id con product_id, así como las columnas review_title y review_content, con la finalidad de comparar aquellos review_id duplicados, pero que se asignaron a productos diferentes."
   ]
  },
  {
   "cell_type": "code",
   "execution_count": 76,
   "id": "028fc945",
   "metadata": {},
   "outputs": [],
   "source": [
    "# Columnas que quieres mantener de df_reviews\n",
    "cols_reviews = ['review_id', 'product_id', 'review_title', 'review_content']\n",
    "\n",
    "df_reviews_sel = df_reviews[cols_reviews]\n",
    "\n",
    "# Por si quieres filtrar solo las necesarias\n",
    "cols_productos = ['product_id', 'product_name', 'category']\n",
    "df_productos_sel = df_products[cols_productos]\n",
    "\n",
    "# Inner join: solo toma reviews cuyos product_id existen en df_productos\n",
    "df_joined = pd.merge(df_reviews_sel, df_productos_sel, on='product_id', how='inner')\n",
    "df_joined_sorted = df_joined.sort_values(by='review_id')\n",
    "\n",
    "df_joined_sorted.to_csv('ver_reviews_con_productos.csv', index=False)\n"
   ]
  },
  {
   "cell_type": "markdown",
   "id": "10052ffc",
   "metadata": {},
   "source": [
    "## Revisamos tipos de datos"
   ]
  },
  {
   "cell_type": "code",
   "execution_count": 77,
   "id": "71ba8bb7",
   "metadata": {},
   "outputs": [
    {
     "name": "stdout",
     "output_type": "stream",
     "text": [
      "<class 'pandas.core.frame.DataFrame'>\n",
      "Index: 1395 entries, 0 to 1464\n",
      "Data columns (total 8 columns):\n",
      " #   Column          Non-Null Count  Dtype \n",
      "---  ------          --------------  ----- \n",
      " 0   user_id         1395 non-null   object\n",
      " 1   user_name       1395 non-null   object\n",
      " 2   review_id       1395 non-null   object\n",
      " 3   review_title    1395 non-null   object\n",
      " 4   review_content  1395 non-null   object\n",
      " 5   product_id      1395 non-null   object\n",
      " 6   rating          1395 non-null   object\n",
      " 7   rating_count    1395 non-null   object\n",
      "dtypes: object(8)\n",
      "memory usage: 98.1+ KB\n"
     ]
    }
   ],
   "source": [
    "df_reviews.info()"
   ]
  },
  {
   "cell_type": "markdown",
   "id": "94b6f7f5",
   "metadata": {},
   "source": [
    "### Castear **rating** y **rating_count**\n",
    "\n",
    "pd.to_numeric(..., errors='coerce') convierte a número lo que pueda. Si encuentra algo inválido o vacío, lo deja como NaN."
   ]
  },
  {
   "cell_type": "code",
   "execution_count": 78,
   "id": "1970b3a2",
   "metadata": {},
   "outputs": [],
   "source": [
    "# Quitar comas y convertir rating_count a int\n",
    "df_reviews['rating_count'] = df_reviews['rating_count'].str.replace(',', '')\n",
    "df_reviews['rating_count'] = pd.to_numeric(df_reviews['rating_count'], errors='coerce')\n",
    "\n",
    "# Convertir rating a float\n",
    "df_reviews['rating'] = pd.to_numeric(df_reviews['rating'], errors='coerce')\n",
    "\n",
    "\n",
    "# Imputar valores faltantes\n",
    "df_reviews['rating_count'] = df_reviews['rating_count'].fillna(0).astype(int)\n",
    "# Asegurar que rating sea float, dejando los NaN como están\n",
    "df_reviews['rating'] = pd.to_numeric(df_reviews['rating'], errors='coerce')\n"
   ]
  },
  {
   "cell_type": "code",
   "execution_count": 79,
   "id": "f20c33c9",
   "metadata": {},
   "outputs": [
    {
     "name": "stdout",
     "output_type": "stream",
     "text": [
      "<class 'pandas.core.frame.DataFrame'>\n",
      "Index: 1395 entries, 0 to 1464\n",
      "Data columns (total 8 columns):\n",
      " #   Column          Non-Null Count  Dtype  \n",
      "---  ------          --------------  -----  \n",
      " 0   user_id         1395 non-null   object \n",
      " 1   user_name       1395 non-null   object \n",
      " 2   review_id       1395 non-null   object \n",
      " 3   review_title    1395 non-null   object \n",
      " 4   review_content  1395 non-null   object \n",
      " 5   product_id      1395 non-null   object \n",
      " 6   rating          1394 non-null   float64\n",
      " 7   rating_count    1395 non-null   int64  \n",
      "dtypes: float64(1), int64(1), object(6)\n",
      "memory usage: 98.1+ KB\n"
     ]
    }
   ],
   "source": [
    "df_reviews.info()"
   ]
  },
  {
   "cell_type": "code",
   "execution_count": 80,
   "id": "3c298c46",
   "metadata": {},
   "outputs": [
    {
     "data": {
      "text/plain": [
       "(1395, 8)"
      ]
     },
     "execution_count": 80,
     "metadata": {},
     "output_type": "execute_result"
    }
   ],
   "source": [
    "df_reviews.shape"
   ]
  },
  {
   "cell_type": "markdown",
   "id": "42666001",
   "metadata": {},
   "source": [
    "# Filtrar datos fuera del alcance"
   ]
  },
  {
   "cell_type": "markdown",
   "id": "75dfaf0c",
   "metadata": {},
   "source": [
    "Ya limpiamos nulos y duplicados, ahora se necesita filtrar datos fuera del alcance. Esto se refiere a revisar outliers, inconsistencias o valores que no sirven para responder tus preguntas.\n",
    "\n",
    "Con base en mis preguntas de investigación:"
   ]
  },
  {
   "cell_type": "markdown",
   "id": "c6e9cf33",
   "metadata": {},
   "source": [
    "- `Ratings → descartar valores fuera de rango. Generalmente Amazon usa de 1 a 5 estrellas.`"
   ]
  },
  {
   "cell_type": "code",
   "execution_count": 81,
   "id": "85306974",
   "metadata": {},
   "outputs": [
    {
     "data": {
      "image/png": "[encoded data removed]",
      "text/plain": [
       "<Figure size 600x400 with 1 Axes>"
      ]
     },
     "metadata": {},
     "output_type": "display_data"
    }
   ],
   "source": [
    "# Histograma\n",
    "plt.figure(figsize=(6,4))\n",
    "df_reviews['rating'].hist(bins=9)   # bins para medias estrellas\n",
    "plt.xlabel('Rating')\n",
    "plt.ylabel('Conteo')\n",
    "plt.title('Distribución de ratings')\n",
    "plt.show()\n"
   ]
  },
  {
   "cell_type": "code",
   "execution_count": 82,
   "id": "a6b8d93a",
   "metadata": {},
   "outputs": [
    {
     "name": "stdout",
     "output_type": "stream",
     "text": [
      "count    1394.000000\n",
      "mean        4.093185\n",
      "std         0.294390\n",
      "min         2.000000\n",
      "25%         4.000000\n",
      "50%         4.100000\n",
      "75%         4.300000\n",
      "max         5.000000\n",
      "Name: rating, dtype: float64\n",
      "Valores == 0: 0\n",
      "Valores < 1 o > 5: 0\n"
     ]
    },
    {
     "data": {
      "text/html": [
       "<div>\n",
       "<style scoped>\n",
       "    .dataframe tbody tr th:only-of-type {\n",
       "        vertical-align: middle;\n",
       "    }\n",
       "\n",
       "    .dataframe tbody tr th {\n",
       "        vertical-align: top;\n",
       "    }\n",
       "\n",
       "    .dataframe thead th {\n",
       "        text-align: right;\n",
       "    }\n",
       "</style>\n",
       "<table border=\"1\" class=\"dataframe\">\n",
       "  <thead>\n",
       "    <tr style=\"text-align: right;\">\n",
       "      <th></th>\n",
       "      <th>user_id</th>\n",
       "      <th>user_name</th>\n",
       "      <th>review_id</th>\n",
       "      <th>review_title</th>\n",
       "      <th>review_content</th>\n",
       "      <th>product_id</th>\n",
       "      <th>rating</th>\n",
       "      <th>rating_count</th>\n",
       "    </tr>\n",
       "  </thead>\n",
       "  <tbody>\n",
       "  </tbody>\n",
       "</table>\n",
       "</div>"
      ],
      "text/plain": [
       "Empty DataFrame\n",
       "Columns: [user_id, user_name, review_id, review_title, review_content, product_id, rating, rating_count]\n",
       "Index: []"
      ]
     },
     "metadata": {},
     "output_type": "display_data"
    }
   ],
   "source": [
    "# Conteos y resumen\n",
    "print(df_reviews['rating'].describe())    # media, std, min, max, etc.\n",
    "\n",
    "# Ver si hay ceros o valores fuera de rango\n",
    "print(\"Valores == 0:\", (df_reviews['rating'] == 0).sum())\n",
    "print(\"Valores < 1 o > 5:\", ((df_reviews['rating'] < 1) | (df_reviews['rating'] > 5)).sum())\n",
    "\n",
    "# Mostrar ejemplos de filas con rating problemático\n",
    "display(df_reviews.loc[(df_reviews['rating'] < 1) | (df_reviews['rating'] > 5)].head(10))\n"
   ]
  },
  {
   "cell_type": "markdown",
   "id": "f1c130cf",
   "metadata": {},
   "source": [
    "> Hay una fila con **NaN**, sin embargo, no fue considerado para la estadística básica, _pandas_ omite ese valor, los demás valores (1350 filas) son correctos."
   ]
  },
  {
   "cell_type": "code",
   "execution_count": 83,
   "id": "a279caae",
   "metadata": {},
   "outputs": [],
   "source": [
    "# df_reviews = df_reviews[(df_reviews['rating'] >= 1) & (df_reviews['rating'] <= 5)]"
   ]
  },
  {
   "cell_type": "markdown",
   "id": "6f5c7d87",
   "metadata": {},
   "source": [
    "- `Precios → Tenemos preguntas sobre actual_price, discounted_price, discount_percentage. Debemos revisar y eliminar precios negativos o absurdos (ejemplo: actual_price < discounted_price cuando no debería), así como definir un rango realista.`"
   ]
  },
  {
   "cell_type": "code",
   "execution_count": 84,
   "id": "6a89f0b2",
   "metadata": {},
   "outputs": [
    {
     "name": "stdout",
     "output_type": "stream",
     "text": [
      "Cantidad de filas originales: 1351\n",
      "Filas con precios positivos: 1351\n",
      "Filas con actual_price < 140000: 1351\n",
      "Filas con descuento válido (0-100%): 1351\n",
      "Cantidad de filas finales: 1351\n"
     ]
    }
   ],
   "source": [
    "# Antes de filtrar\n",
    "print(\"Cantidad de filas originales:\", len(df_products))\n",
    "\n",
    "# Filtrar precios positivos\n",
    "filtro_precios = (df_products['actual_price'] > 0) & (df_products['discounted_price'] > 0)\n",
    "print(\"Filas con precios positivos:\", filtro_precios.sum())\n",
    "df_products = df_products[filtro_precios]\n",
    "\n",
    "# Filtrar precios no absurdos\n",
    "filtro_umbral = df_products['actual_price'] < 140000  # o el umbral que definas\n",
    "print(\"Filas con actual_price < 140000:\", filtro_umbral.sum())\n",
    "df_products = df_products[filtro_umbral]\n",
    "\n",
    "# Filtrar descuento válido\n",
    "filtro_descuento = (df_products['discount_percentage'] >= 0) & (df_products['discount_percentage'] <= 100)\n",
    "print(\"Filas con descuento válido (0-100%):\", filtro_descuento.sum())\n",
    "df_products = df_products[filtro_descuento]\n",
    "\n",
    "# Filas finales\n",
    "print(\"Cantidad de filas finales:\", len(df_products))\n"
   ]
  },
  {
   "cell_type": "code",
   "execution_count": 85,
   "id": "4fbd462b",
   "metadata": {},
   "outputs": [
    {
     "name": "stdout",
     "output_type": "stream",
     "text": [
      "Nulos en precios:\n",
      " actual_price        0\n",
      "discounted_price    0\n",
      "dtype: int64\n",
      "\n",
      "Resumen estadístico:\n",
      "        actual_price  discounted_price\n",
      "count    1351.000000       1351.000000\n",
      "mean     5690.510452       3304.587098\n",
      "std     11218.918302       7174.024934\n",
      "min        39.000000         39.000000\n",
      "25%       899.000000        349.000000\n",
      "50%      1790.000000        899.000000\n",
      "75%      4575.000000       2174.000000\n",
      "max    139900.000000      77990.000000\n",
      "\n",
      "Precios <= 0:\n",
      "actual_price        0\n",
      "discounted_price    0\n",
      "dtype: int64\n",
      "\n",
      "Absurdos (discounted > actual): 0\n"
     ]
    },
    {
     "data": {
      "text/html": [
       "<div>\n",
       "<style scoped>\n",
       "    .dataframe tbody tr th:only-of-type {\n",
       "        vertical-align: middle;\n",
       "    }\n",
       "\n",
       "    .dataframe tbody tr th {\n",
       "        vertical-align: top;\n",
       "    }\n",
       "\n",
       "    .dataframe thead th {\n",
       "        text-align: right;\n",
       "    }\n",
       "</style>\n",
       "<table border=\"1\" class=\"dataframe\">\n",
       "  <thead>\n",
       "    <tr style=\"text-align: right;\">\n",
       "      <th></th>\n",
       "      <th>product_id</th>\n",
       "      <th>product_name</th>\n",
       "      <th>category</th>\n",
       "      <th>discounted_price</th>\n",
       "      <th>actual_price</th>\n",
       "      <th>discount_percentage</th>\n",
       "      <th>about_product</th>\n",
       "    </tr>\n",
       "  </thead>\n",
       "  <tbody>\n",
       "  </tbody>\n",
       "</table>\n",
       "</div>"
      ],
      "text/plain": [
       "Empty DataFrame\n",
       "Columns: [product_id, product_name, category, discounted_price, actual_price, discount_percentage, about_product]\n",
       "Index: []"
      ]
     },
     "metadata": {},
     "output_type": "display_data"
    },
    {
     "data": {
      "image/png": "[encoded data removed]",
      "text/plain": [
       "<Figure size 1000x500 with 1 Axes>"
      ]
     },
     "metadata": {},
     "output_type": "display_data"
    },
    {
     "data": {
      "image/png": "[encoded data removed]",
      "text/plain": [
       "<Figure size 1000x500 with 1 Axes>"
      ]
     },
     "metadata": {},
     "output_type": "display_data"
    }
   ],
   "source": [
    "# 1. Revisar valores nulos\n",
    "print(\"Nulos en precios:\\n\", df_products[['actual_price','discounted_price']].isnull().sum())\n",
    "\n",
    "# 2. Revisar mínimos y máximos\n",
    "print(\"\\nResumen estadístico:\")\n",
    "print(df_products[['actual_price','discounted_price']].describe())\n",
    "\n",
    "# 3. Ver cuántos precios negativos o cero\n",
    "print(\"\\nPrecios <= 0:\")\n",
    "print((df_products[['actual_price','discounted_price']] <= 0).sum())\n",
    "\n",
    "# 4. Revisar absurdos: cuando el precio con descuento es mayor al original\n",
    "absurdos = df_products[df_products['discounted_price'] > df_products['actual_price']]\n",
    "print(f\"\\nAbsurdos (discounted > actual): {len(absurdos)}\")\n",
    "display(absurdos.head())\n",
    "\n",
    "# 5. Gráfico: boxplot para ver outliers\n",
    "plt.figure(figsize=(10,5))\n",
    "df_products[['actual_price','discounted_price']].boxplot()\n",
    "plt.title(\"Distribución de precios (boxplot)\")\n",
    "plt.ylabel(\"Precio\")\n",
    "plt.show()\n",
    "\n",
    "# 6. Histograma para ver rango\n",
    "df_products[['actual_price','discounted_price']].plot(kind='hist', bins=50, alpha=0.6, figsize=(10,5))\n",
    "plt.title(\"Distribución de precios (histograma)\")\n",
    "plt.xlabel(\"Precio\")\n",
    "plt.show()"
   ]
  },
  {
   "cell_type": "code",
   "execution_count": 86,
   "id": "20b8f44e",
   "metadata": {},
   "outputs": [
    {
     "name": "stdout",
     "output_type": "stream",
     "text": [
      "     product_id                                                                      product_name                                                       category  discounted_price  actual_price  discount_percentage                                                                                                                                                                                                                                                                                                                                                                                                                                                                                                                                                                                                                                                                                                                                                                                                                                                                                                                                                                                                                                                                                                                                                                            about_product  precio_fuera_rango  descuento_invalido\n",
      "249  B09WN3SRC7  Sony Bravia 164 cm (65 inches) 4K Ultra HD Smart LED Google TV KD-65X74K (Black)  Electronics|HomeTheater,TV&Video|Televisions|SmartTelevisions           77990.0      139900.0                 44.0  Resolution: 4K Ultra HD (3840 x 2160) | Refresh Rate: 60 Hertz | 178 Degree wide viewing angle|Connectivity: 3 HDMI ports to connect set top box, Blu Ray players, gaming console | 2 USB ports to connect hard drives and other USB devices|Sound : 20 Watts Output | Open Baffle Speaker| Dolby Audio | Clear Phase|Smart TV Features: Google TV | Watchlist | Voice Search | Google Play | Chromecast | Netflix | Amazon Prime Video | Additional Features: Apple Airplay | Apple Homekit |Alexa|Display: X1 4K Processor | 4K HDR | Live Colour| 4K X Reality Pro | Motion Flow XR100|Warranty Information: 1 year warranty provided by the manufacture from the date of purchase|Installation: Brand will contact for installation for this product once delivered. Contact Sony for assistance (Please visit brand website for toll free numbers) and provide product's model name and seller's details mentioned on your invoice. The service center will allot you a convenient slot for the service|Easy returns: This product is eligible for replacement within 10 days of delivery in case of any product defects, damage or features not matching the description provided                True               False\n"
     ]
    }
   ],
   "source": [
    "def detectar_precios_fuera_de_rango(df, precio_max=100000):\n",
    "    \"\"\"\n",
    "    Marca filas con precios sospechosos o descuentos inconsistentes.\n",
    "    \n",
    "    Parámetros:\n",
    "    - df: dataframe con columnas 'actual_price' y 'discounted_price'\n",
    "    - precio_max: precio máximo considerado razonable\n",
    "    \n",
    "    Retorna:\n",
    "    - df_outliers: dataframe con filas sospechosas\n",
    "    \"\"\"\n",
    "    # Precios fuera de rango\n",
    "    mask_precio = (df['actual_price'] > precio_max) | (df['discounted_price'] > precio_max)\n",
    "    \n",
    "    # Descuento negativo o descuento mayor al precio\n",
    "    mask_descuento = df['discounted_price'] > df['actual_price']\n",
    "    \n",
    "    # Combinar\n",
    "    mask_sospechoso = mask_precio | mask_descuento\n",
    "    \n",
    "    df_outliers = df[mask_sospechoso].copy()\n",
    "    df_outliers['precio_fuera_rango'] = mask_precio\n",
    "    df_outliers['descuento_invalido'] = mask_descuento\n",
    "    \n",
    "    return df_outliers\n",
    "\n",
    "# Usar la función\n",
    "df_outliers = detectar_precios_fuera_de_rango(df_products)\n",
    "print(df_outliers.to_string())\n"
   ]
  },
  {
   "cell_type": "markdown",
   "id": "8db1d76c",
   "metadata": {},
   "source": [
    "> Distribución\n",
    "- La gran mayoría de los precios (tanto actual_price como discounted_price) están concentrados en valores bajos (menores a 5,000).\n",
    "- Existen algunos outliers muy altos (por ejemplo, un actual_price de hasta 139,900 y discounted_price de hasta 77,990).\n",
    "- Esto genera una cola larga a la derecha en el histograma (distribución sesgada positivamente).\n",
    "\n",
    "> Consistencia\n",
    "- No hay nulos en los precios → ✅ limpio en ese aspecto.\n",
    "- No hay precios <= 0 → ✅ bien.\n",
    "- No hay casos absurdos (discounted_price > actual_price) → ✅ los descuentos son válidos."
   ]
  },
  {
   "cell_type": "markdown",
   "id": "99f683c7",
   "metadata": {},
   "source": [
    "- `rating_count (recuento de calificaciones) → Hay que asegurarse de no contar productos con rating_count = 0 porque no aportan.`"
   ]
  },
  {
   "cell_type": "code",
   "execution_count": 87,
   "id": "c2bce71f",
   "metadata": {},
   "outputs": [
    {
     "name": "stdout",
     "output_type": "stream",
     "text": [
      "Cantidad de filas originales: 1395\n"
     ]
    },
    {
     "data": {
      "image/png": "[encoded data removed]",
      "text/plain": [
       "<Figure size 1000x500 with 1 Axes>"
      ]
     },
     "metadata": {},
     "output_type": "display_data"
    },
    {
     "name": "stdout",
     "output_type": "stream",
     "text": [
      "count      1395.000000\n",
      "mean      18489.407885\n",
      "std       43569.749100\n",
      "min           0.000000\n",
      "25%        1168.000000\n",
      "50%        5036.000000\n",
      "75%       17403.500000\n",
      "max      426973.000000\n",
      "Name: rating_count, dtype: float64\n"
     ]
    }
   ],
   "source": [
    "# 1. Cantidad de filas antes de filtrar\n",
    "print(\"Cantidad de filas originales:\", len(df_reviews))\n",
    "\n",
    "# 2. Histograma para revisar distribución de rating_count\n",
    "import matplotlib.pyplot as plt\n",
    "import seaborn as sns\n",
    "\n",
    "plt.figure(figsize=(10,5))\n",
    "sns.histplot(df_reviews['rating_count'], bins=30, kde=False)\n",
    "plt.title(\"Distribución de rating_count\")\n",
    "plt.xlabel(\"Número de reseñas por producto\")\n",
    "plt.ylabel(\"Cantidad de productos\")\n",
    "plt.show()\n",
    "\n",
    "# 3. Revisar estadísticas descriptivas\n",
    "print(df_reviews['rating_count'].describe())\n"
   ]
  },
  {
   "cell_type": "markdown",
   "id": "3a886892",
   "metadata": {},
   "source": [
    "> Distribución\n",
    "- La gran mayoría de productos tienen pocas reseñas (entre 0 y unos cientos).\n",
    "- Hay una cola muy larga hacia la derecha, con productos que llegan a tener cientos de miles de reseñas → esto es típico de distribuciones de popularidad (pocos productos muy populares concentran la mayoría de reseñas).\n",
    "- Es una distribución altamente sesgada positivamente (right-skewed).\n",
    "\n",
    "> Estadísticos\n",
    "\n",
    "- Mínimo: 0 (2 productos sin reseñas).\n",
    "- Mediana (50%): 4,736 → La mitad de los productos tiene ≤ 4,736 reseñas.\n",
    "- Media (≈ 17,600): mucho más alta que la mediana → hay outliers que inflan el promedio.\n",
    "- Máximo: 426,973 → un producto extremadamente popular.\n",
    "- Desviación estándar (≈ 42,120): enorme en relación a la media → confirma la presencia de outliers."
   ]
  },
  {
   "cell_type": "markdown",
   "id": "77264ea9",
   "metadata": {},
   "source": [
    "# Unión de tablas "
   ]
  },
  {
   "cell_type": "code",
   "execution_count": 88,
   "id": "0e1adcf8",
   "metadata": {},
   "outputs": [
    {
     "name": "stdout",
     "output_type": "stream",
     "text": [
      "(1395, 10)\n"
     ]
    },
    {
     "data": {
      "text/html": [
       "<div>\n",
       "<style scoped>\n",
       "    .dataframe tbody tr th:only-of-type {\n",
       "        vertical-align: middle;\n",
       "    }\n",
       "\n",
       "    .dataframe tbody tr th {\n",
       "        vertical-align: top;\n",
       "    }\n",
       "\n",
       "    .dataframe thead th {\n",
       "        text-align: right;\n",
       "    }\n",
       "</style>\n",
       "<table border=\"1\" class=\"dataframe\">\n",
       "  <thead>\n",
       "    <tr style=\"text-align: right;\">\n",
       "      <th></th>\n",
       "      <th>product_id</th>\n",
       "      <th>product_name</th>\n",
       "      <th>category</th>\n",
       "      <th>discounted_price</th>\n",
       "      <th>actual_price</th>\n",
       "      <th>discount_percentage</th>\n",
       "      <th>rating</th>\n",
       "      <th>rating_count</th>\n",
       "      <th>review_title</th>\n",
       "      <th>review_content</th>\n",
       "    </tr>\n",
       "  </thead>\n",
       "  <tbody>\n",
       "    <tr>\n",
       "      <th>0</th>\n",
       "      <td>B00URH5E34</td>\n",
       "      <td>Inventis 5V 1.2W Portable Flexible USB LED Lig...</td>\n",
       "      <td>Computers&amp;Accessories|Accessories&amp;Peripherals|...</td>\n",
       "      <td>39.00</td>\n",
       "      <td>39.0</td>\n",
       "      <td>0.0</td>\n",
       "      <td>3.6</td>\n",
       "      <td>13572</td>\n",
       "      <td>it worked properly for almost one year,ok,USB ...</td>\n",
       "      <td>very good product, very bright, easy to use, i...</td>\n",
       "    </tr>\n",
       "    <tr>\n",
       "      <th>1</th>\n",
       "      <td>B00MFPCY5C</td>\n",
       "      <td>GIZGA essentials Universal Silicone Keyboard P...</td>\n",
       "      <td>Computers&amp;Accessories|Accessories&amp;Peripherals|...</td>\n",
       "      <td>39.00</td>\n",
       "      <td>299.0</td>\n",
       "      <td>87.0</td>\n",
       "      <td>3.5</td>\n",
       "      <td>15233</td>\n",
       "      <td>Good,Affordable and best,Check the size !,valu...</td>\n",
       "      <td>Value for money,Grt product,Please ensure the ...</td>\n",
       "    </tr>\n",
       "    <tr>\n",
       "      <th>2</th>\n",
       "      <td>B08TDJ5BVF</td>\n",
       "      <td>E-COSMOS 5V 1.2W Portable Flexible USB LED Lig...</td>\n",
       "      <td>Computers&amp;Accessories|Accessories&amp;Peripherals|...</td>\n",
       "      <td>39.00</td>\n",
       "      <td>39.0</td>\n",
       "      <td>0.0</td>\n",
       "      <td>3.8</td>\n",
       "      <td>3344</td>\n",
       "      <td>Lighting,TINY &amp; USEFUL.,Fair product,Worth for...</td>\n",
       "      <td>Recieved a wrong color.. But ok..,Simple and Q...</td>\n",
       "    </tr>\n",
       "    <tr>\n",
       "      <th>3</th>\n",
       "      <td>B07KCMR8D6</td>\n",
       "      <td>Classmate Octane Neon- Blue Gel Pens(Pack of 5...</td>\n",
       "      <td>OfficeProducts|OfficePaperProducts|Paper|Stati...</td>\n",
       "      <td>50.00</td>\n",
       "      <td>50.0</td>\n",
       "      <td>0.0</td>\n",
       "      <td>4.3</td>\n",
       "      <td>5792</td>\n",
       "      <td>Nice ball pen,Good product,Average,Nice Pen,It...</td>\n",
       "      <td>Very nice ball pen,Thank you Amazon,Easy to ho...</td>\n",
       "    </tr>\n",
       "    <tr>\n",
       "      <th>4</th>\n",
       "      <td>B0B3MQXNFB</td>\n",
       "      <td>FLiX (Beetel Flow USB to Micro USB PVC Data Sy...</td>\n",
       "      <td>Computers&amp;Accessories|Accessories&amp;Peripherals|...</td>\n",
       "      <td>57.89</td>\n",
       "      <td>199.0</td>\n",
       "      <td>71.0</td>\n",
       "      <td>4.0</td>\n",
       "      <td>9378</td>\n",
       "      <td>Worked on iPhone 7 and didn’t work on XR,Good ...</td>\n",
       "      <td>Worked on iPhone 7 and didn’t work on iPhone X...</td>\n",
       "    </tr>\n",
       "  </tbody>\n",
       "</table>\n",
       "</div>"
      ],
      "text/plain": [
       "   product_id                                       product_name  \\\n",
       "0  B00URH5E34  Inventis 5V 1.2W Portable Flexible USB LED Lig...   \n",
       "1  B00MFPCY5C  GIZGA essentials Universal Silicone Keyboard P...   \n",
       "2  B08TDJ5BVF  E-COSMOS 5V 1.2W Portable Flexible USB LED Lig...   \n",
       "3  B07KCMR8D6  Classmate Octane Neon- Blue Gel Pens(Pack of 5...   \n",
       "4  B0B3MQXNFB  FLiX (Beetel Flow USB to Micro USB PVC Data Sy...   \n",
       "\n",
       "                                            category  discounted_price  \\\n",
       "0  Computers&Accessories|Accessories&Peripherals|...             39.00   \n",
       "1  Computers&Accessories|Accessories&Peripherals|...             39.00   \n",
       "2  Computers&Accessories|Accessories&Peripherals|...             39.00   \n",
       "3  OfficeProducts|OfficePaperProducts|Paper|Stati...             50.00   \n",
       "4  Computers&Accessories|Accessories&Peripherals|...             57.89   \n",
       "\n",
       "   actual_price  discount_percentage  rating  rating_count  \\\n",
       "0          39.0                  0.0     3.6         13572   \n",
       "1         299.0                 87.0     3.5         15233   \n",
       "2          39.0                  0.0     3.8          3344   \n",
       "3          50.0                  0.0     4.3          5792   \n",
       "4         199.0                 71.0     4.0          9378   \n",
       "\n",
       "                                        review_title  \\\n",
       "0  it worked properly for almost one year,ok,USB ...   \n",
       "1  Good,Affordable and best,Check the size !,valu...   \n",
       "2  Lighting,TINY & USEFUL.,Fair product,Worth for...   \n",
       "3  Nice ball pen,Good product,Average,Nice Pen,It...   \n",
       "4  Worked on iPhone 7 and didn’t work on XR,Good ...   \n",
       "\n",
       "                                      review_content  \n",
       "0  very good product, very bright, easy to use, i...  \n",
       "1  Value for money,Grt product,Please ensure the ...  \n",
       "2  Recieved a wrong color.. But ok..,Simple and Q...  \n",
       "3  Very nice ball pen,Thank you Amazon,Easy to ho...  \n",
       "4  Worked on iPhone 7 and didn’t work on iPhone X...  "
      ]
     },
     "execution_count": 88,
     "metadata": {},
     "output_type": "execute_result"
    }
   ],
   "source": [
    "df_merged = pd.merge(\n",
    "    df_products[['product_id','product_name','category','discounted_price','actual_price','discount_percentage']],\n",
    "    df_reviews[['product_id','rating','rating_count','review_title','review_content']],\n",
    "    on='product_id',\n",
    "    how='inner'  # solo productos que estén en ambos\n",
    ")\n",
    "\n",
    "print(df_merged.shape)\n",
    "df_merged.head()\n"
   ]
  },
  {
   "cell_type": "markdown",
   "id": "715f5276",
   "metadata": {},
   "source": [
    "Viendo las categorías se decidió agregar una columna nueva donde solo tengamos la categoría principal de cada producto, además de todas las subcategorías como actualmente se tiene "
   ]
  },
  {
   "cell_type": "code",
   "execution_count": 89,
   "id": "89a6ccc1",
   "metadata": {},
   "outputs": [],
   "source": [
    "# Crear columna con la categoría principal (primer nivel antes del primer \"|\")\n",
    "df_merged[\"category_main\"] = df_merged[\"category\"].str.split(\"|\").str[0]\n"
   ]
  },
  {
   "cell_type": "code",
   "execution_count": 90,
   "id": "f23d68d6",
   "metadata": {},
   "outputs": [],
   "source": [
    "# Crear otra columna para obtener marca a partir de product_name, extraer marca como primer palabra del product_name\n",
    "df_merged['brand'] = df_merged['product_name'].str.split().str[0]"
   ]
  },
  {
   "cell_type": "code",
   "execution_count": 91,
   "id": "b0fc3e24",
   "metadata": {},
   "outputs": [
    {
     "name": "stdout",
     "output_type": "stream",
     "text": [
      "brand\n",
      "boAt            63\n",
      "Samsung         35\n",
      "AmazonBasics    29\n",
      "Fire-Boltt      26\n",
      "Bajaj           26\n",
      "Redmi           26\n",
      "Amazon          24\n",
      "Wayona          23\n",
      "Noise           23\n",
      "Portronics      22\n",
      "HP              20\n",
      "Havells         19\n",
      "Ambrane         19\n",
      "Philips         18\n",
      "MI              18\n",
      "SanDisk         17\n",
      "Zebronics       16\n",
      "Duracell        15\n",
      "Crompton        15\n",
      "TP-Link         15\n",
      "Name: count, dtype: int64\n"
     ]
    }
   ],
   "source": [
    "# Revisar los top 20 valores únicos\n",
    "print(df_merged['brand'].value_counts().head(20))"
   ]
  },
  {
   "cell_type": "code",
   "execution_count": 92,
   "id": "a002c1a8",
   "metadata": {},
   "outputs": [
    {
     "data": {
      "text/plain": [
       "(1395, 12)"
      ]
     },
     "execution_count": 92,
     "metadata": {},
     "output_type": "execute_result"
    }
   ],
   "source": [
    "df_merged.shape"
   ]
  },
  {
   "cell_type": "markdown",
   "id": "ab8d27e5",
   "metadata": {},
   "source": [
    "## Guardo mis versiones limpias y la unión de tablas"
   ]
  },
  {
   "cell_type": "code",
   "execution_count": 93,
   "id": "0f014fa5",
   "metadata": {},
   "outputs": [
    {
     "ename": "OSError",
     "evalue": "[Errno 22] Invalid argument: '../data_limpia/reseñas_limpias.csv'",
     "output_type": "error",
     "traceback": [
      "\u001b[31m---------------------------------------------------------------------------\u001b[39m",
      "\u001b[31mOSError\u001b[39m                                   Traceback (most recent call last)",
      "\u001b[36mCell\u001b[39m\u001b[36m \u001b[39m\u001b[32mIn[93]\u001b[39m\u001b[32m, line 10\u001b[39m\n\u001b[32m      7\u001b[39m df_products.to_csv(\u001b[33m\"\u001b[39m\u001b[33m../data_limpia/productos_limpios.csv\u001b[39m\u001b[33m\"\u001b[39m, index=\u001b[38;5;28;01mFalse\u001b[39;00m, encoding=\u001b[33m\"\u001b[39m\u001b[33mutf-8\u001b[39m\u001b[33m\"\u001b[39m)\n\u001b[32m      9\u001b[39m \u001b[38;5;66;03m# Guardar reseñas limpias\u001b[39;00m\n\u001b[32m---> \u001b[39m\u001b[32m10\u001b[39m \u001b[43mdf_reviews\u001b[49m\u001b[43m.\u001b[49m\u001b[43mto_csv\u001b[49m\u001b[43m(\u001b[49m\u001b[33;43m\"\u001b[39;49m\u001b[33;43m../data_limpia/reseñas_limpias.csv\u001b[39;49m\u001b[33;43m\"\u001b[39;49m\u001b[43m,\u001b[49m\u001b[43m \u001b[49m\u001b[43mindex\u001b[49m\u001b[43m=\u001b[49m\u001b[38;5;28;43;01mFalse\u001b[39;49;00m\u001b[43m,\u001b[49m\u001b[43m \u001b[49m\u001b[43mencoding\u001b[49m\u001b[43m=\u001b[49m\u001b[33;43m\"\u001b[39;49m\u001b[33;43mutf-8\u001b[39;49m\u001b[33;43m\"\u001b[39;49m\u001b[43m)\u001b[49m\n\u001b[32m     12\u001b[39m \u001b[38;5;66;03m# Guardar tabla combinada\u001b[39;00m\n\u001b[32m     13\u001b[39m df_merged.to_csv(\u001b[33m\"\u001b[39m\u001b[33m../data_limpia/productos_reseñas.csv\u001b[39m\u001b[33m\"\u001b[39m, index=\u001b[38;5;28;01mFalse\u001b[39;00m, encoding=\u001b[33m\"\u001b[39m\u001b[33mutf-8\u001b[39m\u001b[33m\"\u001b[39m)\n",
      "\u001b[36mFile \u001b[39m\u001b[32mc:\\Users\\Giselle\\Documents\\Giselle\\Laboratoria\\Proyecto 3\\DataLab-Amazon-dataset\\venv\\Lib\\site-packages\\pandas\\util\\_decorators.py:333\u001b[39m, in \u001b[36mdeprecate_nonkeyword_arguments.<locals>.decorate.<locals>.wrapper\u001b[39m\u001b[34m(*args, **kwargs)\u001b[39m\n\u001b[32m    327\u001b[39m \u001b[38;5;28;01mif\u001b[39;00m \u001b[38;5;28mlen\u001b[39m(args) > num_allow_args:\n\u001b[32m    328\u001b[39m     warnings.warn(\n\u001b[32m    329\u001b[39m         msg.format(arguments=_format_argument_list(allow_args)),\n\u001b[32m    330\u001b[39m         \u001b[38;5;167;01mFutureWarning\u001b[39;00m,\n\u001b[32m    331\u001b[39m         stacklevel=find_stack_level(),\n\u001b[32m    332\u001b[39m     )\n\u001b[32m--> \u001b[39m\u001b[32m333\u001b[39m \u001b[38;5;28;01mreturn\u001b[39;00m \u001b[43mfunc\u001b[49m\u001b[43m(\u001b[49m\u001b[43m*\u001b[49m\u001b[43margs\u001b[49m\u001b[43m,\u001b[49m\u001b[43m \u001b[49m\u001b[43m*\u001b[49m\u001b[43m*\u001b[49m\u001b[43mkwargs\u001b[49m\u001b[43m)\u001b[49m\n",
      "\u001b[36mFile \u001b[39m\u001b[32mc:\\Users\\Giselle\\Documents\\Giselle\\Laboratoria\\Proyecto 3\\DataLab-Amazon-dataset\\venv\\Lib\\site-packages\\pandas\\core\\generic.py:3986\u001b[39m, in \u001b[36mNDFrame.to_csv\u001b[39m\u001b[34m(self, path_or_buf, sep, na_rep, float_format, columns, header, index, index_label, mode, encoding, compression, quoting, quotechar, lineterminator, chunksize, date_format, doublequote, escapechar, decimal, errors, storage_options)\u001b[39m\n\u001b[32m   3975\u001b[39m df = \u001b[38;5;28mself\u001b[39m \u001b[38;5;28;01mif\u001b[39;00m \u001b[38;5;28misinstance\u001b[39m(\u001b[38;5;28mself\u001b[39m, ABCDataFrame) \u001b[38;5;28;01melse\u001b[39;00m \u001b[38;5;28mself\u001b[39m.to_frame()\n\u001b[32m   3977\u001b[39m formatter = DataFrameFormatter(\n\u001b[32m   3978\u001b[39m     frame=df,\n\u001b[32m   3979\u001b[39m     header=header,\n\u001b[32m   (...)\u001b[39m\u001b[32m   3983\u001b[39m     decimal=decimal,\n\u001b[32m   3984\u001b[39m )\n\u001b[32m-> \u001b[39m\u001b[32m3986\u001b[39m \u001b[38;5;28;01mreturn\u001b[39;00m \u001b[43mDataFrameRenderer\u001b[49m\u001b[43m(\u001b[49m\u001b[43mformatter\u001b[49m\u001b[43m)\u001b[49m\u001b[43m.\u001b[49m\u001b[43mto_csv\u001b[49m\u001b[43m(\u001b[49m\n\u001b[32m   3987\u001b[39m \u001b[43m    \u001b[49m\u001b[43mpath_or_buf\u001b[49m\u001b[43m,\u001b[49m\n\u001b[32m   3988\u001b[39m \u001b[43m    \u001b[49m\u001b[43mlineterminator\u001b[49m\u001b[43m=\u001b[49m\u001b[43mlineterminator\u001b[49m\u001b[43m,\u001b[49m\n\u001b[32m   3989\u001b[39m \u001b[43m    \u001b[49m\u001b[43msep\u001b[49m\u001b[43m=\u001b[49m\u001b[43msep\u001b[49m\u001b[43m,\u001b[49m\n\u001b[32m   3990\u001b[39m \u001b[43m    \u001b[49m\u001b[43mencoding\u001b[49m\u001b[43m=\u001b[49m\u001b[43mencoding\u001b[49m\u001b[43m,\u001b[49m\n\u001b[32m   3991\u001b[39m \u001b[43m    \u001b[49m\u001b[43merrors\u001b[49m\u001b[43m=\u001b[49m\u001b[43merrors\u001b[49m\u001b[43m,\u001b[49m\n\u001b[32m   3992\u001b[39m \u001b[43m    \u001b[49m\u001b[43mcompression\u001b[49m\u001b[43m=\u001b[49m\u001b[43mcompression\u001b[49m\u001b[43m,\u001b[49m\n\u001b[32m   3993\u001b[39m \u001b[43m    \u001b[49m\u001b[43mquoting\u001b[49m\u001b[43m=\u001b[49m\u001b[43mquoting\u001b[49m\u001b[43m,\u001b[49m\n\u001b[32m   3994\u001b[39m \u001b[43m    \u001b[49m\u001b[43mcolumns\u001b[49m\u001b[43m=\u001b[49m\u001b[43mcolumns\u001b[49m\u001b[43m,\u001b[49m\n\u001b[32m   3995\u001b[39m \u001b[43m    \u001b[49m\u001b[43mindex_label\u001b[49m\u001b[43m=\u001b[49m\u001b[43mindex_label\u001b[49m\u001b[43m,\u001b[49m\n\u001b[32m   3996\u001b[39m \u001b[43m    \u001b[49m\u001b[43mmode\u001b[49m\u001b[43m=\u001b[49m\u001b[43mmode\u001b[49m\u001b[43m,\u001b[49m\n\u001b[32m   3997\u001b[39m \u001b[43m    \u001b[49m\u001b[43mchunksize\u001b[49m\u001b[43m=\u001b[49m\u001b[43mchunksize\u001b[49m\u001b[43m,\u001b[49m\n\u001b[32m   3998\u001b[39m \u001b[43m    \u001b[49m\u001b[43mquotechar\u001b[49m\u001b[43m=\u001b[49m\u001b[43mquotechar\u001b[49m\u001b[43m,\u001b[49m\n\u001b[32m   3999\u001b[39m \u001b[43m    \u001b[49m\u001b[43mdate_format\u001b[49m\u001b[43m=\u001b[49m\u001b[43mdate_format\u001b[49m\u001b[43m,\u001b[49m\n\u001b[32m   4000\u001b[39m \u001b[43m    \u001b[49m\u001b[43mdoublequote\u001b[49m\u001b[43m=\u001b[49m\u001b[43mdoublequote\u001b[49m\u001b[43m,\u001b[49m\n\u001b[32m   4001\u001b[39m \u001b[43m    \u001b[49m\u001b[43mescapechar\u001b[49m\u001b[43m=\u001b[49m\u001b[43mescapechar\u001b[49m\u001b[43m,\u001b[49m\n\u001b[32m   4002\u001b[39m \u001b[43m    \u001b[49m\u001b[43mstorage_options\u001b[49m\u001b[43m=\u001b[49m\u001b[43mstorage_options\u001b[49m\u001b[43m,\u001b[49m\n\u001b[32m   4003\u001b[39m \u001b[43m\u001b[49m\u001b[43m)\u001b[49m\n",
      "\u001b[36mFile \u001b[39m\u001b[32mc:\\Users\\Giselle\\Documents\\Giselle\\Laboratoria\\Proyecto 3\\DataLab-Amazon-dataset\\venv\\Lib\\site-packages\\pandas\\io\\formats\\format.py:1014\u001b[39m, in \u001b[36mDataFrameRenderer.to_csv\u001b[39m\u001b[34m(self, path_or_buf, encoding, sep, columns, index_label, mode, compression, quoting, quotechar, lineterminator, chunksize, date_format, doublequote, escapechar, errors, storage_options)\u001b[39m\n\u001b[32m    993\u001b[39m     created_buffer = \u001b[38;5;28;01mFalse\u001b[39;00m\n\u001b[32m    995\u001b[39m csv_formatter = CSVFormatter(\n\u001b[32m    996\u001b[39m     path_or_buf=path_or_buf,\n\u001b[32m    997\u001b[39m     lineterminator=lineterminator,\n\u001b[32m   (...)\u001b[39m\u001b[32m   1012\u001b[39m     formatter=\u001b[38;5;28mself\u001b[39m.fmt,\n\u001b[32m   1013\u001b[39m )\n\u001b[32m-> \u001b[39m\u001b[32m1014\u001b[39m \u001b[43mcsv_formatter\u001b[49m\u001b[43m.\u001b[49m\u001b[43msave\u001b[49m\u001b[43m(\u001b[49m\u001b[43m)\u001b[49m\n\u001b[32m   1016\u001b[39m \u001b[38;5;28;01mif\u001b[39;00m created_buffer:\n\u001b[32m   1017\u001b[39m     \u001b[38;5;28;01massert\u001b[39;00m \u001b[38;5;28misinstance\u001b[39m(path_or_buf, StringIO)\n",
      "\u001b[36mFile \u001b[39m\u001b[32mc:\\Users\\Giselle\\Documents\\Giselle\\Laboratoria\\Proyecto 3\\DataLab-Amazon-dataset\\venv\\Lib\\site-packages\\pandas\\io\\formats\\csvs.py:251\u001b[39m, in \u001b[36mCSVFormatter.save\u001b[39m\u001b[34m(self)\u001b[39m\n\u001b[32m    247\u001b[39m \u001b[38;5;250m\u001b[39m\u001b[33;03m\"\"\"\u001b[39;00m\n\u001b[32m    248\u001b[39m \u001b[33;03mCreate the writer & save.\u001b[39;00m\n\u001b[32m    249\u001b[39m \u001b[33;03m\"\"\"\u001b[39;00m\n\u001b[32m    250\u001b[39m \u001b[38;5;66;03m# apply compression and byte/text conversion\u001b[39;00m\n\u001b[32m--> \u001b[39m\u001b[32m251\u001b[39m \u001b[38;5;28;01mwith\u001b[39;00m \u001b[43mget_handle\u001b[49m\u001b[43m(\u001b[49m\n\u001b[32m    252\u001b[39m \u001b[43m    \u001b[49m\u001b[38;5;28;43mself\u001b[39;49m\u001b[43m.\u001b[49m\u001b[43mfilepath_or_buffer\u001b[49m\u001b[43m,\u001b[49m\n\u001b[32m    253\u001b[39m \u001b[43m    \u001b[49m\u001b[38;5;28;43mself\u001b[39;49m\u001b[43m.\u001b[49m\u001b[43mmode\u001b[49m\u001b[43m,\u001b[49m\n\u001b[32m    254\u001b[39m \u001b[43m    \u001b[49m\u001b[43mencoding\u001b[49m\u001b[43m=\u001b[49m\u001b[38;5;28;43mself\u001b[39;49m\u001b[43m.\u001b[49m\u001b[43mencoding\u001b[49m\u001b[43m,\u001b[49m\n\u001b[32m    255\u001b[39m \u001b[43m    \u001b[49m\u001b[43merrors\u001b[49m\u001b[43m=\u001b[49m\u001b[38;5;28;43mself\u001b[39;49m\u001b[43m.\u001b[49m\u001b[43merrors\u001b[49m\u001b[43m,\u001b[49m\n\u001b[32m    256\u001b[39m \u001b[43m    \u001b[49m\u001b[43mcompression\u001b[49m\u001b[43m=\u001b[49m\u001b[38;5;28;43mself\u001b[39;49m\u001b[43m.\u001b[49m\u001b[43mcompression\u001b[49m\u001b[43m,\u001b[49m\n\u001b[32m    257\u001b[39m \u001b[43m    \u001b[49m\u001b[43mstorage_options\u001b[49m\u001b[43m=\u001b[49m\u001b[38;5;28;43mself\u001b[39;49m\u001b[43m.\u001b[49m\u001b[43mstorage_options\u001b[49m\u001b[43m,\u001b[49m\n\u001b[32m    258\u001b[39m \u001b[43m\u001b[49m\u001b[43m)\u001b[49m \u001b[38;5;28;01mas\u001b[39;00m handles:\n\u001b[32m    259\u001b[39m     \u001b[38;5;66;03m# Note: self.encoding is irrelevant here\u001b[39;00m\n\u001b[32m    260\u001b[39m     \u001b[38;5;28mself\u001b[39m.writer = csvlib.writer(\n\u001b[32m    261\u001b[39m         handles.handle,\n\u001b[32m    262\u001b[39m         lineterminator=\u001b[38;5;28mself\u001b[39m.lineterminator,\n\u001b[32m   (...)\u001b[39m\u001b[32m    267\u001b[39m         quotechar=\u001b[38;5;28mself\u001b[39m.quotechar,\n\u001b[32m    268\u001b[39m     )\n\u001b[32m    270\u001b[39m     \u001b[38;5;28mself\u001b[39m._save()\n",
      "\u001b[36mFile \u001b[39m\u001b[32mc:\\Users\\Giselle\\Documents\\Giselle\\Laboratoria\\Proyecto 3\\DataLab-Amazon-dataset\\venv\\Lib\\site-packages\\pandas\\io\\common.py:873\u001b[39m, in \u001b[36mget_handle\u001b[39m\u001b[34m(path_or_buf, mode, encoding, compression, memory_map, is_text, errors, storage_options)\u001b[39m\n\u001b[32m    868\u001b[39m \u001b[38;5;28;01melif\u001b[39;00m \u001b[38;5;28misinstance\u001b[39m(handle, \u001b[38;5;28mstr\u001b[39m):\n\u001b[32m    869\u001b[39m     \u001b[38;5;66;03m# Check whether the filename is to be opened in binary mode.\u001b[39;00m\n\u001b[32m    870\u001b[39m     \u001b[38;5;66;03m# Binary mode does not support 'encoding' and 'newline'.\u001b[39;00m\n\u001b[32m    871\u001b[39m     \u001b[38;5;28;01mif\u001b[39;00m ioargs.encoding \u001b[38;5;129;01mand\u001b[39;00m \u001b[33m\"\u001b[39m\u001b[33mb\u001b[39m\u001b[33m\"\u001b[39m \u001b[38;5;129;01mnot\u001b[39;00m \u001b[38;5;129;01min\u001b[39;00m ioargs.mode:\n\u001b[32m    872\u001b[39m         \u001b[38;5;66;03m# Encoding\u001b[39;00m\n\u001b[32m--> \u001b[39m\u001b[32m873\u001b[39m         handle = \u001b[38;5;28;43mopen\u001b[39;49m\u001b[43m(\u001b[49m\n\u001b[32m    874\u001b[39m \u001b[43m            \u001b[49m\u001b[43mhandle\u001b[49m\u001b[43m,\u001b[49m\n\u001b[32m    875\u001b[39m \u001b[43m            \u001b[49m\u001b[43mioargs\u001b[49m\u001b[43m.\u001b[49m\u001b[43mmode\u001b[49m\u001b[43m,\u001b[49m\n\u001b[32m    876\u001b[39m \u001b[43m            \u001b[49m\u001b[43mencoding\u001b[49m\u001b[43m=\u001b[49m\u001b[43mioargs\u001b[49m\u001b[43m.\u001b[49m\u001b[43mencoding\u001b[49m\u001b[43m,\u001b[49m\n\u001b[32m    877\u001b[39m \u001b[43m            \u001b[49m\u001b[43merrors\u001b[49m\u001b[43m=\u001b[49m\u001b[43merrors\u001b[49m\u001b[43m,\u001b[49m\n\u001b[32m    878\u001b[39m \u001b[43m            \u001b[49m\u001b[43mnewline\u001b[49m\u001b[43m=\u001b[49m\u001b[33;43m\"\u001b[39;49m\u001b[33;43m\"\u001b[39;49m\u001b[43m,\u001b[49m\n\u001b[32m    879\u001b[39m \u001b[43m        \u001b[49m\u001b[43m)\u001b[49m\n\u001b[32m    880\u001b[39m     \u001b[38;5;28;01melse\u001b[39;00m:\n\u001b[32m    881\u001b[39m         \u001b[38;5;66;03m# Binary mode\u001b[39;00m\n\u001b[32m    882\u001b[39m         handle = \u001b[38;5;28mopen\u001b[39m(handle, ioargs.mode)\n",
      "\u001b[31mOSError\u001b[39m: [Errno 22] Invalid argument: '../data_limpia/reseñas_limpias.csv'"
     ]
    }
   ],
   "source": [
    "import os\n",
    "\n",
    "# Crear carpeta si no existe\n",
    "os.makedirs(\"../data_limpia\", exist_ok=True)\n",
    "\n",
    "# Guardar productos limpios\n",
    "df_products.to_csv(\"../data_limpia/productos_limpios.csv\", index=False, encoding=\"utf-8\")\n",
    "\n",
    "# Guardar reseñas limpias\n",
    "df_reviews.to_csv(\"../data_limpia/reseñas_limpias.csv\", index=False, encoding=\"utf-8\")\n",
    "\n",
    "# Guardar tabla combinada\n",
    "df_merged.to_csv(\"../data_limpia/productos_reseñas.csv\", index=False, encoding=\"utf-8\")"
   ]
  },
  {
   "cell_type": "markdown",
   "id": "fd5a050b",
   "metadata": {},
   "source": [
    "# **Análisis exploratorio**"
   ]
  },
  {
   "cell_type": "code",
   "execution_count": null,
   "id": "26cfb62b",
   "metadata": {},
   "outputs": [
    {
     "name": "stdout",
     "output_type": "stream",
     "text": [
      "Dimensiones del dataset: (1351, 12)\n",
      "\n",
      "Tipos de datos y nulos:\n",
      "<class 'pandas.core.frame.DataFrame'>\n",
      "RangeIndex: 1351 entries, 0 to 1350\n",
      "Data columns (total 12 columns):\n",
      " #   Column               Non-Null Count  Dtype  \n",
      "---  ------               --------------  -----  \n",
      " 0   product_id           1351 non-null   object \n",
      " 1   product_name         1351 non-null   object \n",
      " 2   category             1351 non-null   object \n",
      " 3   discounted_price     1351 non-null   float64\n",
      " 4   actual_price         1351 non-null   float64\n",
      " 5   discount_percentage  1351 non-null   float64\n",
      " 6   rating               1350 non-null   float64\n",
      " 7   rating_count         1351 non-null   int64  \n",
      " 8   review_title         1351 non-null   object \n",
      " 9   review_content       1351 non-null   object \n",
      " 10  category_main        1351 non-null   object \n",
      " 11  brand                1351 non-null   object \n",
      "dtypes: float64(4), int64(1), object(7)\n",
      "memory usage: 126.8+ KB\n",
      "None\n",
      "\n",
      "Resumen estadístico (numéricas):\n",
      "       discounted_price   actual_price  discount_percentage       rating  \\\n",
      "count       1351.000000    1351.000000          1351.000000  1350.000000   \n",
      "mean        3304.587098    5690.510452            46.681717     4.091852   \n",
      "std         7174.024934   11218.918302            21.624149     0.297444   \n",
      "min           39.000000      39.000000             0.000000     2.000000   \n",
      "25%          349.000000     899.000000            31.000000     3.900000   \n",
      "50%          899.000000    1790.000000            49.000000     4.100000   \n",
      "75%         2174.000000    4575.000000            62.000000     4.300000   \n",
      "max        77990.000000  139900.000000            94.000000     5.000000   \n",
      "\n",
      "        rating_count  \n",
      "count    1351.000000  \n",
      "mean    17618.373797  \n",
      "std     42119.882419  \n",
      "min         0.000000  \n",
      "25%      1094.500000  \n",
      "50%      4736.000000  \n",
      "75%     15995.000000  \n",
      "max    426973.000000  \n"
     ]
    },
    {
     "data": {
      "image/png": "[encoded data removed]",
      "text/plain": [
       "<Figure size 600x400 with 1 Axes>"
      ]
     },
     "metadata": {},
     "output_type": "display_data"
    },
    {
     "data": {
      "image/png": "[encoded data removed]",
      "text/plain": [
       "<Figure size 600x400 with 1 Axes>"
      ]
     },
     "metadata": {},
     "output_type": "display_data"
    },
    {
     "data": {
      "image/png": "[encoded data removed]",
      "text/plain": [
       "<Figure size 600x400 with 1 Axes>"
      ]
     },
     "metadata": {},
     "output_type": "display_data"
    },
    {
     "data": {
      "image/png": "[encoded data removed]",
      "text/plain": [
       "<Figure size 600x400 with 1 Axes>"
      ]
     },
     "metadata": {},
     "output_type": "display_data"
    },
    {
     "data": {
      "image/png": "[encoded data removed]",
      "text/plain": [
       "<Figure size 1000x500 with 1 Axes>"
      ]
     },
     "metadata": {},
     "output_type": "display_data"
    },
    {
     "name": "stdout",
     "output_type": "stream",
     "text": [
      "\n",
      "Resumen por categoría (promedios y sumas):\n"
     ]
    },
    {
     "data": {
      "text/html": [
       "<div>\n",
       "<style scoped>\n",
       "    .dataframe tbody tr th:only-of-type {\n",
       "        vertical-align: middle;\n",
       "    }\n",
       "\n",
       "    .dataframe tbody tr th {\n",
       "        vertical-align: top;\n",
       "    }\n",
       "\n",
       "    .dataframe thead th {\n",
       "        text-align: right;\n",
       "    }\n",
       "</style>\n",
       "<table border=\"1\" class=\"dataframe\">\n",
       "  <thead>\n",
       "    <tr style=\"text-align: right;\">\n",
       "      <th></th>\n",
       "      <th>rating</th>\n",
       "      <th>rating_count</th>\n",
       "      <th>actual_price</th>\n",
       "      <th>discounted_price</th>\n",
       "      <th>discount_percentage</th>\n",
       "    </tr>\n",
       "    <tr>\n",
       "      <th>category_main</th>\n",
       "      <th></th>\n",
       "      <th></th>\n",
       "      <th></th>\n",
       "      <th></th>\n",
       "      <th></th>\n",
       "    </tr>\n",
       "  </thead>\n",
       "  <tbody>\n",
       "    <tr>\n",
       "      <th>OfficeProducts</th>\n",
       "      <td>4.309677</td>\n",
       "      <td>149675</td>\n",
       "      <td>397.193548</td>\n",
       "      <td>301.580645</td>\n",
       "      <td>12.354839</td>\n",
       "    </tr>\n",
       "    <tr>\n",
       "      <th>Toys&amp;Games</th>\n",
       "      <td>4.300000</td>\n",
       "      <td>15867</td>\n",
       "      <td>150.000000</td>\n",
       "      <td>150.000000</td>\n",
       "      <td>0.000000</td>\n",
       "    </tr>\n",
       "    <tr>\n",
       "      <th>HomeImprovement</th>\n",
       "      <td>4.250000</td>\n",
       "      <td>8566</td>\n",
       "      <td>799.000000</td>\n",
       "      <td>337.000000</td>\n",
       "      <td>57.500000</td>\n",
       "    </tr>\n",
       "    <tr>\n",
       "      <th>Computers&amp;Accessories</th>\n",
       "      <td>4.153867</td>\n",
       "      <td>6335177</td>\n",
       "      <td>1855.345653</td>\n",
       "      <td>947.488960</td>\n",
       "      <td>53.197333</td>\n",
       "    </tr>\n",
       "    <tr>\n",
       "      <th>Electronics</th>\n",
       "      <td>4.077755</td>\n",
       "      <td>14208406</td>\n",
       "      <td>10418.083673</td>\n",
       "      <td>6225.277551</td>\n",
       "      <td>49.916327</td>\n",
       "    </tr>\n",
       "    <tr>\n",
       "      <th>Home&amp;Kitchen</th>\n",
       "      <td>4.040716</td>\n",
       "      <td>2991069</td>\n",
       "      <td>4162.073661</td>\n",
       "      <td>2330.615647</td>\n",
       "      <td>40.120536</td>\n",
       "    </tr>\n",
       "    <tr>\n",
       "      <th>Health&amp;PersonalCare</th>\n",
       "      <td>4.000000</td>\n",
       "      <td>3663</td>\n",
       "      <td>1900.000000</td>\n",
       "      <td>899.000000</td>\n",
       "      <td>53.000000</td>\n",
       "    </tr>\n",
       "    <tr>\n",
       "      <th>MusicalInstruments</th>\n",
       "      <td>3.900000</td>\n",
       "      <td>88882</td>\n",
       "      <td>1347.000000</td>\n",
       "      <td>638.000000</td>\n",
       "      <td>46.000000</td>\n",
       "    </tr>\n",
       "    <tr>\n",
       "      <th>Car&amp;Motorbike</th>\n",
       "      <td>3.800000</td>\n",
       "      <td>1118</td>\n",
       "      <td>4000.000000</td>\n",
       "      <td>2339.000000</td>\n",
       "      <td>42.000000</td>\n",
       "    </tr>\n",
       "  </tbody>\n",
       "</table>\n",
       "</div>"
      ],
      "text/plain": [
       "                         rating  rating_count  actual_price  discounted_price  \\\n",
       "category_main                                                                   \n",
       "OfficeProducts         4.309677        149675    397.193548        301.580645   \n",
       "Toys&Games             4.300000         15867    150.000000        150.000000   \n",
       "HomeImprovement        4.250000          8566    799.000000        337.000000   \n",
       "Computers&Accessories  4.153867       6335177   1855.345653        947.488960   \n",
       "Electronics            4.077755      14208406  10418.083673       6225.277551   \n",
       "Home&Kitchen           4.040716       2991069   4162.073661       2330.615647   \n",
       "Health&PersonalCare    4.000000          3663   1900.000000        899.000000   \n",
       "MusicalInstruments     3.900000         88882   1347.000000        638.000000   \n",
       "Car&Motorbike          3.800000          1118   4000.000000       2339.000000   \n",
       "\n",
       "                       discount_percentage  \n",
       "category_main                               \n",
       "OfficeProducts                   12.354839  \n",
       "Toys&Games                        0.000000  \n",
       "HomeImprovement                  57.500000  \n",
       "Computers&Accessories            53.197333  \n",
       "Electronics                      49.916327  \n",
       "Home&Kitchen                     40.120536  \n",
       "Health&PersonalCare              53.000000  \n",
       "MusicalInstruments               46.000000  \n",
       "Car&Motorbike                    42.000000  "
      ]
     },
     "metadata": {},
     "output_type": "display_data"
    },
    {
     "data": {
      "image/png": "[encoded data removed]",
      "text/plain": [
       "<Figure size 600x400 with 1 Axes>"
      ]
     },
     "metadata": {},
     "output_type": "display_data"
    },
    {
     "data": {
      "image/png": "[encoded data removed]",
      "text/plain": [
       "<Figure size 600x400 with 1 Axes>"
      ]
     },
     "metadata": {},
     "output_type": "display_data"
    },
    {
     "data": {
      "image/png": "[encoded data removed]",
      "text/plain": [
       "<Figure size 600x400 with 1 Axes>"
      ]
     },
     "metadata": {},
     "output_type": "display_data"
    },
    {
     "name": "stdout",
     "output_type": "stream",
     "text": [
      "\n",
      "Top 10 productos mejor calificados (solo con reseñas):\n"
     ]
    },
    {
     "data": {
      "text/html": [
       "<div>\n",
       "<style scoped>\n",
       "    .dataframe tbody tr th:only-of-type {\n",
       "        vertical-align: middle;\n",
       "    }\n",
       "\n",
       "    .dataframe tbody tr th {\n",
       "        vertical-align: top;\n",
       "    }\n",
       "\n",
       "    .dataframe thead th {\n",
       "        text-align: right;\n",
       "    }\n",
       "</style>\n",
       "<table border=\"1\" class=\"dataframe\">\n",
       "  <thead>\n",
       "    <tr style=\"text-align: right;\">\n",
       "      <th></th>\n",
       "      <th>product_name</th>\n",
       "      <th>category</th>\n",
       "      <th>rating</th>\n",
       "      <th>rating_count</th>\n",
       "    </tr>\n",
       "  </thead>\n",
       "  <tbody>\n",
       "    <tr>\n",
       "      <th>479</th>\n",
       "      <td>Amazon Basics Wireless Mouse | 2.4 GHz Connect...</td>\n",
       "      <td>Computers&amp;Accessories|Accessories&amp;Peripherals|...</td>\n",
       "      <td>5.0</td>\n",
       "      <td>23</td>\n",
       "    </tr>\n",
       "    <tr>\n",
       "      <th>411</th>\n",
       "      <td>Syncwire LTG to USB Cable for Fast Charging Co...</td>\n",
       "      <td>Computers&amp;Accessories|Accessories&amp;Peripherals|...</td>\n",
       "      <td>5.0</td>\n",
       "      <td>5</td>\n",
       "    </tr>\n",
       "    <tr>\n",
       "      <th>1142</th>\n",
       "      <td>Instant Pot Air Fryer, Vortex 2QT, Touch Contr...</td>\n",
       "      <td>Home&amp;Kitchen|Kitchen&amp;HomeAppliances|SmallKitch...</td>\n",
       "      <td>4.8</td>\n",
       "      <td>3964</td>\n",
       "    </tr>\n",
       "    <tr>\n",
       "      <th>861</th>\n",
       "      <td>Swiffer Instant Electric Water Heater Faucet T...</td>\n",
       "      <td>Home&amp;Kitchen|Heating,Cooling&amp;AirQuality|WaterH...</td>\n",
       "      <td>4.8</td>\n",
       "      <td>53803</td>\n",
       "    </tr>\n",
       "    <tr>\n",
       "      <th>239</th>\n",
       "      <td>Oratech Coffee Frother electric, milk frother ...</td>\n",
       "      <td>Home&amp;Kitchen|Kitchen&amp;HomeAppliances|SmallKitch...</td>\n",
       "      <td>4.8</td>\n",
       "      <td>28</td>\n",
       "    </tr>\n",
       "    <tr>\n",
       "      <th>604</th>\n",
       "      <td>FIGMENT Handheld Milk Frother Rechargeable, 3-...</td>\n",
       "      <td>Home&amp;Kitchen|Kitchen&amp;HomeAppliances|SmallKitch...</td>\n",
       "      <td>4.7</td>\n",
       "      <td>1729</td>\n",
       "    </tr>\n",
       "    <tr>\n",
       "      <th>497</th>\n",
       "      <td>Zuvexa USB Rechargeable Electric Foam Maker - ...</td>\n",
       "      <td>Home&amp;Kitchen|Kitchen&amp;HomeAppliances|SmallKitch...</td>\n",
       "      <td>4.7</td>\n",
       "      <td>54</td>\n",
       "    </tr>\n",
       "    <tr>\n",
       "      <th>715</th>\n",
       "      <td>Spigen EZ Fit Tempered Glass Screen Protector ...</td>\n",
       "      <td>Electronics|Mobiles&amp;Accessories|MobileAccessor...</td>\n",
       "      <td>4.7</td>\n",
       "      <td>7779</td>\n",
       "    </tr>\n",
       "    <tr>\n",
       "      <th>608</th>\n",
       "      <td>Multifunctional 2 in 1 Electric Egg Boiling St...</td>\n",
       "      <td>Home&amp;Kitchen|Kitchen&amp;HomeAppliances|SmallKitch...</td>\n",
       "      <td>4.7</td>\n",
       "      <td>2300</td>\n",
       "    </tr>\n",
       "    <tr>\n",
       "      <th>1350</th>\n",
       "      <td>Sony Bravia 164 cm (65 inches) 4K Ultra HD Sma...</td>\n",
       "      <td>Electronics|HomeTheater,TV&amp;Video|Televisions|S...</td>\n",
       "      <td>4.7</td>\n",
       "      <td>5935</td>\n",
       "    </tr>\n",
       "  </tbody>\n",
       "</table>\n",
       "</div>"
      ],
      "text/plain": [
       "                                           product_name  \\\n",
       "479   Amazon Basics Wireless Mouse | 2.4 GHz Connect...   \n",
       "411   Syncwire LTG to USB Cable for Fast Charging Co...   \n",
       "1142  Instant Pot Air Fryer, Vortex 2QT, Touch Contr...   \n",
       "861   Swiffer Instant Electric Water Heater Faucet T...   \n",
       "239   Oratech Coffee Frother electric, milk frother ...   \n",
       "604   FIGMENT Handheld Milk Frother Rechargeable, 3-...   \n",
       "497   Zuvexa USB Rechargeable Electric Foam Maker - ...   \n",
       "715   Spigen EZ Fit Tempered Glass Screen Protector ...   \n",
       "608   Multifunctional 2 in 1 Electric Egg Boiling St...   \n",
       "1350  Sony Bravia 164 cm (65 inches) 4K Ultra HD Sma...   \n",
       "\n",
       "                                               category  rating  rating_count  \n",
       "479   Computers&Accessories|Accessories&Peripherals|...     5.0            23  \n",
       "411   Computers&Accessories|Accessories&Peripherals|...     5.0             5  \n",
       "1142  Home&Kitchen|Kitchen&HomeAppliances|SmallKitch...     4.8          3964  \n",
       "861   Home&Kitchen|Heating,Cooling&AirQuality|WaterH...     4.8         53803  \n",
       "239   Home&Kitchen|Kitchen&HomeAppliances|SmallKitch...     4.8            28  \n",
       "604   Home&Kitchen|Kitchen&HomeAppliances|SmallKitch...     4.7          1729  \n",
       "497   Home&Kitchen|Kitchen&HomeAppliances|SmallKitch...     4.7            54  \n",
       "715   Electronics|Mobiles&Accessories|MobileAccessor...     4.7          7779  \n",
       "608   Home&Kitchen|Kitchen&HomeAppliances|SmallKitch...     4.7          2300  \n",
       "1350  Electronics|HomeTheater,TV&Video|Televisions|S...     4.7          5935  "
      ]
     },
     "metadata": {},
     "output_type": "display_data"
    },
    {
     "name": "stdout",
     "output_type": "stream",
     "text": [
      "\n",
      "Top 10 productos con más reseñas:\n"
     ]
    },
    {
     "data": {
      "text/html": [
       "<div>\n",
       "<style scoped>\n",
       "    .dataframe tbody tr th:only-of-type {\n",
       "        vertical-align: middle;\n",
       "    }\n",
       "\n",
       "    .dataframe tbody tr th {\n",
       "        vertical-align: top;\n",
       "    }\n",
       "\n",
       "    .dataframe thead th {\n",
       "        text-align: right;\n",
       "    }\n",
       "</style>\n",
       "<table border=\"1\" class=\"dataframe\">\n",
       "  <thead>\n",
       "    <tr style=\"text-align: right;\">\n",
       "      <th></th>\n",
       "      <th>product_name</th>\n",
       "      <th>category</th>\n",
       "      <th>rating</th>\n",
       "      <th>rating_count</th>\n",
       "    </tr>\n",
       "  </thead>\n",
       "  <tbody>\n",
       "    <tr>\n",
       "      <th>305</th>\n",
       "      <td>Amazon Basics High-Speed HDMI Cable, 6 Feet - ...</td>\n",
       "      <td>Electronics|HomeTheater,TV&amp;Video|Accessories|C...</td>\n",
       "      <td>4.4</td>\n",
       "      <td>426973</td>\n",
       "    </tr>\n",
       "    <tr>\n",
       "      <th>304</th>\n",
       "      <td>Amazon Basics High-Speed HDMI Cable, 6 Feet (2...</td>\n",
       "      <td>Electronics|HomeTheater,TV&amp;Video|Accessories|C...</td>\n",
       "      <td>4.4</td>\n",
       "      <td>426973</td>\n",
       "    </tr>\n",
       "    <tr>\n",
       "      <th>177</th>\n",
       "      <td>AmazonBasics Flexible Premium HDMI Cable (Blac...</td>\n",
       "      <td>Electronics|HomeTheater,TV&amp;Video|Accessories|C...</td>\n",
       "      <td>4.4</td>\n",
       "      <td>426973</td>\n",
       "    </tr>\n",
       "    <tr>\n",
       "      <th>378</th>\n",
       "      <td>boAt Bassheads 100 in Ear Wired Earphones with...</td>\n",
       "      <td>Electronics|Headphones,Earbuds&amp;Accessories|Hea...</td>\n",
       "      <td>4.1</td>\n",
       "      <td>363713</td>\n",
       "    </tr>\n",
       "    <tr>\n",
       "      <th>339</th>\n",
       "      <td>boAt Bassheads 100 in Ear Wired Earphones with...</td>\n",
       "      <td>Electronics|Headphones,Earbuds&amp;Accessories|Hea...</td>\n",
       "      <td>4.1</td>\n",
       "      <td>363713</td>\n",
       "    </tr>\n",
       "    <tr>\n",
       "      <th>366</th>\n",
       "      <td>boAt BassHeads 100 in-Ear Wired Headphones wit...</td>\n",
       "      <td>Electronics|Headphones,Earbuds&amp;Accessories|Hea...</td>\n",
       "      <td>4.1</td>\n",
       "      <td>363711</td>\n",
       "    </tr>\n",
       "    <tr>\n",
       "      <th>1175</th>\n",
       "      <td>Redmi 9A Sport (Coral Green, 2GB RAM, 32GB Sto...</td>\n",
       "      <td>Electronics|Mobiles&amp;Accessories|Smartphones&amp;Ba...</td>\n",
       "      <td>4.1</td>\n",
       "      <td>313836</td>\n",
       "    </tr>\n",
       "    <tr>\n",
       "      <th>1204</th>\n",
       "      <td>Redmi 9 Activ (Carbon Black, 4GB RAM, 64GB Sto...</td>\n",
       "      <td>Electronics|Mobiles&amp;Accessories|Smartphones&amp;Ba...</td>\n",
       "      <td>4.1</td>\n",
       "      <td>313836</td>\n",
       "    </tr>\n",
       "    <tr>\n",
       "      <th>1194</th>\n",
       "      <td>Redmi 9A Sport (Coral Green, 3GB RAM, 32GB Sto...</td>\n",
       "      <td>Electronics|Mobiles&amp;Accessories|Smartphones&amp;Ba...</td>\n",
       "      <td>4.1</td>\n",
       "      <td>313832</td>\n",
       "    </tr>\n",
       "    <tr>\n",
       "      <th>1179</th>\n",
       "      <td>Redmi 9A Sport (Carbon Black, 2GB RAM, 32GB St...</td>\n",
       "      <td>Electronics|Mobiles&amp;Accessories|Smartphones&amp;Ba...</td>\n",
       "      <td>4.1</td>\n",
       "      <td>313832</td>\n",
       "    </tr>\n",
       "  </tbody>\n",
       "</table>\n",
       "</div>"
      ],
      "text/plain": [
       "                                           product_name  \\\n",
       "305   Amazon Basics High-Speed HDMI Cable, 6 Feet - ...   \n",
       "304   Amazon Basics High-Speed HDMI Cable, 6 Feet (2...   \n",
       "177   AmazonBasics Flexible Premium HDMI Cable (Blac...   \n",
       "378   boAt Bassheads 100 in Ear Wired Earphones with...   \n",
       "339   boAt Bassheads 100 in Ear Wired Earphones with...   \n",
       "366   boAt BassHeads 100 in-Ear Wired Headphones wit...   \n",
       "1175  Redmi 9A Sport (Coral Green, 2GB RAM, 32GB Sto...   \n",
       "1204  Redmi 9 Activ (Carbon Black, 4GB RAM, 64GB Sto...   \n",
       "1194  Redmi 9A Sport (Coral Green, 3GB RAM, 32GB Sto...   \n",
       "1179  Redmi 9A Sport (Carbon Black, 2GB RAM, 32GB St...   \n",
       "\n",
       "                                               category  rating  rating_count  \n",
       "305   Electronics|HomeTheater,TV&Video|Accessories|C...     4.4        426973  \n",
       "304   Electronics|HomeTheater,TV&Video|Accessories|C...     4.4        426973  \n",
       "177   Electronics|HomeTheater,TV&Video|Accessories|C...     4.4        426973  \n",
       "378   Electronics|Headphones,Earbuds&Accessories|Hea...     4.1        363713  \n",
       "339   Electronics|Headphones,Earbuds&Accessories|Hea...     4.1        363713  \n",
       "366   Electronics|Headphones,Earbuds&Accessories|Hea...     4.1        363711  \n",
       "1175  Electronics|Mobiles&Accessories|Smartphones&Ba...     4.1        313836  \n",
       "1204  Electronics|Mobiles&Accessories|Smartphones&Ba...     4.1        313836  \n",
       "1194  Electronics|Mobiles&Accessories|Smartphones&Ba...     4.1        313832  \n",
       "1179  Electronics|Mobiles&Accessories|Smartphones&Ba...     4.1        313832  "
      ]
     },
     "metadata": {},
     "output_type": "display_data"
    },
    {
     "name": "stdout",
     "output_type": "stream",
     "text": [
      "\n",
      "Categorías con mayor descuento promedio:\n"
     ]
    },
    {
     "data": {
      "text/html": [
       "<div>\n",
       "<style scoped>\n",
       "    .dataframe tbody tr th:only-of-type {\n",
       "        vertical-align: middle;\n",
       "    }\n",
       "\n",
       "    .dataframe tbody tr th {\n",
       "        vertical-align: top;\n",
       "    }\n",
       "\n",
       "    .dataframe thead th {\n",
       "        text-align: right;\n",
       "    }\n",
       "</style>\n",
       "<table border=\"1\" class=\"dataframe\">\n",
       "  <thead>\n",
       "    <tr style=\"text-align: right;\">\n",
       "      <th></th>\n",
       "      <th>rating</th>\n",
       "      <th>rating_count</th>\n",
       "      <th>actual_price</th>\n",
       "      <th>discounted_price</th>\n",
       "      <th>discount_percentage</th>\n",
       "    </tr>\n",
       "    <tr>\n",
       "      <th>category_main</th>\n",
       "      <th></th>\n",
       "      <th></th>\n",
       "      <th></th>\n",
       "      <th></th>\n",
       "      <th></th>\n",
       "    </tr>\n",
       "  </thead>\n",
       "  <tbody>\n",
       "    <tr>\n",
       "      <th>HomeImprovement</th>\n",
       "      <td>4.250000</td>\n",
       "      <td>8566</td>\n",
       "      <td>799.000000</td>\n",
       "      <td>337.000000</td>\n",
       "      <td>57.500000</td>\n",
       "    </tr>\n",
       "    <tr>\n",
       "      <th>Computers&amp;Accessories</th>\n",
       "      <td>4.153867</td>\n",
       "      <td>6335177</td>\n",
       "      <td>1855.345653</td>\n",
       "      <td>947.488960</td>\n",
       "      <td>53.197333</td>\n",
       "    </tr>\n",
       "    <tr>\n",
       "      <th>Health&amp;PersonalCare</th>\n",
       "      <td>4.000000</td>\n",
       "      <td>3663</td>\n",
       "      <td>1900.000000</td>\n",
       "      <td>899.000000</td>\n",
       "      <td>53.000000</td>\n",
       "    </tr>\n",
       "    <tr>\n",
       "      <th>Electronics</th>\n",
       "      <td>4.077755</td>\n",
       "      <td>14208406</td>\n",
       "      <td>10418.083673</td>\n",
       "      <td>6225.277551</td>\n",
       "      <td>49.916327</td>\n",
       "    </tr>\n",
       "    <tr>\n",
       "      <th>MusicalInstruments</th>\n",
       "      <td>3.900000</td>\n",
       "      <td>88882</td>\n",
       "      <td>1347.000000</td>\n",
       "      <td>638.000000</td>\n",
       "      <td>46.000000</td>\n",
       "    </tr>\n",
       "    <tr>\n",
       "      <th>Car&amp;Motorbike</th>\n",
       "      <td>3.800000</td>\n",
       "      <td>1118</td>\n",
       "      <td>4000.000000</td>\n",
       "      <td>2339.000000</td>\n",
       "      <td>42.000000</td>\n",
       "    </tr>\n",
       "    <tr>\n",
       "      <th>Home&amp;Kitchen</th>\n",
       "      <td>4.040716</td>\n",
       "      <td>2991069</td>\n",
       "      <td>4162.073661</td>\n",
       "      <td>2330.615647</td>\n",
       "      <td>40.120536</td>\n",
       "    </tr>\n",
       "    <tr>\n",
       "      <th>OfficeProducts</th>\n",
       "      <td>4.309677</td>\n",
       "      <td>149675</td>\n",
       "      <td>397.193548</td>\n",
       "      <td>301.580645</td>\n",
       "      <td>12.354839</td>\n",
       "    </tr>\n",
       "    <tr>\n",
       "      <th>Toys&amp;Games</th>\n",
       "      <td>4.300000</td>\n",
       "      <td>15867</td>\n",
       "      <td>150.000000</td>\n",
       "      <td>150.000000</td>\n",
       "      <td>0.000000</td>\n",
       "    </tr>\n",
       "  </tbody>\n",
       "</table>\n",
       "</div>"
      ],
      "text/plain": [
       "                         rating  rating_count  actual_price  discounted_price  \\\n",
       "category_main                                                                   \n",
       "HomeImprovement        4.250000          8566    799.000000        337.000000   \n",
       "Computers&Accessories  4.153867       6335177   1855.345653        947.488960   \n",
       "Health&PersonalCare    4.000000          3663   1900.000000        899.000000   \n",
       "Electronics            4.077755      14208406  10418.083673       6225.277551   \n",
       "MusicalInstruments     3.900000         88882   1347.000000        638.000000   \n",
       "Car&Motorbike          3.800000          1118   4000.000000       2339.000000   \n",
       "Home&Kitchen           4.040716       2991069   4162.073661       2330.615647   \n",
       "OfficeProducts         4.309677        149675    397.193548        301.580645   \n",
       "Toys&Games             4.300000         15867    150.000000        150.000000   \n",
       "\n",
       "                       discount_percentage  \n",
       "category_main                               \n",
       "HomeImprovement                  57.500000  \n",
       "Computers&Accessories            53.197333  \n",
       "Health&PersonalCare              53.000000  \n",
       "Electronics                      49.916327  \n",
       "MusicalInstruments               46.000000  \n",
       "Car&Motorbike                    42.000000  \n",
       "Home&Kitchen                     40.120536  \n",
       "OfficeProducts                   12.354839  \n",
       "Toys&Games                        0.000000  "
      ]
     },
     "metadata": {},
     "output_type": "display_data"
    }
   ],
   "source": [
    "# ====================================\n",
    "# Análisis Exploratorio de Datos (EDA)\n",
    "# ====================================\n",
    "\n",
    "# 1. Información general\n",
    "print(\"Dimensiones del dataset:\", df_merged.shape)\n",
    "print(\"\\nTipos de datos y nulos:\")\n",
    "print(df_merged.info())\n",
    "print(\"\\nResumen estadístico (numéricas):\")\n",
    "print(df_merged.describe())\n",
    "\n",
    "# 2. Distribución de variables clave\n",
    "plt.figure(figsize=(6,4))\n",
    "sns.histplot(df_merged['rating'], bins=9, kde=False)\n",
    "plt.title(\"Distribución de ratings\")\n",
    "plt.xlabel(\"Rating\")\n",
    "plt.ylabel(\"Frecuencia\")\n",
    "plt.show()\n",
    "\n",
    "plt.figure(figsize=(6,4))\n",
    "sns.histplot(df_merged['rating_count'], bins=30, kde=False)\n",
    "plt.title(\"Distribución de rating_count\")\n",
    "plt.xlabel(\"Número de reseñas\")\n",
    "plt.ylabel(\"Frecuencia\")\n",
    "plt.yscale(\"log\")  # útil si hay valores muy altos\n",
    "plt.show()\n",
    "\n",
    "plt.figure(figsize=(6,4))\n",
    "sns.boxplot(data=df_merged[['actual_price','discounted_price']])\n",
    "plt.title(\"Distribución de precios (boxplot)\")\n",
    "plt.ylabel(\"Precio\")\n",
    "plt.show()\n",
    "\n",
    "plt.figure(figsize=(6,4))\n",
    "sns.histplot(df_merged['discount_percentage'], bins=30, kde=False)\n",
    "plt.title(\"Distribución de % de descuento\")\n",
    "plt.xlabel(\"Descuento (%)\")\n",
    "plt.ylabel(\"Frecuencia\")\n",
    "plt.show()\n",
    "\n",
    "# 3. Análisis categórico\n",
    "plt.figure(figsize=(10,5))\n",
    "df_merged['category_main'].value_counts().head(15).plot(kind='bar')\n",
    "plt.title(\"Top 15 categorías con más productos\")\n",
    "plt.ylabel(\"Cantidad de productos\")\n",
    "plt.show()\n",
    "\n",
    "cat_summary = df_merged.groupby('category_main').agg({\n",
    "    'rating':'mean',\n",
    "    'rating_count':'sum',\n",
    "    'actual_price':'mean',\n",
    "    'discounted_price':'mean',\n",
    "    'discount_percentage':'mean'\n",
    "}).sort_values(by='rating', ascending=False)\n",
    "\n",
    "print(\"\\nResumen por categoría (promedios y sumas):\")\n",
    "display(cat_summary.head(10))\n",
    "\n",
    "# 4. Relaciones entre variables\n",
    "plt.figure(figsize=(6,4))\n",
    "sns.scatterplot(data=df_merged, x=\"actual_price\", y=\"rating\")\n",
    "plt.title(\"Precio real vs Rating\")\n",
    "plt.show()\n",
    "\n",
    "plt.figure(figsize=(6,4))\n",
    "sns.scatterplot(data=df_merged, x=\"discount_percentage\", y=\"rating\")\n",
    "plt.title(\"Descuento (%) vs Rating\")\n",
    "plt.show()\n",
    "\n",
    "plt.figure(figsize=(6,4))\n",
    "sns.scatterplot(data=df_merged, x=\"rating_count\", y=\"rating\")\n",
    "plt.title(\"Número de reseñas vs Rating\")\n",
    "plt.xscale(\"log\")\n",
    "plt.show()\n",
    "\n",
    "# 5. Tablas resumen\n",
    "\n",
    "# Filtrar productos con al menos una reseña\n",
    "df_valid_ratings = df_merged[df_merged['rating_count'] > 0]\n",
    "\n",
    "# Top 10 productos mejor calificados\n",
    "print(\"\\nTop 10 productos mejor calificados (solo con reseñas):\")\n",
    "display(df_valid_ratings[['product_name','category','rating','rating_count']]\n",
    "        .sort_values(by='rating', ascending=False)\n",
    "        .head(10))\n",
    "\n",
    "\n",
    "print(\"\\nTop 10 productos con más reseñas:\")\n",
    "display(df_merged[['product_name','category','rating','rating_count']].sort_values(by='rating_count', ascending=False).head(10))\n",
    "\n",
    "print(\"\\nCategorías con mayor descuento promedio:\")\n",
    "display(cat_summary.sort_values(by='discount_percentage', ascending=False).head(10))\n"
   ]
  }
 ],
 "metadata": {
  "kernelspec": {
   "display_name": "venv",
   "language": "python",
   "name": "python3"
  },
  "language_info": {
   "codemirror_mode": {
    "name": "ipython",
    "version": 3
   },
   "file_extension": ".py",
   "mimetype": "text/x-python",
   "name": "python",
   "nbconvert_exporter": "python",
   "pygments_lexer": "ipython3",
   "version": "3.13.7"
  }
 },
 "nbformat": 4,
 "nbformat_minor": 5
}
