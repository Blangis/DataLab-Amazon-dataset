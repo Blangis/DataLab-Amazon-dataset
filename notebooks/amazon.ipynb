{
 "cells": [
  {
   "cell_type": "code",
   "execution_count": 619,
   "id": "23b360e1",
   "metadata": {},
   "outputs": [],
   "source": [
    "import pandas as pd\n",
    "import numpy as np\n",
    "import seaborn as sbn"
   ]
  },
  {
   "cell_type": "markdown",
   "id": "751e08ba",
   "metadata": {},
   "source": [
    "# **Products**"
   ]
  },
  {
   "cell_type": "markdown",
   "id": "c1c46af6",
   "metadata": {},
   "source": [
    "## Carga de datos productos"
   ]
  },
  {
   "cell_type": "code",
   "execution_count": 620,
   "id": "dcd17b35",
   "metadata": {},
   "outputs": [
    {
     "name": "stdout",
     "output_type": "stream",
     "text": [
      "Filas y columnas de productos dataset: (1469, 7)\n"
     ]
    }
   ],
   "source": [
    "df_products = pd.read_csv(\"../dataset_amazon/amazon - amazon_product.csv\")\n",
    "print(f\"Filas y columnas de productos dataset: {df_products.shape}\")"
   ]
  },
  {
   "cell_type": "markdown",
   "id": "8e09bab9",
   "metadata": {},
   "source": [
    "# Tipos de datos y valores no nulos por columna"
   ]
  },
  {
   "cell_type": "code",
   "execution_count": 621,
   "id": "9612098a",
   "metadata": {},
   "outputs": [
    {
     "name": "stdout",
     "output_type": "stream",
     "text": [
      "<class 'pandas.core.frame.DataFrame'>\n",
      "RangeIndex: 1469 entries, 0 to 1468\n",
      "Data columns (total 7 columns):\n",
      " #   Column               Non-Null Count  Dtype \n",
      "---  ------               --------------  ----- \n",
      " 0   product_id           1469 non-null   object\n",
      " 1   product_name         1469 non-null   object\n",
      " 2   category             1469 non-null   object\n",
      " 3   discounted_price     1469 non-null   object\n",
      " 4   actual_price         1469 non-null   object\n",
      " 5   discount_percentage  1469 non-null   object\n",
      " 6   about_product        1465 non-null   object\n",
      "dtypes: object(7)\n",
      "memory usage: 80.5+ KB\n"
     ]
    }
   ],
   "source": [
    "df_products.info()"
   ]
  },
  {
   "cell_type": "markdown",
   "id": "db4ca5bd",
   "metadata": {},
   "source": [
    "# Identificación de valores nulos"
   ]
  },
  {
   "cell_type": "code",
   "execution_count": 622,
   "id": "778a6ec0",
   "metadata": {},
   "outputs": [
    {
     "name": "stdout",
     "output_type": "stream",
     "text": [
      " Nulos en productos: \n",
      " product_id             0\n",
      "product_name           0\n",
      "category               0\n",
      "discounted_price       0\n",
      "actual_price           0\n",
      "discount_percentage    0\n",
      "about_product          4\n",
      "dtype: int64\n"
     ]
    }
   ],
   "source": [
    "print(f\" Nulos en productos: \\n {df_products.isnull().sum()}\")"
   ]
  },
  {
   "cell_type": "markdown",
   "id": "8a3a7e89",
   "metadata": {},
   "source": [
    "Para identificar qué columnas tienen nulos se usó *isnull().sum()* , para el caso de *products* se encontró que en la columna **about_product** hay 4 nulos, se tomará la decisión de imputar con *\"sin info\"* más adelante."
   ]
  },
  {
   "cell_type": "markdown",
   "id": "953cdb58",
   "metadata": {},
   "source": [
    "# Manejo de valores nulos"
   ]
  },
  {
   "cell_type": "markdown",
   "id": "62902c75",
   "metadata": {},
   "source": [
    "### DataFrame *products* \n",
    "\n",
    "```\n",
    "df_products['about_product'] → selecciona la columna about_product del DataFrame df_products.\n",
    ".fillna(\"Sin descripción\") → reemplaza todos los valores nulos (NaN) de esa columna con el texto \"Sin descripción\".\n",
    "El resultado se reasigna a la misma columna.\n",
    "```"
   ]
  },
  {
   "cell_type": "code",
   "execution_count": 623,
   "id": "96ac2d08",
   "metadata": {},
   "outputs": [],
   "source": [
    "df_products['about_product'] = df_products['about_product'].fillna(\"Sin descripción\")"
   ]
  },
  {
   "cell_type": "markdown",
   "id": "25dc9b3b",
   "metadata": {},
   "source": [
    "Comprobamos que ya no tenemos nulos"
   ]
  },
  {
   "cell_type": "code",
   "execution_count": 624,
   "id": "ab56f671",
   "metadata": {},
   "outputs": [
    {
     "name": "stdout",
     "output_type": "stream",
     "text": [
      " Nulos en productos: \n",
      " product_id             0\n",
      "product_name           0\n",
      "category               0\n",
      "discounted_price       0\n",
      "actual_price           0\n",
      "discount_percentage    0\n",
      "about_product          0\n",
      "dtype: int64\n"
     ]
    }
   ],
   "source": [
    "print(f\" Nulos en productos: \\n {df_products.isnull().sum()}\")"
   ]
  },
  {
   "cell_type": "markdown",
   "id": "8ce8c5dd",
   "metadata": {},
   "source": [
    "# Normalizamos valores en DataFrame **products**"
   ]
  },
  {
   "cell_type": "code",
   "execution_count": 625,
   "id": "cec98a98",
   "metadata": {},
   "outputs": [],
   "source": [
    "# Precios\n",
    "df_products['discounted_price'] = df_products['discounted_price'].str.replace('₹','').str.replace(',','').astype(float)\n",
    "df_products['actual_price'] = df_products['actual_price'].str.replace('₹','').str.replace(',','').astype(float)\n",
    "\n",
    "# Descuento\n",
    "df_products['discount_percentage'] = df_products['discount_percentage'].str.replace('%','').astype(float)\n"
   ]
  },
  {
   "cell_type": "markdown",
   "id": "f7d5c17f",
   "metadata": {},
   "source": [
    "# Valores duplicados"
   ]
  },
  {
   "cell_type": "markdown",
   "id": "9f48ba30",
   "metadata": {},
   "source": [
    "Contamos duplicados en **products**, usando *duplicated().sum()* , nos dice cuántas columnas completas están duplicadas, es decir, todas las columnas iguales."
   ]
  },
  {
   "cell_type": "code",
   "execution_count": 626,
   "id": "2ce05983",
   "metadata": {},
   "outputs": [
    {
     "name": "stdout",
     "output_type": "stream",
     "text": [
      "106\n"
     ]
    }
   ],
   "source": [
    "print(df_products.duplicated().sum())"
   ]
  },
  {
   "cell_type": "markdown",
   "id": "f64441d2",
   "metadata": {},
   "source": [
    "En el caso de **products** hay 106 filas iguales, por lo que hay que eliminar filas idénticas para cada caso."
   ]
  },
  {
   "cell_type": "markdown",
   "id": "f4a5cdb6",
   "metadata": {},
   "source": [
    "## Eliminación de filas idénticas"
   ]
  },
  {
   "cell_type": "code",
   "execution_count": 627,
   "id": "f0a7d95b",
   "metadata": {},
   "outputs": [],
   "source": [
    "#products\n",
    "df_products = df_products.drop_duplicates()"
   ]
  },
  {
   "cell_type": "markdown",
   "id": "5c3d38f5",
   "metadata": {},
   "source": [
    "Revisamos **id's** , es decir en *products*, la columnas de **product_id**, ya que se espera que sean únicos."
   ]
  },
  {
   "cell_type": "code",
   "execution_count": 628,
   "id": "a216eef4",
   "metadata": {},
   "outputs": [
    {
     "name": "stdout",
     "output_type": "stream",
     "text": [
      "12\n"
     ]
    }
   ],
   "source": [
    "print(df_products['product_id'].duplicated().sum())"
   ]
  },
  {
   "cell_type": "markdown",
   "id": "f7516cc2",
   "metadata": {},
   "source": [
    "En el caso de *products*, aquellos que había imputado con \"Sin descripción\" resultaron ser repetidos, por lo que ahora sí eliminaremos esos valores de **about_product** : "
   ]
  },
  {
   "cell_type": "code",
   "execution_count": 629,
   "id": "a1819b0f",
   "metadata": {},
   "outputs": [],
   "source": [
    "# Eliminar productos cuya descripción es \"Sin descripción\"\n",
    "df_products = df_products[df_products['about_product'] != \"Sin descripción\"]"
   ]
  },
  {
   "cell_type": "code",
   "execution_count": 630,
   "id": "801a519b",
   "metadata": {},
   "outputs": [
    {
     "name": "stdout",
     "output_type": "stream",
     "text": [
      "8\n"
     ]
    }
   ],
   "source": [
    "print(df_products['product_id'].duplicated().sum())"
   ]
  },
  {
   "cell_type": "markdown",
   "id": "10b241b8",
   "metadata": {},
   "source": [
    "Aún se observaron 8 registros con *product_id* repetido."
   ]
  },
  {
   "cell_type": "code",
   "execution_count": 631,
   "id": "8cba4386",
   "metadata": {},
   "outputs": [
    {
     "name": "stdout",
     "output_type": "stream",
     "text": [
      "     product_id                                       product_name  \\\n",
      "433  B07DJLFMPS  HP 32GB Class 10 MicroSD Memory Card (U1 TF Ca...   \n",
      "686  B07DJLFMPS  HP 32GB Class 10 MicroSD Memory Card (U1 TF Ca...   \n",
      "15   B083342NKJ  MI Braided USB Type-C Cable for Charging Adapt...   \n",
      "699  B083342NKJ  MI Braided USB Type-C Cable for Charging Adapt...   \n",
      "10   B08CF3D7QR  Portronics Konnect L POR-1081 Fast Charging 3A...   \n",
      "428  B08CF3D7QR  Portronics Konnect L POR-1081 Fast Charging 3A...   \n",
      "2    B096MSW6CT  Sounce Fast Phone Charging Cable & Data Sync U...   \n",
      "379  B096MSW6CT  Sounce Fast Phone Charging Cable & Data Sync U...   \n",
      "623  B096MSW6CT  Sounce Fast Phone Charging Cable & Data Sync U...   \n",
      "397  B09MT84WV5  Samsung EVO Plus 128GB microSDXC UHS-I U3 130M...   \n",
      "641  B09MT84WV5  Samsung EVO Plus 128GB microSDXC UHS-I U3 130M...   \n",
      "336  B0B5B6PQCT  boAt Wave Call Smart Watch, Smart Talk with Ad...   \n",
      "587  B0B5B6PQCT  boAt Wave Call Smart Watch, Smart Talk with Ad...   \n",
      "344  B0B5LVS732  Noise Pulse Go Buzz Smart Watch Bluetooth Call...   \n",
      "594  B0B5LVS732  Noise Pulse Go Buzz Smart Watch Bluetooth Call...   \n",
      "\n",
      "                                              category  discounted_price  \\\n",
      "433        Electronics|Accessories|MemoryCards|MicroSD             369.0   \n",
      "686        Electronics|Accessories|MemoryCards|MicroSD             369.0   \n",
      "15   Computers&Accessories|Accessories&Peripherals|...             349.0   \n",
      "699  Computers&Accessories|Accessories&Peripherals|...             349.0   \n",
      "10   Computers&Accessories|Accessories&Peripherals|...             154.0   \n",
      "428  Computers&Accessories|Accessories&Peripherals|...             154.0   \n",
      "2    Computers&Accessories|Accessories&Peripherals|...             199.0   \n",
      "379  Computers&Accessories|Accessories&Peripherals|...             199.0   \n",
      "623  Computers&Accessories|Accessories&Peripherals|...             199.0   \n",
      "397        Electronics|Accessories|MemoryCards|MicroSD            1149.0   \n",
      "641        Electronics|Accessories|MemoryCards|MicroSD            1059.0   \n",
      "336        Electronics|WearableTechnology|SmartWatches            1999.0   \n",
      "587        Electronics|WearableTechnology|SmartWatches            1799.0   \n",
      "344        Electronics|WearableTechnology|SmartWatches            1898.0   \n",
      "594        Electronics|WearableTechnology|SmartWatches            1999.0   \n",
      "\n",
      "     actual_price  discount_percentage  \\\n",
      "433        1600.0                 77.0   \n",
      "686        1600.0                 77.0   \n",
      "15          399.0                 13.0   \n",
      "699         399.0                 13.0   \n",
      "10          339.0                 55.0   \n",
      "428         339.0                 55.0   \n",
      "2          1899.0                 90.0   \n",
      "379         999.0                 80.0   \n",
      "623         999.0                 80.0   \n",
      "397        3999.0                 71.0   \n",
      "641        3999.0                 74.0   \n",
      "336        7990.0                 75.0   \n",
      "587        7990.0                 77.0   \n",
      "344        4999.0                 62.0   \n",
      "594        4999.0                 60.0   \n",
      "\n",
      "                                         about_product  \n",
      "433  HP 32GB Class 10 MicroSD Memory Card (U1 TF Ca...  \n",
      "686  Class 10, UHS-I, U1 Memory Card with Adapter|P...  \n",
      "15   1M Long Cable. Usb 2.0 (Type A)|Toughened Join...  \n",
      "699  1M Long Cable. Usb 2.0 (Type A)|Braided Usb Ty...  \n",
      "10   [CHARGE & SYNC FUNCTION]- This cable comes wit...  \n",
      "428  [CHARGE & SYNC FUNCTION]- This cable comes wit...  \n",
      "2    【 Fast Charger& Data Sync】-With built-in safet...  \n",
      "379  【 Fast Charger& Data Sync】-With built-in safet...  \n",
      "623  【 Fast Charger& Data Sync】-With built-in safet...  \n",
      "397  Up to 130MB/s read speed with UHS-I interface....  \n",
      "641  Up to 130MB/s read speed with UHS-I interface....  \n",
      "336  Bluetooth Calling- Wave Call comes with a prem...  \n",
      "587  Bluetooth Calling- Wave Call comes with a prem...  \n",
      "344  Sharp and bright display: The 1.69’’ TFT displ...  \n",
      "594  Sharp and bright display: The 1.69’’ TFT displ...  \n"
     ]
    }
   ],
   "source": [
    "# IDs de productos repetidos\n",
    "dup_products = df_products[df_products['product_id'].duplicated(keep=False)]\n",
    "print(dup_products.sort_values(by='product_id'))\n"
   ]
  },
  {
   "cell_type": "markdown",
   "id": "50b23dfd",
   "metadata": {},
   "source": [
    "### Manejo de valores duplicados en *products*"
   ]
  },
  {
   "cell_type": "markdown",
   "id": "a4326fbd",
   "metadata": {},
   "source": [
    "Para el caso de **products** decidí quedarme con aquellos que tenían un descuento menor, para considerar \"el peor caso\".\n",
    "```\n",
    "df_products.sort_values('discounted_price') Ordena el DataFrame de menor a mayor según discounted_price.Es decir, los precios más bajos aparecen primero.\n",
    "\n",
    ".drop_duplicates(subset='product_id', keep='first') Busca duplicados en la columna product_id.\n",
    "\n",
    "Para cada product_id repetido, mantiene la primera fila (la que tiene el menor discounted_price, porque ya ordenaste).\n",
    "```"
   ]
  },
  {
   "cell_type": "code",
   "execution_count": 632,
   "id": "8ceb8c84",
   "metadata": {},
   "outputs": [],
   "source": [
    "df_products = df_products.sort_values('discounted_price').drop_duplicates(subset='product_id', keep='first')"
   ]
  },
  {
   "cell_type": "code",
   "execution_count": 633,
   "id": "9cf03e46",
   "metadata": {},
   "outputs": [
    {
     "name": "stdout",
     "output_type": "stream",
     "text": [
      "Ver product_id duplicados: 0\n",
      "1351 product_id únicos\n",
      "1351 filas en total\n"
     ]
    }
   ],
   "source": [
    "# Ver cuántos product_id están duplicados\n",
    "print(f\"Ver product_id duplicados: {df_products['product_id'].duplicated().sum()}\")  # debe dar 0\n",
    "\n",
    "# Ver cuántos product_id únicos hay vs total de filas\n",
    "print(df_products['product_id'].nunique(), \"product_id únicos\")\n",
    "print(len(df_products), \"filas en total\")"
   ]
  },
  {
   "cell_type": "markdown",
   "id": "bfcf63d7",
   "metadata": {},
   "source": [
    "# **Reviews**"
   ]
  },
  {
   "cell_type": "markdown",
   "id": "4c89a8d4",
   "metadata": {},
   "source": [
    "## Carga de datos reviews"
   ]
  },
  {
   "cell_type": "code",
   "execution_count": 634,
   "id": "85505a1d",
   "metadata": {},
   "outputs": [
    {
     "name": "stdout",
     "output_type": "stream",
     "text": [
      "Filas y columnas de reviews dataset: (1465, 10)\n"
     ]
    }
   ],
   "source": [
    "df_reviews = pd.read_csv(\"../dataset_amazon/amazon - amazon_review.csv\")\n",
    "print(f\"Filas y columnas de reviews dataset: {df_reviews.shape}\")"
   ]
  },
  {
   "cell_type": "markdown",
   "id": "767d830c",
   "metadata": {},
   "source": [
    "# Tipos de datos y valores no nulos por columna"
   ]
  },
  {
   "cell_type": "code",
   "execution_count": 635,
   "id": "59a002c8",
   "metadata": {},
   "outputs": [
    {
     "name": "stdout",
     "output_type": "stream",
     "text": [
      "<class 'pandas.core.frame.DataFrame'>\n",
      "RangeIndex: 1465 entries, 0 to 1464\n",
      "Data columns (total 10 columns):\n",
      " #   Column          Non-Null Count  Dtype \n",
      "---  ------          --------------  ----- \n",
      " 0   user_id         1465 non-null   object\n",
      " 1   user_name       1465 non-null   object\n",
      " 2   review_id       1465 non-null   object\n",
      " 3   review_title    1465 non-null   object\n",
      " 4   review_content  1465 non-null   object\n",
      " 5   img_link        999 non-null    object\n",
      " 6   product_link    999 non-null    object\n",
      " 7   product_id      1465 non-null   object\n",
      " 8   rating          1465 non-null   object\n",
      " 9   rating_count    1463 non-null   object\n",
      "dtypes: object(10)\n",
      "memory usage: 114.6+ KB\n"
     ]
    }
   ],
   "source": [
    "df_reviews.info()"
   ]
  },
  {
   "cell_type": "markdown",
   "id": "232d3d8c",
   "metadata": {},
   "source": [
    "De igual manera para *reviews* se identificaron valores nulos, en este caso **img_links** y **product_link** tienen 466 valores nulos, sin embargo, considerando las preguntas a responder en este análisis, esas columnas no nos aportan información relevante, por lo que se sugiere eliminar esas columnas. "
   ]
  },
  {
   "cell_type": "markdown",
   "id": "649c257e",
   "metadata": {},
   "source": [
    "Por otro lado para **rating_count** hay 2 valores nulos, en este caso, se plantea eliminar esos valores, ya que son un bajo porcentaje y así no sesgamos los datos suponiendo que nadie lo valoró."
   ]
  },
  {
   "cell_type": "code",
   "execution_count": 636,
   "id": "9bf97a57",
   "metadata": {},
   "outputs": [
    {
     "name": "stdout",
     "output_type": "stream",
     "text": [
      " Nulos en reviews: \n",
      "  user_id             0\n",
      "user_name           0\n",
      "review_id           0\n",
      "review_title        0\n",
      "review_content      0\n",
      "img_link          466\n",
      "product_link      466\n",
      "product_id          0\n",
      "rating              0\n",
      "rating_count        2\n",
      "dtype: int64\n"
     ]
    }
   ],
   "source": [
    "print(f\" Nulos en reviews: \\n  {df_reviews.isnull().sum()}\")"
   ]
  },
  {
   "cell_type": "markdown",
   "id": "242b7627",
   "metadata": {},
   "source": [
    "### DataFrame *reviews* \n",
    "\n",
    "```\n",
    ".drop(columns=[...]) → elimina columnas completas del DataFrame. Aquí borramos img_link y product_link.\n",
    "Se reasigna a df_reviews para guardar el DataFrame ya sin esas columnas.\n",
    "```\n",
    "\n",
    "```\n",
    ".dropna(...) → elimina filas que contienen valores nulos.\n",
    "subset=['rating_count'] → le decimos que solo revise la columna rating_count. Si en esa columna encuentra NaN, elimina esa fila completa.\n",
    "Se reasigna a df_reviews para guardar los cambios.\n",
    "```"
   ]
  },
  {
   "cell_type": "code",
   "execution_count": 637,
   "id": "ee7731a8",
   "metadata": {},
   "outputs": [],
   "source": [
    "df_reviews = df_reviews.drop(columns=['img_link', 'product_link'])\n",
    "df_reviews = df_reviews.dropna(subset=['rating_count'])"
   ]
  },
  {
   "cell_type": "code",
   "execution_count": 638,
   "id": "c872628a",
   "metadata": {},
   "outputs": [
    {
     "name": "stdout",
     "output_type": "stream",
     "text": [
      " Nulos en reviews: \n",
      "  user_id           0\n",
      "user_name         0\n",
      "review_id         0\n",
      "review_title      0\n",
      "review_content    0\n",
      "product_id        0\n",
      "rating            0\n",
      "rating_count      0\n",
      "dtype: int64\n"
     ]
    }
   ],
   "source": [
    "\n",
    "print(f\" Nulos en reviews: \\n  {df_reviews.isnull().sum()}\")"
   ]
  },
  {
   "cell_type": "markdown",
   "id": "961b6680",
   "metadata": {},
   "source": [
    "De igual manera contamos duplicados en *reviews* "
   ]
  },
  {
   "cell_type": "code",
   "execution_count": 639,
   "id": "6f365850",
   "metadata": {},
   "outputs": [
    {
     "name": "stdout",
     "output_type": "stream",
     "text": [
      "70\n"
     ]
    }
   ],
   "source": [
    "print(df_reviews.duplicated().sum())"
   ]
  },
  {
   "cell_type": "markdown",
   "id": "db9b0c5b",
   "metadata": {},
   "source": [
    " y en **reviews** hay 70 filas iguales, por lo que hay que eliminar filas idénticas para cada caso."
   ]
  },
  {
   "cell_type": "markdown",
   "id": "ac79a701",
   "metadata": {},
   "source": [
    "# Eliminación de filas idénticas"
   ]
  },
  {
   "cell_type": "code",
   "execution_count": 640,
   "id": "b79aa9c6",
   "metadata": {},
   "outputs": [],
   "source": [
    "\n",
    "#reviews\n",
    "df_reviews = df_reviews.drop_duplicates()\n"
   ]
  },
  {
   "cell_type": "markdown",
   "id": "4519d39c",
   "metadata": {},
   "source": [
    "Revisamos **id's** , es decir en products y reviews las columnas de **product_id** y de **review_id**, ya que se espera que sean identificadores únicos."
   ]
  },
  {
   "cell_type": "code",
   "execution_count": 641,
   "id": "0de18e63",
   "metadata": {},
   "outputs": [
    {
     "name": "stdout",
     "output_type": "stream",
     "text": [
      "201\n"
     ]
    }
   ],
   "source": [
    "\n",
    "print(df_reviews['review_id'].duplicated().sum())"
   ]
  },
  {
   "cell_type": "code",
   "execution_count": null,
   "id": "9a9c183c",
   "metadata": {},
   "outputs": [],
   "source": []
  },
  {
   "cell_type": "code",
   "execution_count": 642,
   "id": "b3e14b32",
   "metadata": {},
   "outputs": [
    {
     "name": "stdout",
     "output_type": "stream",
     "text": [
      "201\n"
     ]
    }
   ],
   "source": [
    "\n",
    "print(df_reviews['review_id'].duplicated().sum())"
   ]
  },
  {
   "cell_type": "markdown",
   "id": "9bfb2c18",
   "metadata": {},
   "source": [
    "Aún se observaron 8 productos con id duplicado, y 201 en reviews con mismo id."
   ]
  },
  {
   "cell_type": "markdown",
   "id": "0319fedb",
   "metadata": {},
   "source": []
  },
  {
   "cell_type": "code",
   "execution_count": null,
   "id": "3740c4e6",
   "metadata": {},
   "outputs": [],
   "source": []
  },
  {
   "cell_type": "code",
   "execution_count": null,
   "id": "34e8b950",
   "metadata": {},
   "outputs": [],
   "source": [
    "\n"
   ]
  },
  {
   "cell_type": "markdown",
   "id": "5d68280c",
   "metadata": {},
   "source": [
    "## Manejo de duplicados en *reviews*"
   ]
  },
  {
   "cell_type": "code",
   "execution_count": 643,
   "id": "14db4019",
   "metadata": {},
   "outputs": [
    {
     "name": "stdout",
     "output_type": "stream",
     "text": [
      "                                               user_id  \\\n",
      "84   AEXK37TSBFHSP2TYE63YPKETWQ7Q,AEKMVX2VDNNX4ZFXI...   \n",
      "261  AEXK37TSBFHSP2TYE63YPKETWQ7Q,AEKMVX2VDNNX4ZFXI...   \n",
      "523  AFTS5BKDRY7Y23B27UVBE2V6TOHA,AHRIDJXYEBQS7MXFD...   \n",
      "466  AFTS5BKDRY7Y23B27UVBE2V6TOHA,AHRIDJXYEBQS7MXFD...   \n",
      "672  AFLBLMPC4WUEDUWHLHBQVY5AKH2A,AE4ZXGSA2CQOGKH3N...   \n",
      "..                                                 ...   \n",
      "463  AH7LW3BCJBLCZTMWBOFL33UGIRBQ,AFSJYBGBY2U6KAAUR...   \n",
      "506  AH7LW3BCJBLCZTMWBOFL33UGIRBQ,AFSJYBGBY2U6KAAUR...   \n",
      "492  AH7LW3BCJBLCZTMWBOFL33UGIRBQ,AFSJYBGBY2U6KAAUR...   \n",
      "62   AF42EMTPEJAL4LNEPPX77TN77UHA,AHBMZRY43T2GTYDVN...   \n",
      "118  AF42EMTPEJAL4LNEPPX77TN77UHA,AHBMZRY43T2GTYDVN...   \n",
      "\n",
      "                                             user_name  \\\n",
      "84   Sunil Funde,Biju Abraham Thomas,Samir,Rahul Sh...   \n",
      "261  Sunil Funde,Biju Abraham Thomas,Samir,Rahul Sh...   \n",
      "523  Ranit Barman,Ravi Singh,Karan Rai,Amazon Custo...   \n",
      "466  Ranit Barman,Ravi Singh,Karan Rai,Amazon Custo...   \n",
      "672  Velir,Dileep Venigalla,chakrapani p,kuldip tel...   \n",
      "..                                                 ...   \n",
      "463  anurag,Nirmal Singh,Vikas Keshavrao Vanave,K. ...   \n",
      "506  anurag,Nirmal Singh,Vikas Keshavrao Vanave,K. ...   \n",
      "492  anurag,Nirmal Singh,Vikas Keshavrao Vanave,K. ...   \n",
      "62   pruthvi natraj,Phani,Amazon Customer,TechDevot...   \n",
      "118  pruthvi natraj,Phani,Amazon Customer,TechDevot...   \n",
      "\n",
      "                                             review_id  \\\n",
      "84   R10365HEDURWI9,R5RP542IMC4OI,RX2HFWXTTQDTS,R26...   \n",
      "261  R10365HEDURWI9,R5RP542IMC4OI,RX2HFWXTTQDTS,R26...   \n",
      "523  R10FUJSCR3VYHY,R2Y8B5LQ5HLACQ,R3BC8GS9GGMBTI,R...   \n",
      "466  R10FUJSCR3VYHY,R2Y8B5LQ5HLACQ,R3BC8GS9GGMBTI,R...   \n",
      "672  R10KEMT1N336ZD,RL01KZO95GX4F,R1Q721FI3A7XLK,R3...   \n",
      "..                                                 ...   \n",
      "463  RZ7HZPPMZP6NJ,R3UU1TR7386E57,R3IX0H9MIZUJNR,R1...   \n",
      "506  RZ7HZPPMZP6NJ,R3UU1TR7386E57,R3IX0H9MIZUJNR,R1...   \n",
      "492  RZ7HZPPMZP6NJ,R3UU1TR7386E57,R3IX0H9MIZUJNR,R1...   \n",
      "62   RZJR37WFGXR9B,R39X6O18GM16TM,R18ZQ09EKVWZ9R,R3...   \n",
      "118  RZJR37WFGXR9B,R39X6O18GM16TM,R18ZQ09EKVWZ9R,R3...   \n",
      "\n",
      "                                          review_title  \\\n",
      "84   Nice product .,Good quality Braided cable, VFM...   \n",
      "261  Nice product .,Good quality Braided cable, VFM...   \n",
      "523  Works well, but not for long,Good product,Good...   \n",
      "466  Works well, but not for long,Good product,Good...   \n",
      "672  Awesome Product,Good product,Good quality,Good...   \n",
      "..                                                 ...   \n",
      "463  just a watch not smart one... all features are...   \n",
      "506  just a watch not smart one... all features are...   \n",
      "492  just a watch not smart one... all features are...   \n",
      "62   A well-priced product.,Lenthy cord.,Product is...   \n",
      "118  A well-priced product.,Lenthy cord.,Product is...   \n",
      "\n",
      "                                        review_content  product_id rating  \\\n",
      "84   Sturdy packing, good product!,Have used this b...  B07GVGTSLN    4.2   \n",
      "261  Sturdy packing, good product!,Have used this b...  B07F1P8KNV    4.2   \n",
      "523  The sound quality is excellent for the price, ...  B01F262EUU    4.2   \n",
      "466  The sound quality is excellent for the price, ...  B01F25X6RQ    4.2   \n",
      "672  It is good for data cables...I liked it,https:...  B08MTCKDYN    4.1   \n",
      "..                                                 ...         ...    ...   \n",
      "463  just a watch not smart one... all features are...  B0B53QFZPY    3.3   \n",
      "506  just a watch not smart one... all features are...  B0B53QLB9H    3.3   \n",
      "492  just a watch not smart one... all features are...  B0B53NXFFR    3.3   \n",
      "62   i am writing this review after 2 months, the f...  B0994GFWBH      4   \n",
      "118  i am writing this review after 2 months, the f...  B0B4G2MWSB      4   \n",
      "\n",
      "    rating_count  \n",
      "84        10,576  \n",
      "261       10,576  \n",
      "523       31,539  \n",
      "466       31,539  \n",
      "672        5,999  \n",
      "..           ...  \n",
      "463        4,415  \n",
      "506        4,415  \n",
      "492        4,415  \n",
      "62         1,313  \n",
      "118        1,313  \n",
      "\n",
      "[314 rows x 8 columns]\n"
     ]
    }
   ],
   "source": [
    "# IDs de reseñas repetidas\n",
    "dup_reviews = df_reviews[df_reviews['review_id'].duplicated(keep=False)]\n",
    "print(dup_reviews.sort_values(by='review_id'))"
   ]
  },
  {
   "cell_type": "markdown",
   "id": "798eae37",
   "metadata": {},
   "source": [
    "En el dataset de *reviews* (df_reviews) algunos **review_id** se repiten, probablemente debido a errores de recolección o descargas múltiples.\n",
    "\n",
    "Para asegurar que cada reseña se cuente una sola vez en el análisis por producto, eliminamos duplicados basándonos únicamente en el identificador de la reseña (review_id):"
   ]
  },
  {
   "cell_type": "code",
   "execution_count": 644,
   "id": "3808910f",
   "metadata": {},
   "outputs": [
    {
     "data": {
      "text/html": [
       "<div>\n",
       "<style scoped>\n",
       "    .dataframe tbody tr th:only-of-type {\n",
       "        vertical-align: middle;\n",
       "    }\n",
       "\n",
       "    .dataframe tbody tr th {\n",
       "        vertical-align: top;\n",
       "    }\n",
       "\n",
       "    .dataframe thead th {\n",
       "        text-align: right;\n",
       "    }\n",
       "</style>\n",
       "<table border=\"1\" class=\"dataframe\">\n",
       "  <thead>\n",
       "    <tr style=\"text-align: right;\">\n",
       "      <th></th>\n",
       "      <th>user_id</th>\n",
       "      <th>user_name</th>\n",
       "      <th>review_id</th>\n",
       "      <th>review_title</th>\n",
       "      <th>review_content</th>\n",
       "      <th>product_id</th>\n",
       "      <th>rating</th>\n",
       "      <th>rating_count</th>\n",
       "    </tr>\n",
       "  </thead>\n",
       "  <tbody>\n",
       "    <tr>\n",
       "      <th>0</th>\n",
       "      <td>AG3D6O4STAQKAY2UVGEUV46KN35Q,AHMY5CWJMMK5BJRBB...</td>\n",
       "      <td>Manav,Adarsh gupta,Sundeep,S.Sayeed Ahmed,jasp...</td>\n",
       "      <td>R3HXWT0LRP0NMF,R2AJM3LFTLZHFO,R6AQJGUP6P86,R1K...</td>\n",
       "      <td>Satisfied,Charging is really fast,Value for mo...</td>\n",
       "      <td>Looks durable Charging is fine tooNo complains...</td>\n",
       "      <td>B07JW9H4J1</td>\n",
       "      <td>4.2</td>\n",
       "      <td>24,269</td>\n",
       "    </tr>\n",
       "    <tr>\n",
       "      <th>1</th>\n",
       "      <td>AECPFYFQVRUWC3KGNLJIOREFP5LQ,AGYYVPDD7YG7FYNBX...</td>\n",
       "      <td>ArdKn,Nirbhay kumar,Sagar Viswanathan,Asp,Plac...</td>\n",
       "      <td>RGIQEG07R9HS2,R1SMWZQ86XIN8U,R2J3Y1WL29GWDE,RY...</td>\n",
       "      <td>A Good Braided Cable for Your Type C Device,Go...</td>\n",
       "      <td>I ordered this cable to connect my phone to An...</td>\n",
       "      <td>B098NS6PVG</td>\n",
       "      <td>4</td>\n",
       "      <td>43,994</td>\n",
       "    </tr>\n",
       "    <tr>\n",
       "      <th>2</th>\n",
       "      <td>AGU3BBQ2V2DDAMOAKGFAWDDQ6QHA,AESFLDV2PT363T2AQ...</td>\n",
       "      <td>Kunal,Himanshu,viswanath,sai niharka,saqib mal...</td>\n",
       "      <td>R3J3EQQ9TZI5ZJ,R3E7WBGK7ID0KV,RWU79XKQ6I1QF,R2...</td>\n",
       "      <td>Good speed for earlier versions,Good Product,W...</td>\n",
       "      <td>Not quite durable and sturdy,https://m.media-a...</td>\n",
       "      <td>B096MSW6CT</td>\n",
       "      <td>3.9</td>\n",
       "      <td>7,928</td>\n",
       "    </tr>\n",
       "    <tr>\n",
       "      <th>3</th>\n",
       "      <td>AEWAZDZZJLQUYVOVGBEUKSLXHQ5A,AG5HTSFRRE6NL3M5S...</td>\n",
       "      <td>Omkar dhale,JD,HEMALATHA,Ajwadh a.,amar singh ...</td>\n",
       "      <td>R3EEUZKKK9J36I,R3HJVYCLYOY554,REDECAZ7AMPQC,R1...</td>\n",
       "      <td>Good product,Good one,Nice,Really nice product...</td>\n",
       "      <td>Good product,long wire,Charges good,Nice,I bou...</td>\n",
       "      <td>B08HDJ86NZ</td>\n",
       "      <td>4.2</td>\n",
       "      <td>94,363</td>\n",
       "    </tr>\n",
       "    <tr>\n",
       "      <th>4</th>\n",
       "      <td>AE3Q6KSUK5P75D5HFYHCRAOLODSA,AFUGIFH5ZAFXRDSZH...</td>\n",
       "      <td>rahuls6099,Swasat Borah,Ajay Wadke,Pranali,RVK...</td>\n",
       "      <td>R1BP4L2HH9TFUP,R16PVJEXKV6QZS,R2UPDB81N66T4P,R...</td>\n",
       "      <td>As good as original,Decent,Good one for second...</td>\n",
       "      <td>Bought this instead of original apple, does th...</td>\n",
       "      <td>B08CF3B7N1</td>\n",
       "      <td>4.2</td>\n",
       "      <td>16,905</td>\n",
       "    </tr>\n",
       "    <tr>\n",
       "      <th>...</th>\n",
       "      <td>...</td>\n",
       "      <td>...</td>\n",
       "      <td>...</td>\n",
       "      <td>...</td>\n",
       "      <td>...</td>\n",
       "      <td>...</td>\n",
       "      <td>...</td>\n",
       "      <td>...</td>\n",
       "    </tr>\n",
       "    <tr>\n",
       "      <th>1460</th>\n",
       "      <td>AHITFY6AHALOFOHOZEOC6XBP4FEA,AFRABBODZJZQB6Z4U...</td>\n",
       "      <td>Prabha ds,Raghuram bk,Real Deal,Amazon Custome...</td>\n",
       "      <td>R3G3XFHPBFF0E8,R3C0BZCD32EIGW,R2EBVBCN9QPD9R,R...</td>\n",
       "      <td>Received the product without spanner,Excellent...</td>\n",
       "      <td>I received product without spanner,Excellent p...</td>\n",
       "      <td>B08L7J3T31</td>\n",
       "      <td>4</td>\n",
       "      <td>1,090</td>\n",
       "    </tr>\n",
       "    <tr>\n",
       "      <th>1461</th>\n",
       "      <td>AFG5FM3NEMOL6BNFRV2NK5FNJCHQ,AGEINTRN6Z563RMLH...</td>\n",
       "      <td>Manu Bhai,Naveenpittu,Evatira Sangma,JAGANNADH...</td>\n",
       "      <td>R3DDL2UPKQ2CK9,R2SYYU1OATVIU5,R1VM993161IYRW,R...</td>\n",
       "      <td>ok,everything was good couldn't return bcoz I ...</td>\n",
       "      <td>ok,got everything as mentioned but the measuri...</td>\n",
       "      <td>B01M6453MB</td>\n",
       "      <td>4.1</td>\n",
       "      <td>4,118</td>\n",
       "    </tr>\n",
       "    <tr>\n",
       "      <th>1462</th>\n",
       "      <td>AGVPWCMAHYQWJOQKMUJN4DW3KM5Q,AF4Q3E66MY4SR7YQZ...</td>\n",
       "      <td>Nehal Desai,Danish Parwez,Amazon Customer,Amaz...</td>\n",
       "      <td>R1TLRJVW4STY5I,R2O455KRN493R1,R3Q5MVGBRIAS2G,R...</td>\n",
       "      <td>very good,Work but front melt after 2 month,Go...</td>\n",
       "      <td>plastic but cool body ,u have to find sturdy s...</td>\n",
       "      <td>B009P2LIL4</td>\n",
       "      <td>3.6</td>\n",
       "      <td>468</td>\n",
       "    </tr>\n",
       "    <tr>\n",
       "      <th>1463</th>\n",
       "      <td>AF2JQCLSCY3QJATWUNNHUSVUPNQQ,AFDMLUXC5LS5RXDJS...</td>\n",
       "      <td>Shubham Dubey,E.GURUBARAN,Mayank S.,eusuf khan...</td>\n",
       "      <td>R39Q2Y79MM9SWK,R3079BG1NIH6MB,R29A31ZELTZNJM,R...</td>\n",
       "      <td>Fan Speed is slow,Good quality,Good product,go...</td>\n",
       "      <td>I have installed this in my kitchen working fi...</td>\n",
       "      <td>B00J5DYCCA</td>\n",
       "      <td>4</td>\n",
       "      <td>8,031</td>\n",
       "    </tr>\n",
       "    <tr>\n",
       "      <th>1464</th>\n",
       "      <td>AFGW5PT3R6ZAVQR4Y5MWVAKBZAYA,AG7QNJ2SCS5VS5VYY...</td>\n",
       "      <td>Rajib,Ajay B,Vikas Kahol,PARDEEP,Anindya Prama...</td>\n",
       "      <td>R20RBRZ0WEUJT9,ROKIFK9R2ISSE,R30EEG2FNJSN5I,R2...</td>\n",
       "      <td>Works perfect,Ok good product,Nice Product. Re...</td>\n",
       "      <td>It does it job perfectly..only issue is temp c...</td>\n",
       "      <td>B01486F4G6</td>\n",
       "      <td>4.3</td>\n",
       "      <td>6,987</td>\n",
       "    </tr>\n",
       "  </tbody>\n",
       "</table>\n",
       "<p>1192 rows × 8 columns</p>\n",
       "</div>"
      ],
      "text/plain": [
       "                                                user_id  \\\n",
       "0     AG3D6O4STAQKAY2UVGEUV46KN35Q,AHMY5CWJMMK5BJRBB...   \n",
       "1     AECPFYFQVRUWC3KGNLJIOREFP5LQ,AGYYVPDD7YG7FYNBX...   \n",
       "2     AGU3BBQ2V2DDAMOAKGFAWDDQ6QHA,AESFLDV2PT363T2AQ...   \n",
       "3     AEWAZDZZJLQUYVOVGBEUKSLXHQ5A,AG5HTSFRRE6NL3M5S...   \n",
       "4     AE3Q6KSUK5P75D5HFYHCRAOLODSA,AFUGIFH5ZAFXRDSZH...   \n",
       "...                                                 ...   \n",
       "1460  AHITFY6AHALOFOHOZEOC6XBP4FEA,AFRABBODZJZQB6Z4U...   \n",
       "1461  AFG5FM3NEMOL6BNFRV2NK5FNJCHQ,AGEINTRN6Z563RMLH...   \n",
       "1462  AGVPWCMAHYQWJOQKMUJN4DW3KM5Q,AF4Q3E66MY4SR7YQZ...   \n",
       "1463  AF2JQCLSCY3QJATWUNNHUSVUPNQQ,AFDMLUXC5LS5RXDJS...   \n",
       "1464  AFGW5PT3R6ZAVQR4Y5MWVAKBZAYA,AG7QNJ2SCS5VS5VYY...   \n",
       "\n",
       "                                              user_name  \\\n",
       "0     Manav,Adarsh gupta,Sundeep,S.Sayeed Ahmed,jasp...   \n",
       "1     ArdKn,Nirbhay kumar,Sagar Viswanathan,Asp,Plac...   \n",
       "2     Kunal,Himanshu,viswanath,sai niharka,saqib mal...   \n",
       "3     Omkar dhale,JD,HEMALATHA,Ajwadh a.,amar singh ...   \n",
       "4     rahuls6099,Swasat Borah,Ajay Wadke,Pranali,RVK...   \n",
       "...                                                 ...   \n",
       "1460  Prabha ds,Raghuram bk,Real Deal,Amazon Custome...   \n",
       "1461  Manu Bhai,Naveenpittu,Evatira Sangma,JAGANNADH...   \n",
       "1462  Nehal Desai,Danish Parwez,Amazon Customer,Amaz...   \n",
       "1463  Shubham Dubey,E.GURUBARAN,Mayank S.,eusuf khan...   \n",
       "1464  Rajib,Ajay B,Vikas Kahol,PARDEEP,Anindya Prama...   \n",
       "\n",
       "                                              review_id  \\\n",
       "0     R3HXWT0LRP0NMF,R2AJM3LFTLZHFO,R6AQJGUP6P86,R1K...   \n",
       "1     RGIQEG07R9HS2,R1SMWZQ86XIN8U,R2J3Y1WL29GWDE,RY...   \n",
       "2     R3J3EQQ9TZI5ZJ,R3E7WBGK7ID0KV,RWU79XKQ6I1QF,R2...   \n",
       "3     R3EEUZKKK9J36I,R3HJVYCLYOY554,REDECAZ7AMPQC,R1...   \n",
       "4     R1BP4L2HH9TFUP,R16PVJEXKV6QZS,R2UPDB81N66T4P,R...   \n",
       "...                                                 ...   \n",
       "1460  R3G3XFHPBFF0E8,R3C0BZCD32EIGW,R2EBVBCN9QPD9R,R...   \n",
       "1461  R3DDL2UPKQ2CK9,R2SYYU1OATVIU5,R1VM993161IYRW,R...   \n",
       "1462  R1TLRJVW4STY5I,R2O455KRN493R1,R3Q5MVGBRIAS2G,R...   \n",
       "1463  R39Q2Y79MM9SWK,R3079BG1NIH6MB,R29A31ZELTZNJM,R...   \n",
       "1464  R20RBRZ0WEUJT9,ROKIFK9R2ISSE,R30EEG2FNJSN5I,R2...   \n",
       "\n",
       "                                           review_title  \\\n",
       "0     Satisfied,Charging is really fast,Value for mo...   \n",
       "1     A Good Braided Cable for Your Type C Device,Go...   \n",
       "2     Good speed for earlier versions,Good Product,W...   \n",
       "3     Good product,Good one,Nice,Really nice product...   \n",
       "4     As good as original,Decent,Good one for second...   \n",
       "...                                                 ...   \n",
       "1460  Received the product without spanner,Excellent...   \n",
       "1461  ok,everything was good couldn't return bcoz I ...   \n",
       "1462  very good,Work but front melt after 2 month,Go...   \n",
       "1463  Fan Speed is slow,Good quality,Good product,go...   \n",
       "1464  Works perfect,Ok good product,Nice Product. Re...   \n",
       "\n",
       "                                         review_content  product_id rating  \\\n",
       "0     Looks durable Charging is fine tooNo complains...  B07JW9H4J1    4.2   \n",
       "1     I ordered this cable to connect my phone to An...  B098NS6PVG      4   \n",
       "2     Not quite durable and sturdy,https://m.media-a...  B096MSW6CT    3.9   \n",
       "3     Good product,long wire,Charges good,Nice,I bou...  B08HDJ86NZ    4.2   \n",
       "4     Bought this instead of original apple, does th...  B08CF3B7N1    4.2   \n",
       "...                                                 ...         ...    ...   \n",
       "1460  I received product without spanner,Excellent p...  B08L7J3T31      4   \n",
       "1461  ok,got everything as mentioned but the measuri...  B01M6453MB    4.1   \n",
       "1462  plastic but cool body ,u have to find sturdy s...  B009P2LIL4    3.6   \n",
       "1463  I have installed this in my kitchen working fi...  B00J5DYCCA      4   \n",
       "1464  It does it job perfectly..only issue is temp c...  B01486F4G6    4.3   \n",
       "\n",
       "     rating_count  \n",
       "0          24,269  \n",
       "1          43,994  \n",
       "2           7,928  \n",
       "3          94,363  \n",
       "4          16,905  \n",
       "...           ...  \n",
       "1460        1,090  \n",
       "1461        4,118  \n",
       "1462          468  \n",
       "1463        8,031  \n",
       "1464        6,987  \n",
       "\n",
       "[1192 rows x 8 columns]"
      ]
     },
     "execution_count": 644,
     "metadata": {},
     "output_type": "execute_result"
    }
   ],
   "source": [
    "df_reviews.drop_duplicates(subset=['review_id'])"
   ]
  },
  {
   "cell_type": "code",
   "execution_count": 645,
   "id": "07067243",
   "metadata": {},
   "outputs": [
    {
     "name": "stdout",
     "output_type": "stream",
     "text": [
      "Ver review_id duplicados: 201\n",
      "1192 review_id únicos\n",
      "1393 filas en total\n"
     ]
    }
   ],
   "source": [
    "# Ver cuántos review_id están duplicados\n",
    "print(f\"Ver review_id duplicados: {df_reviews['review_id'].duplicated().sum()}\")  # debe dar 0 \n",
    "\n",
    "# Ver cuántos review_id únicos hay vs total de filas \n",
    "print(df_reviews['review_id'].nunique(), \"review_id únicos\") \n",
    "print(len(df_reviews), \"filas en total\")\n"
   ]
  },
  {
   "cell_type": "markdown",
   "id": "94b6f7f5",
   "metadata": {},
   "source": [
    "### Castear **rating** y **rating_count**"
   ]
  }
 ],
 "metadata": {
  "kernelspec": {
   "display_name": "venv (3.13.3)",
   "language": "python",
   "name": "python3"
  },
  "language_info": {
   "codemirror_mode": {
    "name": "ipython",
    "version": 3
   },
   "file_extension": ".py",
   "mimetype": "text/x-python",
   "name": "python",
   "nbconvert_exporter": "python",
   "pygments_lexer": "ipython3",
   "version": "3.13.3"
  }
 },
 "nbformat": 4,
 "nbformat_minor": 5
}
