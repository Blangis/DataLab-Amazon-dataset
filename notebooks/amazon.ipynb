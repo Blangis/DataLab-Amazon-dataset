{
 "cells": [
  {
   "cell_type": "code",
   "execution_count": 786,
   "id": "23b360e1",
   "metadata": {},
   "outputs": [],
   "source": [
    "import pandas as pd\n",
    "import numpy as np\n",
    "import seaborn as sbn\n",
    "import matplotlib.pyplot as plt"
   ]
  },
  {
   "cell_type": "markdown",
   "id": "751e08ba",
   "metadata": {},
   "source": [
    "# **Products**"
   ]
  },
  {
   "cell_type": "markdown",
   "id": "c1c46af6",
   "metadata": {},
   "source": [
    "## Carga de datos productos"
   ]
  },
  {
   "cell_type": "code",
   "execution_count": 787,
   "id": "dcd17b35",
   "metadata": {},
   "outputs": [
    {
     "name": "stdout",
     "output_type": "stream",
     "text": [
      "Filas y columnas de productos dataset: (1469, 7)\n"
     ]
    }
   ],
   "source": [
    "df_products = pd.read_csv(\"../dataset_amazon/amazon - amazon_product.csv\")\n",
    "print(f\"Filas y columnas de productos dataset: {df_products.shape}\")"
   ]
  },
  {
   "cell_type": "markdown",
   "id": "8e09bab9",
   "metadata": {},
   "source": [
    "# Tipos de datos y valores no nulos por columna"
   ]
  },
  {
   "cell_type": "code",
   "execution_count": 788,
   "id": "9612098a",
   "metadata": {},
   "outputs": [
    {
     "name": "stdout",
     "output_type": "stream",
     "text": [
      "<class 'pandas.core.frame.DataFrame'>\n",
      "RangeIndex: 1469 entries, 0 to 1468\n",
      "Data columns (total 7 columns):\n",
      " #   Column               Non-Null Count  Dtype \n",
      "---  ------               --------------  ----- \n",
      " 0   product_id           1469 non-null   object\n",
      " 1   product_name         1469 non-null   object\n",
      " 2   category             1469 non-null   object\n",
      " 3   discounted_price     1469 non-null   object\n",
      " 4   actual_price         1469 non-null   object\n",
      " 5   discount_percentage  1469 non-null   object\n",
      " 6   about_product        1465 non-null   object\n",
      "dtypes: object(7)\n",
      "memory usage: 80.5+ KB\n"
     ]
    }
   ],
   "source": [
    "df_products.info()"
   ]
  },
  {
   "cell_type": "markdown",
   "id": "db4ca5bd",
   "metadata": {},
   "source": [
    "# Identificación de valores nulos"
   ]
  },
  {
   "cell_type": "code",
   "execution_count": 789,
   "id": "778a6ec0",
   "metadata": {},
   "outputs": [
    {
     "name": "stdout",
     "output_type": "stream",
     "text": [
      " Nulos en productos: \n",
      " product_id             0\n",
      "product_name           0\n",
      "category               0\n",
      "discounted_price       0\n",
      "actual_price           0\n",
      "discount_percentage    0\n",
      "about_product          4\n",
      "dtype: int64\n"
     ]
    }
   ],
   "source": [
    "print(f\" Nulos en productos: \\n {df_products.isnull().sum()}\")"
   ]
  },
  {
   "cell_type": "markdown",
   "id": "8a3a7e89",
   "metadata": {},
   "source": [
    "Para identificar qué columnas tienen nulos se usó *isnull().sum()* , para el caso de *products* se encontró que en la columna **about_product** hay 4 nulos, se tomará la decisión de imputar con *\"sin info\"* más adelante."
   ]
  },
  {
   "cell_type": "markdown",
   "id": "953cdb58",
   "metadata": {},
   "source": [
    "# Manejo de valores nulos"
   ]
  },
  {
   "cell_type": "markdown",
   "id": "62902c75",
   "metadata": {},
   "source": [
    "### DataFrame *products* \n",
    "\n",
    "```\n",
    "df_products['about_product'] → selecciona la columna about_product del DataFrame df_products.\n",
    ".fillna(\"Sin descripción\") → reemplaza todos los valores nulos (NaN) de esa columna con el texto \"Sin descripción\".\n",
    "El resultado se reasigna a la misma columna.\n",
    "```"
   ]
  },
  {
   "cell_type": "code",
   "execution_count": 790,
   "id": "96ac2d08",
   "metadata": {},
   "outputs": [],
   "source": [
    "df_products['about_product'] = df_products['about_product'].fillna(\"Sin descripción\")"
   ]
  },
  {
   "cell_type": "markdown",
   "id": "25dc9b3b",
   "metadata": {},
   "source": [
    "Comprobamos que ya no tenemos nulos"
   ]
  },
  {
   "cell_type": "code",
   "execution_count": 791,
   "id": "ab56f671",
   "metadata": {},
   "outputs": [
    {
     "name": "stdout",
     "output_type": "stream",
     "text": [
      " Nulos en productos: \n",
      " product_id             0\n",
      "product_name           0\n",
      "category               0\n",
      "discounted_price       0\n",
      "actual_price           0\n",
      "discount_percentage    0\n",
      "about_product          0\n",
      "dtype: int64\n"
     ]
    }
   ],
   "source": [
    "print(f\" Nulos en productos: \\n {df_products.isnull().sum()}\")"
   ]
  },
  {
   "cell_type": "markdown",
   "id": "8ce8c5dd",
   "metadata": {},
   "source": [
    "# Normalizamos valores en DataFrame **products**"
   ]
  },
  {
   "cell_type": "code",
   "execution_count": 792,
   "id": "cec98a98",
   "metadata": {},
   "outputs": [],
   "source": [
    "# Precios\n",
    "df_products['discounted_price'] = df_products['discounted_price'].str.replace('₹','').str.replace(',','').astype(float)\n",
    "df_products['actual_price'] = df_products['actual_price'].str.replace('₹','').str.replace(',','').astype(float)\n",
    "\n",
    "# Descuento\n",
    "df_products['discount_percentage'] = df_products['discount_percentage'].str.replace('%','').astype(float)\n"
   ]
  },
  {
   "cell_type": "markdown",
   "id": "f7d5c17f",
   "metadata": {},
   "source": [
    "# Valores duplicados"
   ]
  },
  {
   "cell_type": "markdown",
   "id": "9f48ba30",
   "metadata": {},
   "source": [
    "Contamos duplicados en **products**, usando *duplicated().sum()* , nos dice cuántas columnas completas están duplicadas, es decir, todas las columnas iguales."
   ]
  },
  {
   "cell_type": "code",
   "execution_count": 793,
   "id": "2ce05983",
   "metadata": {},
   "outputs": [
    {
     "name": "stdout",
     "output_type": "stream",
     "text": [
      "106\n"
     ]
    }
   ],
   "source": [
    "print(df_products.duplicated().sum())"
   ]
  },
  {
   "cell_type": "markdown",
   "id": "f64441d2",
   "metadata": {},
   "source": [
    "En el caso de **products** hay 106 filas iguales, por lo que hay que eliminar filas idénticas para cada caso."
   ]
  },
  {
   "cell_type": "markdown",
   "id": "f4a5cdb6",
   "metadata": {},
   "source": [
    "## Eliminación de filas idénticas"
   ]
  },
  {
   "cell_type": "code",
   "execution_count": 794,
   "id": "f0a7d95b",
   "metadata": {},
   "outputs": [],
   "source": [
    "#products\n",
    "df_products = df_products.drop_duplicates()"
   ]
  },
  {
   "cell_type": "markdown",
   "id": "5c3d38f5",
   "metadata": {},
   "source": [
    "Revisamos **id's** , es decir en *products*, la columnas de **product_id**, ya que se espera que sean únicos."
   ]
  },
  {
   "cell_type": "code",
   "execution_count": 795,
   "id": "a216eef4",
   "metadata": {},
   "outputs": [
    {
     "name": "stdout",
     "output_type": "stream",
     "text": [
      "12\n"
     ]
    }
   ],
   "source": [
    "print(df_products['product_id'].duplicated().sum())"
   ]
  },
  {
   "cell_type": "markdown",
   "id": "f7516cc2",
   "metadata": {},
   "source": [
    "En el caso de *products*, aquellos que había imputado con \"Sin descripción\" resultaron ser repetidos, por lo que ahora sí eliminaremos esos valores de **about_product** : "
   ]
  },
  {
   "cell_type": "code",
   "execution_count": 796,
   "id": "a1819b0f",
   "metadata": {},
   "outputs": [],
   "source": [
    "# Eliminar productos cuya descripción es \"Sin descripción\"\n",
    "df_products = df_products[df_products['about_product'] != \"Sin descripción\"]"
   ]
  },
  {
   "cell_type": "code",
   "execution_count": 797,
   "id": "801a519b",
   "metadata": {},
   "outputs": [
    {
     "name": "stdout",
     "output_type": "stream",
     "text": [
      "8\n"
     ]
    }
   ],
   "source": [
    "print(df_products['product_id'].duplicated().sum())"
   ]
  },
  {
   "cell_type": "markdown",
   "id": "10b241b8",
   "metadata": {},
   "source": [
    "Aún se observaron 8 registros con *product_id* repetido."
   ]
  },
  {
   "cell_type": "code",
   "execution_count": 798,
   "id": "8cba4386",
   "metadata": {},
   "outputs": [
    {
     "name": "stdout",
     "output_type": "stream",
     "text": [
      "     product_id                                       product_name  \\\n",
      "433  B07DJLFMPS  HP 32GB Class 10 MicroSD Memory Card (U1 TF Ca...   \n",
      "686  B07DJLFMPS  HP 32GB Class 10 MicroSD Memory Card (U1 TF Ca...   \n",
      "15   B083342NKJ  MI Braided USB Type-C Cable for Charging Adapt...   \n",
      "699  B083342NKJ  MI Braided USB Type-C Cable for Charging Adapt...   \n",
      "10   B08CF3D7QR  Portronics Konnect L POR-1081 Fast Charging 3A...   \n",
      "428  B08CF3D7QR  Portronics Konnect L POR-1081 Fast Charging 3A...   \n",
      "2    B096MSW6CT  Sounce Fast Phone Charging Cable & Data Sync U...   \n",
      "379  B096MSW6CT  Sounce Fast Phone Charging Cable & Data Sync U...   \n",
      "623  B096MSW6CT  Sounce Fast Phone Charging Cable & Data Sync U...   \n",
      "397  B09MT84WV5  Samsung EVO Plus 128GB microSDXC UHS-I U3 130M...   \n",
      "641  B09MT84WV5  Samsung EVO Plus 128GB microSDXC UHS-I U3 130M...   \n",
      "336  B0B5B6PQCT  boAt Wave Call Smart Watch, Smart Talk with Ad...   \n",
      "587  B0B5B6PQCT  boAt Wave Call Smart Watch, Smart Talk with Ad...   \n",
      "344  B0B5LVS732  Noise Pulse Go Buzz Smart Watch Bluetooth Call...   \n",
      "594  B0B5LVS732  Noise Pulse Go Buzz Smart Watch Bluetooth Call...   \n",
      "\n",
      "                                              category  discounted_price  \\\n",
      "433        Electronics|Accessories|MemoryCards|MicroSD             369.0   \n",
      "686        Electronics|Accessories|MemoryCards|MicroSD             369.0   \n",
      "15   Computers&Accessories|Accessories&Peripherals|...             349.0   \n",
      "699  Computers&Accessories|Accessories&Peripherals|...             349.0   \n",
      "10   Computers&Accessories|Accessories&Peripherals|...             154.0   \n",
      "428  Computers&Accessories|Accessories&Peripherals|...             154.0   \n",
      "2    Computers&Accessories|Accessories&Peripherals|...             199.0   \n",
      "379  Computers&Accessories|Accessories&Peripherals|...             199.0   \n",
      "623  Computers&Accessories|Accessories&Peripherals|...             199.0   \n",
      "397        Electronics|Accessories|MemoryCards|MicroSD            1149.0   \n",
      "641        Electronics|Accessories|MemoryCards|MicroSD            1059.0   \n",
      "336        Electronics|WearableTechnology|SmartWatches            1999.0   \n",
      "587        Electronics|WearableTechnology|SmartWatches            1799.0   \n",
      "344        Electronics|WearableTechnology|SmartWatches            1898.0   \n",
      "594        Electronics|WearableTechnology|SmartWatches            1999.0   \n",
      "\n",
      "     actual_price  discount_percentage  \\\n",
      "433        1600.0                 77.0   \n",
      "686        1600.0                 77.0   \n",
      "15          399.0                 13.0   \n",
      "699         399.0                 13.0   \n",
      "10          339.0                 55.0   \n",
      "428         339.0                 55.0   \n",
      "2          1899.0                 90.0   \n",
      "379         999.0                 80.0   \n",
      "623         999.0                 80.0   \n",
      "397        3999.0                 71.0   \n",
      "641        3999.0                 74.0   \n",
      "336        7990.0                 75.0   \n",
      "587        7990.0                 77.0   \n",
      "344        4999.0                 62.0   \n",
      "594        4999.0                 60.0   \n",
      "\n",
      "                                         about_product  \n",
      "433  HP 32GB Class 10 MicroSD Memory Card (U1 TF Ca...  \n",
      "686  Class 10, UHS-I, U1 Memory Card with Adapter|P...  \n",
      "15   1M Long Cable. Usb 2.0 (Type A)|Toughened Join...  \n",
      "699  1M Long Cable. Usb 2.0 (Type A)|Braided Usb Ty...  \n",
      "10   [CHARGE & SYNC FUNCTION]- This cable comes wit...  \n",
      "428  [CHARGE & SYNC FUNCTION]- This cable comes wit...  \n",
      "2    【 Fast Charger& Data Sync】-With built-in safet...  \n",
      "379  【 Fast Charger& Data Sync】-With built-in safet...  \n",
      "623  【 Fast Charger& Data Sync】-With built-in safet...  \n",
      "397  Up to 130MB/s read speed with UHS-I interface....  \n",
      "641  Up to 130MB/s read speed with UHS-I interface....  \n",
      "336  Bluetooth Calling- Wave Call comes with a prem...  \n",
      "587  Bluetooth Calling- Wave Call comes with a prem...  \n",
      "344  Sharp and bright display: The 1.69’’ TFT displ...  \n",
      "594  Sharp and bright display: The 1.69’’ TFT displ...  \n"
     ]
    }
   ],
   "source": [
    "# IDs de productos repetidos\n",
    "dup_products = df_products[df_products['product_id'].duplicated(keep=False)]\n",
    "print(dup_products.sort_values(by='product_id'))\n"
   ]
  },
  {
   "cell_type": "markdown",
   "id": "50b23dfd",
   "metadata": {},
   "source": [
    "### Manejo de valores duplicados en *products*"
   ]
  },
  {
   "cell_type": "markdown",
   "id": "a4326fbd",
   "metadata": {},
   "source": [
    "Para el caso de **products** decidí quedarme con aquellos que tenían un descuento menor, para considerar \"el peor caso\".\n",
    "```\n",
    "df_products.sort_values('discounted_price') Ordena el DataFrame de menor a mayor según discounted_price.Es decir, los precios más bajos aparecen primero.\n",
    "\n",
    ".drop_duplicates(subset='product_id', keep='first') Busca duplicados en la columna product_id.\n",
    "\n",
    "Para cada product_id repetido, mantiene la primera fila (la que tiene el menor discounted_price, porque ya ordenaste).\n",
    "```"
   ]
  },
  {
   "cell_type": "code",
   "execution_count": 799,
   "id": "8ceb8c84",
   "metadata": {},
   "outputs": [],
   "source": [
    "df_products = df_products.sort_values('discounted_price').drop_duplicates(subset='product_id', keep='first')"
   ]
  },
  {
   "cell_type": "code",
   "execution_count": 800,
   "id": "9cf03e46",
   "metadata": {},
   "outputs": [
    {
     "name": "stdout",
     "output_type": "stream",
     "text": [
      "Ver product_id duplicados: 0\n",
      "1351 product_id únicos\n",
      "1351 filas en total\n"
     ]
    }
   ],
   "source": [
    "# Ver cuántos product_id están duplicados\n",
    "print(f\"Ver product_id duplicados: {df_products['product_id'].duplicated().sum()}\")  # debe dar 0\n",
    "\n",
    "# Ver cuántos product_id únicos hay vs total de filas\n",
    "print(df_products['product_id'].nunique(), \"product_id únicos\")\n",
    "print(len(df_products), \"filas en total\")"
   ]
  },
  {
   "cell_type": "code",
   "execution_count": 801,
   "id": "b50b6e72",
   "metadata": {},
   "outputs": [
    {
     "data": {
      "text/plain": [
       "(1351, 7)"
      ]
     },
     "execution_count": 801,
     "metadata": {},
     "output_type": "execute_result"
    }
   ],
   "source": [
    "df_products.shape"
   ]
  },
  {
   "cell_type": "markdown",
   "id": "bfcf63d7",
   "metadata": {},
   "source": [
    "# **Reviews**"
   ]
  },
  {
   "cell_type": "markdown",
   "id": "4c89a8d4",
   "metadata": {},
   "source": [
    "## Carga de datos reviews"
   ]
  },
  {
   "cell_type": "code",
   "execution_count": 802,
   "id": "85505a1d",
   "metadata": {},
   "outputs": [
    {
     "name": "stdout",
     "output_type": "stream",
     "text": [
      "Filas y columnas de reviews dataset: (1465, 10)\n"
     ]
    }
   ],
   "source": [
    "df_reviews = pd.read_csv(\"../dataset_amazon/amazon - amazon_review.csv\")\n",
    "print(f\"Filas y columnas de reviews dataset: {df_reviews.shape}\")"
   ]
  },
  {
   "cell_type": "markdown",
   "id": "767d830c",
   "metadata": {},
   "source": [
    "# Tipos de datos y valores no nulos por columna"
   ]
  },
  {
   "cell_type": "code",
   "execution_count": 803,
   "id": "59a002c8",
   "metadata": {},
   "outputs": [
    {
     "name": "stdout",
     "output_type": "stream",
     "text": [
      "<class 'pandas.core.frame.DataFrame'>\n",
      "RangeIndex: 1465 entries, 0 to 1464\n",
      "Data columns (total 10 columns):\n",
      " #   Column          Non-Null Count  Dtype \n",
      "---  ------          --------------  ----- \n",
      " 0   user_id         1465 non-null   object\n",
      " 1   user_name       1465 non-null   object\n",
      " 2   review_id       1465 non-null   object\n",
      " 3   review_title    1465 non-null   object\n",
      " 4   review_content  1465 non-null   object\n",
      " 5   img_link        999 non-null    object\n",
      " 6   product_link    999 non-null    object\n",
      " 7   product_id      1465 non-null   object\n",
      " 8   rating          1465 non-null   object\n",
      " 9   rating_count    1463 non-null   object\n",
      "dtypes: object(10)\n",
      "memory usage: 114.6+ KB\n"
     ]
    }
   ],
   "source": [
    "df_reviews.info()"
   ]
  },
  {
   "cell_type": "markdown",
   "id": "232d3d8c",
   "metadata": {},
   "source": [
    "De igual manera para *reviews* se identificaron valores nulos, en este caso **img_links** y **product_link** tienen 466 valores nulos, sin embargo, considerando las preguntas a responder en este análisis, esas columnas no nos aportan información relevante, por lo que se sugiere eliminar esas columnas. "
   ]
  },
  {
   "cell_type": "markdown",
   "id": "649c257e",
   "metadata": {},
   "source": [
    "Por otro lado para **rating_count** hay 2 valores nulos, en este caso, se plantea imputarlos con 0."
   ]
  },
  {
   "cell_type": "code",
   "execution_count": 804,
   "id": "9bf97a57",
   "metadata": {},
   "outputs": [
    {
     "name": "stdout",
     "output_type": "stream",
     "text": [
      " Nulos en reviews: \n",
      "  user_id             0\n",
      "user_name           0\n",
      "review_id           0\n",
      "review_title        0\n",
      "review_content      0\n",
      "img_link          466\n",
      "product_link      466\n",
      "product_id          0\n",
      "rating              0\n",
      "rating_count        2\n",
      "dtype: int64\n"
     ]
    }
   ],
   "source": [
    "print(f\" Nulos en reviews: \\n  {df_reviews.isnull().sum()}\")"
   ]
  },
  {
   "cell_type": "markdown",
   "id": "242b7627",
   "metadata": {},
   "source": [
    "### DataFrame *reviews* \n",
    "\n",
    "```\n",
    ".drop(columns=[...]) → elimina columnas completas del DataFrame. Aquí borramos img_link y product_link.\n",
    "Se reasigna a df_reviews para guardar el DataFrame ya sin esas columnas.\n",
    "```\n",
    "Imputamos nulos en rating_count con ceros."
   ]
  },
  {
   "cell_type": "code",
   "execution_count": 805,
   "id": "ee7731a8",
   "metadata": {},
   "outputs": [],
   "source": [
    "df_reviews = df_reviews.drop(columns=['img_link', 'product_link'])"
   ]
  },
  {
   "cell_type": "code",
   "execution_count": 806,
   "id": "40ed30bd",
   "metadata": {},
   "outputs": [],
   "source": [
    "# Imputar con 0 si no hay valor, indicando que no se registró número de reseñas\n",
    "df_reviews['rating_count'] = df_reviews['rating_count'].fillna(0)\n"
   ]
  },
  {
   "cell_type": "code",
   "execution_count": 807,
   "id": "c872628a",
   "metadata": {},
   "outputs": [
    {
     "name": "stdout",
     "output_type": "stream",
     "text": [
      " Nulos en reviews: \n",
      "  user_id           0\n",
      "user_name         0\n",
      "review_id         0\n",
      "review_title      0\n",
      "review_content    0\n",
      "product_id        0\n",
      "rating            0\n",
      "rating_count      0\n",
      "dtype: int64\n"
     ]
    }
   ],
   "source": [
    "\n",
    "print(f\" Nulos en reviews: \\n  {df_reviews.isnull().sum()}\")"
   ]
  },
  {
   "cell_type": "markdown",
   "id": "961b6680",
   "metadata": {},
   "source": [
    "De igual manera contamos duplicados en *reviews* "
   ]
  },
  {
   "cell_type": "code",
   "execution_count": 808,
   "id": "6f365850",
   "metadata": {},
   "outputs": [
    {
     "name": "stdout",
     "output_type": "stream",
     "text": [
      "70\n"
     ]
    }
   ],
   "source": [
    "print(df_reviews.duplicated().sum())"
   ]
  },
  {
   "cell_type": "markdown",
   "id": "db9b0c5b",
   "metadata": {},
   "source": [
    " En **reviews** hubo 70 filas iguales, por lo que hay que eliminar filas idénticas."
   ]
  },
  {
   "cell_type": "markdown",
   "id": "ac79a701",
   "metadata": {},
   "source": [
    "# Eliminación de filas idénticas"
   ]
  },
  {
   "cell_type": "code",
   "execution_count": 809,
   "id": "b79aa9c6",
   "metadata": {},
   "outputs": [],
   "source": [
    "#reviews\n",
    "df_reviews = df_reviews.drop_duplicates()\n"
   ]
  },
  {
   "cell_type": "markdown",
   "id": "798eae37",
   "metadata": {},
   "source": [
    "## Revisión de IDs en reviews\n",
    "\n",
    "Revisamos los identificadores en el dataset de reseñas. En particular:\n",
    "\n",
    "- **product_id** debería ser único para cada producto.\n",
    "\n",
    "- **review_id** identifica cada reseña individual, pero para nuestro análisis agregado por producto, nos interesa una fila por producto, consolidando la información de todas sus reseñas.\n",
    "\n",
    "> Nota: Al mantener una fila por **product_id**, perdemos la granularidad de las reseñas individuales, pero simplifica el análisis de métricas por producto como promedio de rating, precio, descuento, etc."
   ]
  },
  {
   "cell_type": "code",
   "execution_count": 810,
   "id": "0de18e63",
   "metadata": {},
   "outputs": [
    {
     "name": "stdout",
     "output_type": "stream",
     "text": [
      "Duplicados en product_id (dentro de reviews) antes de limpiar: 44\n"
     ]
    }
   ],
   "source": [
    "# Revisar cuántos product_id duplicados hay\n",
    "print(f\"Duplicados en product_id (dentro de reviews) antes de limpiar: {df_reviews['product_id'].duplicated().sum()}\")  "
   ]
  },
  {
   "cell_type": "markdown",
   "id": "9bfb2c18",
   "metadata": {},
   "source": [
    "Se observaron 44 duplicados de **product_id** en *reviews*."
   ]
  },
  {
   "cell_type": "markdown",
   "id": "5d68280c",
   "metadata": {},
   "source": [
    "## Manejo de duplicados por producto en *reviews*"
   ]
  },
  {
   "cell_type": "code",
   "execution_count": 811,
   "id": "3808910f",
   "metadata": {},
   "outputs": [],
   "source": [
    "df_reviews = df_reviews.drop_duplicates(subset=['product_id'])"
   ]
  },
  {
   "cell_type": "code",
   "execution_count": 812,
   "id": "07067243",
   "metadata": {},
   "outputs": [
    {
     "name": "stdout",
     "output_type": "stream",
     "text": [
      "Ver product_id duplicados: 0\n",
      "1351 product_id únicos\n",
      "1351 filas en total\n"
     ]
    }
   ],
   "source": [
    "# Ver cuántos product_id están duplicados\n",
    "print(f\"Ver product_id duplicados: {df_reviews['product_id'].duplicated().sum()}\")  # debe dar 0 \n",
    "\n",
    "# Ver cuántos product_id únicos hay vs total de filas \n",
    "print(df_reviews['product_id'].nunique(), \"product_id únicos\") \n",
    "print(len(df_reviews), \"filas en total\")\n"
   ]
  },
  {
   "cell_type": "markdown",
   "id": "10052ffc",
   "metadata": {},
   "source": [
    "## Revisamos tipos de datos"
   ]
  },
  {
   "cell_type": "code",
   "execution_count": 813,
   "id": "71ba8bb7",
   "metadata": {},
   "outputs": [
    {
     "name": "stdout",
     "output_type": "stream",
     "text": [
      "<class 'pandas.core.frame.DataFrame'>\n",
      "Index: 1351 entries, 0 to 1464\n",
      "Data columns (total 8 columns):\n",
      " #   Column          Non-Null Count  Dtype \n",
      "---  ------          --------------  ----- \n",
      " 0   user_id         1351 non-null   object\n",
      " 1   user_name       1351 non-null   object\n",
      " 2   review_id       1351 non-null   object\n",
      " 3   review_title    1351 non-null   object\n",
      " 4   review_content  1351 non-null   object\n",
      " 5   product_id      1351 non-null   object\n",
      " 6   rating          1351 non-null   object\n",
      " 7   rating_count    1351 non-null   object\n",
      "dtypes: object(8)\n",
      "memory usage: 95.0+ KB\n"
     ]
    }
   ],
   "source": [
    "df_reviews.info()"
   ]
  },
  {
   "cell_type": "markdown",
   "id": "94b6f7f5",
   "metadata": {},
   "source": [
    "### Castear **rating** y **rating_count**\n",
    "\n",
    "pd.to_numeric(..., errors='coerce') convierte a número lo que pueda. Si encuentra algo inválido o vacío, lo deja como NaN."
   ]
  },
  {
   "cell_type": "code",
   "execution_count": 814,
   "id": "1970b3a2",
   "metadata": {},
   "outputs": [],
   "source": [
    "# Quitar comas y convertir rating_count a int\n",
    "df_reviews['rating_count'] = df_reviews['rating_count'].str.replace(',', '')\n",
    "df_reviews['rating_count'] = pd.to_numeric(df_reviews['rating_count'], errors='coerce')\n",
    "\n",
    "# Convertir rating a float\n",
    "df_reviews['rating'] = pd.to_numeric(df_reviews['rating'], errors='coerce')\n",
    "\n",
    "\n",
    "# Imputar valores faltantes\n",
    "df_reviews['rating_count'] = df_reviews['rating_count'].fillna(0).astype(int)\n",
    "# Asegurar que rating sea float, dejando los NaN como están\n",
    "df_reviews['rating'] = pd.to_numeric(df_reviews['rating'], errors='coerce')\n"
   ]
  },
  {
   "cell_type": "code",
   "execution_count": 815,
   "id": "f20c33c9",
   "metadata": {},
   "outputs": [
    {
     "name": "stdout",
     "output_type": "stream",
     "text": [
      "<class 'pandas.core.frame.DataFrame'>\n",
      "Index: 1351 entries, 0 to 1464\n",
      "Data columns (total 8 columns):\n",
      " #   Column          Non-Null Count  Dtype  \n",
      "---  ------          --------------  -----  \n",
      " 0   user_id         1351 non-null   object \n",
      " 1   user_name       1351 non-null   object \n",
      " 2   review_id       1351 non-null   object \n",
      " 3   review_title    1351 non-null   object \n",
      " 4   review_content  1351 non-null   object \n",
      " 5   product_id      1351 non-null   object \n",
      " 6   rating          1350 non-null   float64\n",
      " 7   rating_count    1351 non-null   int64  \n",
      "dtypes: float64(1), int64(1), object(6)\n",
      "memory usage: 95.0+ KB\n"
     ]
    }
   ],
   "source": [
    "df_reviews.info()"
   ]
  },
  {
   "cell_type": "code",
   "execution_count": 816,
   "id": "3c298c46",
   "metadata": {},
   "outputs": [
    {
     "data": {
      "text/plain": [
       "(1351, 8)"
      ]
     },
     "execution_count": 816,
     "metadata": {},
     "output_type": "execute_result"
    }
   ],
   "source": [
    "df_reviews.shape"
   ]
  },
  {
   "cell_type": "markdown",
   "id": "42666001",
   "metadata": {},
   "source": [
    "# Filtrar datos fuera del alcance"
   ]
  },
  {
   "cell_type": "markdown",
   "id": "75dfaf0c",
   "metadata": {},
   "source": [
    "Ya limpiamos nulos y duplicados, ahora se necesita filtrar datos fuera del alcance. Esto se refiere a revisar outliers, inconsistencias o valores que no sirven para responder tus preguntas.\n",
    "\n",
    "Con base en mis preguntas de investigación:"
   ]
  },
  {
   "cell_type": "markdown",
   "id": "c6e9cf33",
   "metadata": {},
   "source": [
    "- `Ratings → descartar valores fuera de rango. Generalmente Amazon usa de 1 a 5 estrellas.`"
   ]
  },
  {
   "cell_type": "code",
   "execution_count": 817,
   "id": "85306974",
   "metadata": {},
   "outputs": [
    {
     "data": {
      "image/png": "[encoded data removed]",
      "text/plain": [
       "<Figure size 600x400 with 1 Axes>"
      ]
     },
     "metadata": {},
     "output_type": "display_data"
    }
   ],
   "source": [
    "# Histograma\n",
    "plt.figure(figsize=(6,4))\n",
    "df_reviews['rating'].hist(bins=9)   # bins para medias estrellas\n",
    "plt.xlabel('Rating')\n",
    "plt.ylabel('Conteo')\n",
    "plt.title('Distribución de ratings')\n",
    "plt.show()\n"
   ]
  },
  {
   "cell_type": "code",
   "execution_count": 818,
   "id": "a6b8d93a",
   "metadata": {},
   "outputs": [
    {
     "name": "stdout",
     "output_type": "stream",
     "text": [
      "count    1350.000000\n",
      "mean        4.091852\n",
      "std         0.297444\n",
      "min         2.000000\n",
      "25%         3.900000\n",
      "50%         4.100000\n",
      "75%         4.300000\n",
      "max         5.000000\n",
      "Name: rating, dtype: float64\n",
      "Valores == 0: 0\n",
      "Valores < 1 o > 5: 0\n"
     ]
    },
    {
     "data": {
      "text/html": [
       "<div>\n",
       "<style scoped>\n",
       "    .dataframe tbody tr th:only-of-type {\n",
       "        vertical-align: middle;\n",
       "    }\n",
       "\n",
       "    .dataframe tbody tr th {\n",
       "        vertical-align: top;\n",
       "    }\n",
       "\n",
       "    .dataframe thead th {\n",
       "        text-align: right;\n",
       "    }\n",
       "</style>\n",
       "<table border=\"1\" class=\"dataframe\">\n",
       "  <thead>\n",
       "    <tr style=\"text-align: right;\">\n",
       "      <th></th>\n",
       "      <th>user_id</th>\n",
       "      <th>user_name</th>\n",
       "      <th>review_id</th>\n",
       "      <th>review_title</th>\n",
       "      <th>review_content</th>\n",
       "      <th>product_id</th>\n",
       "      <th>rating</th>\n",
       "      <th>rating_count</th>\n",
       "    </tr>\n",
       "  </thead>\n",
       "  <tbody>\n",
       "  </tbody>\n",
       "</table>\n",
       "</div>"
      ],
      "text/plain": [
       "Empty DataFrame\n",
       "Columns: [user_id, user_name, review_id, review_title, review_content, product_id, rating, rating_count]\n",
       "Index: []"
      ]
     },
     "metadata": {},
     "output_type": "display_data"
    }
   ],
   "source": [
    "# Conteos y resumen\n",
    "print(df_reviews['rating'].describe())    # media, std, min, max, etc.\n",
    "\n",
    "# Ver si hay ceros o valores fuera de rango\n",
    "print(\"Valores == 0:\", (df_reviews['rating'] == 0).sum())\n",
    "print(\"Valores < 1 o > 5:\", ((df_reviews['rating'] < 1) | (df_reviews['rating'] > 5)).sum())\n",
    "\n",
    "# Mostrar ejemplos de filas con rating problemático\n",
    "display(df_reviews.loc[(df_reviews['rating'] < 1) | (df_reviews['rating'] > 5)].head(10))\n"
   ]
  },
  {
   "cell_type": "markdown",
   "id": "f1c130cf",
   "metadata": {},
   "source": [
    "> Hay una fila con **NaN**, sin embargo, no fue considerado para la estadística básica, _pandas_ omite ese valor, los demás valores (1350 filas) son correctos."
   ]
  },
  {
   "cell_type": "code",
   "execution_count": 819,
   "id": "a279caae",
   "metadata": {},
   "outputs": [],
   "source": [
    "# df_reviews = df_reviews[(df_reviews['rating'] >= 1) & (df_reviews['rating'] <= 5)]"
   ]
  },
  {
   "cell_type": "markdown",
   "id": "6f5c7d87",
   "metadata": {},
   "source": [
    "- `Precios → Tenemos preguntas sobre actual_price, discounted_price, discount_percentage. Debemos revisar y eliminar precios negativos o absurdos (ejemplo: actual_price < discounted_price cuando no debería), así como definir un rango realista.`"
   ]
  },
  {
   "cell_type": "code",
   "execution_count": 820,
   "id": "6a89f0b2",
   "metadata": {},
   "outputs": [
    {
     "name": "stdout",
     "output_type": "stream",
     "text": [
      "Cantidad de filas originales: 1351\n",
      "Filas con precios positivos: 1351\n",
      "Filas con actual_price < 140000: 1351\n",
      "Filas con descuento válido (0-100%): 1351\n",
      "Cantidad de filas finales: 1351\n"
     ]
    }
   ],
   "source": [
    "# Antes de filtrar\n",
    "print(\"Cantidad de filas originales:\", len(df_products))\n",
    "\n",
    "# Filtrar precios positivos\n",
    "filtro_precios = (df_products['actual_price'] > 0) & (df_products['discounted_price'] > 0)\n",
    "print(\"Filas con precios positivos:\", filtro_precios.sum())\n",
    "df_products = df_products[filtro_precios]\n",
    "\n",
    "# Filtrar precios no absurdos\n",
    "filtro_umbral = df_products['actual_price'] < 140000  # o el umbral que definas\n",
    "print(\"Filas con actual_price < 140000:\", filtro_umbral.sum())\n",
    "df_products = df_products[filtro_umbral]\n",
    "\n",
    "# Filtrar descuento válido\n",
    "filtro_descuento = (df_products['discount_percentage'] >= 0) & (df_products['discount_percentage'] <= 100)\n",
    "print(\"Filas con descuento válido (0-100%):\", filtro_descuento.sum())\n",
    "df_products = df_products[filtro_descuento]\n",
    "\n",
    "# Filas finales\n",
    "print(\"Cantidad de filas finales:\", len(df_products))\n"
   ]
  },
  {
   "cell_type": "code",
   "execution_count": 821,
   "id": "4fbd462b",
   "metadata": {},
   "outputs": [
    {
     "name": "stdout",
     "output_type": "stream",
     "text": [
      "Nulos en precios:\n",
      " actual_price        0\n",
      "discounted_price    0\n",
      "dtype: int64\n",
      "\n",
      "Resumen estadístico:\n",
      "        actual_price  discounted_price\n",
      "count    1351.000000       1351.000000\n",
      "mean     5690.510452       3304.587098\n",
      "std     11218.918302       7174.024934\n",
      "min        39.000000         39.000000\n",
      "25%       899.000000        349.000000\n",
      "50%      1790.000000        899.000000\n",
      "75%      4575.000000       2174.000000\n",
      "max    139900.000000      77990.000000\n",
      "\n",
      "Precios <= 0:\n",
      "actual_price        0\n",
      "discounted_price    0\n",
      "dtype: int64\n",
      "\n",
      "Absurdos (discounted > actual): 0\n"
     ]
    },
    {
     "data": {
      "text/html": [
       "<div>\n",
       "<style scoped>\n",
       "    .dataframe tbody tr th:only-of-type {\n",
       "        vertical-align: middle;\n",
       "    }\n",
       "\n",
       "    .dataframe tbody tr th {\n",
       "        vertical-align: top;\n",
       "    }\n",
       "\n",
       "    .dataframe thead th {\n",
       "        text-align: right;\n",
       "    }\n",
       "</style>\n",
       "<table border=\"1\" class=\"dataframe\">\n",
       "  <thead>\n",
       "    <tr style=\"text-align: right;\">\n",
       "      <th></th>\n",
       "      <th>product_id</th>\n",
       "      <th>product_name</th>\n",
       "      <th>category</th>\n",
       "      <th>discounted_price</th>\n",
       "      <th>actual_price</th>\n",
       "      <th>discount_percentage</th>\n",
       "      <th>about_product</th>\n",
       "    </tr>\n",
       "  </thead>\n",
       "  <tbody>\n",
       "  </tbody>\n",
       "</table>\n",
       "</div>"
      ],
      "text/plain": [
       "Empty DataFrame\n",
       "Columns: [product_id, product_name, category, discounted_price, actual_price, discount_percentage, about_product]\n",
       "Index: []"
      ]
     },
     "metadata": {},
     "output_type": "display_data"
    },
    {
     "data": {
      "image/png": "[encoded data removed]",
      "text/plain": [
       "<Figure size 1000x500 with 1 Axes>"
      ]
     },
     "metadata": {},
     "output_type": "display_data"
    },
    {
     "data": {
      "image/png": "[encoded data removed]",
      "text/plain": [
       "<Figure size 1000x500 with 1 Axes>"
      ]
     },
     "metadata": {},
     "output_type": "display_data"
    }
   ],
   "source": [
    "# 1. Revisar valores nulos\n",
    "print(\"Nulos en precios:\\n\", df_products[['actual_price','discounted_price']].isnull().sum())\n",
    "\n",
    "# 2. Revisar mínimos y máximos\n",
    "print(\"\\nResumen estadístico:\")\n",
    "print(df_products[['actual_price','discounted_price']].describe())\n",
    "\n",
    "# 3. Ver cuántos precios negativos o cero\n",
    "print(\"\\nPrecios <= 0:\")\n",
    "print((df_products[['actual_price','discounted_price']] <= 0).sum())\n",
    "\n",
    "# 4. Revisar absurdos: cuando el precio con descuento es mayor al original\n",
    "absurdos = df_products[df_products['discounted_price'] > df_products['actual_price']]\n",
    "print(f\"\\nAbsurdos (discounted > actual): {len(absurdos)}\")\n",
    "display(absurdos.head())\n",
    "\n",
    "# 5. Gráfico: boxplot para ver outliers\n",
    "plt.figure(figsize=(10,5))\n",
    "df_products[['actual_price','discounted_price']].boxplot()\n",
    "plt.title(\"Distribución de precios (boxplot)\")\n",
    "plt.ylabel(\"Precio\")\n",
    "plt.show()\n",
    "\n",
    "# 6. Histograma para ver rango\n",
    "df_products[['actual_price','discounted_price']].plot(kind='hist', bins=50, alpha=0.6, figsize=(10,5))\n",
    "plt.title(\"Distribución de precios (histograma)\")\n",
    "plt.xlabel(\"Precio\")\n",
    "plt.show()"
   ]
  },
  {
   "cell_type": "code",
   "execution_count": 822,
   "id": "20b8f44e",
   "metadata": {},
   "outputs": [
    {
     "name": "stdout",
     "output_type": "stream",
     "text": [
      "     product_id                                                                      product_name                                                       category  discounted_price  actual_price  discount_percentage                                                                                                                                                                                                                                                                                                                                                                                                                                                                                                                                                                                                                                                                                                                                                                                                                                                                                                                                                                                                                                                                                                                                                                            about_product  precio_fuera_rango  descuento_invalido\n",
      "249  B09WN3SRC7  Sony Bravia 164 cm (65 inches) 4K Ultra HD Smart LED Google TV KD-65X74K (Black)  Electronics|HomeTheater,TV&Video|Televisions|SmartTelevisions           77990.0      139900.0                 44.0  Resolution: 4K Ultra HD (3840 x 2160) | Refresh Rate: 60 Hertz | 178 Degree wide viewing angle|Connectivity: 3 HDMI ports to connect set top box, Blu Ray players, gaming console | 2 USB ports to connect hard drives and other USB devices|Sound : 20 Watts Output | Open Baffle Speaker| Dolby Audio | Clear Phase|Smart TV Features: Google TV | Watchlist | Voice Search | Google Play | Chromecast | Netflix | Amazon Prime Video | Additional Features: Apple Airplay | Apple Homekit |Alexa|Display: X1 4K Processor | 4K HDR | Live Colour| 4K X Reality Pro | Motion Flow XR100|Warranty Information: 1 year warranty provided by the manufacture from the date of purchase|Installation: Brand will contact for installation for this product once delivered. Contact Sony for assistance (Please visit brand website for toll free numbers) and provide product's model name and seller's details mentioned on your invoice. The service center will allot you a convenient slot for the service|Easy returns: This product is eligible for replacement within 10 days of delivery in case of any product defects, damage or features not matching the description provided                True               False\n"
     ]
    }
   ],
   "source": [
    "def detectar_precios_fuera_de_rango(df, precio_max=100000):\n",
    "    \"\"\"\n",
    "    Marca filas con precios sospechosos o descuentos inconsistentes.\n",
    "    \n",
    "    Parámetros:\n",
    "    - df: dataframe con columnas 'actual_price' y 'discounted_price'\n",
    "    - precio_max: precio máximo considerado razonable\n",
    "    \n",
    "    Retorna:\n",
    "    - df_outliers: dataframe con filas sospechosas\n",
    "    \"\"\"\n",
    "    # Precios fuera de rango\n",
    "    mask_precio = (df['actual_price'] > precio_max) | (df['discounted_price'] > precio_max)\n",
    "    \n",
    "    # Descuento negativo o descuento mayor al precio\n",
    "    mask_descuento = df['discounted_price'] > df['actual_price']\n",
    "    \n",
    "    # Combinar\n",
    "    mask_sospechoso = mask_precio | mask_descuento\n",
    "    \n",
    "    df_outliers = df[mask_sospechoso].copy()\n",
    "    df_outliers['precio_fuera_rango'] = mask_precio\n",
    "    df_outliers['descuento_invalido'] = mask_descuento\n",
    "    \n",
    "    return df_outliers\n",
    "\n",
    "# Usar la función\n",
    "df_outliers = detectar_precios_fuera_de_rango(df_products)\n",
    "print(df_outliers.to_string())\n"
   ]
  },
  {
   "cell_type": "markdown",
   "id": "8db1d76c",
   "metadata": {},
   "source": [
    "> Distribución\n",
    "- La gran mayoría de los precios (tanto actual_price como discounted_price) están concentrados en valores bajos (menores a 5,000).\n",
    "- Existen algunos outliers muy altos (por ejemplo, un actual_price de hasta 139,900 y discounted_price de hasta 77,990).\n",
    "- Esto genera una cola larga a la derecha en el histograma (distribución sesgada positivamente).\n",
    "\n",
    "> Consistencia\n",
    "- No hay nulos en los precios → ✅ limpio en ese aspecto.\n",
    "- No hay precios <= 0 → ✅ bien.\n",
    "- No hay casos absurdos (discounted_price > actual_price) → ✅ los descuentos son válidos."
   ]
  },
  {
   "cell_type": "markdown",
   "id": "99f683c7",
   "metadata": {},
   "source": [
    "- `rating_count (recuento de calificaciones) → Hay que asegurarse de no contar productos con rating_count = 0 porque no aportan.`"
   ]
  },
  {
   "cell_type": "code",
   "execution_count": 823,
   "id": "c2bce71f",
   "metadata": {},
   "outputs": [
    {
     "name": "stdout",
     "output_type": "stream",
     "text": [
      "Cantidad de filas originales: 1351\n"
     ]
    },
    {
     "data": {
      "image/png": "[encoded data removed]",
      "text/plain": [
       "<Figure size 1000x500 with 1 Axes>"
      ]
     },
     "metadata": {},
     "output_type": "display_data"
    },
    {
     "name": "stdout",
     "output_type": "stream",
     "text": [
      "count      1351.000000\n",
      "mean      17618.373797\n",
      "std       42119.882419\n",
      "min           0.000000\n",
      "25%        1094.500000\n",
      "50%        4736.000000\n",
      "75%       15995.000000\n",
      "max      426973.000000\n",
      "Name: rating_count, dtype: float64\n",
      "Productos con rating_count > 0: 1349\n",
      "Productos con rating_count = 0 o NaN: 2\n",
      "Cantidad de filas después del filtro: 1349\n"
     ]
    }
   ],
   "source": [
    "# 1. Cantidad de filas antes de filtrar\n",
    "print(\"Cantidad de filas originales:\", len(df_reviews))\n",
    "\n",
    "# 2. Histograma para revisar distribución de rating_count\n",
    "import matplotlib.pyplot as plt\n",
    "import seaborn as sns\n",
    "\n",
    "plt.figure(figsize=(10,5))\n",
    "sns.histplot(df_reviews['rating_count'], bins=30, kde=False)\n",
    "plt.title(\"Distribución de rating_count\")\n",
    "plt.xlabel(\"Número de reseñas por producto\")\n",
    "plt.ylabel(\"Cantidad de productos\")\n",
    "plt.show()\n",
    "\n",
    "# 3. Revisar estadísticas descriptivas\n",
    "print(df_reviews['rating_count'].describe())\n",
    "\n",
    "# 4. Filtrar productos con rating_count > 0 y registrar cuántos se eliminan\n",
    "filas_con_rating = df_reviews['rating_count'] > 0\n",
    "print(\"Productos con rating_count > 0:\", filas_con_rating.sum())\n",
    "print(\"Productos con rating_count = 0 o NaN:\", len(df_reviews) - filas_con_rating.sum())\n",
    "\n",
    "df_reviews = df_reviews[filas_con_rating]\n",
    "\n",
    "# 5. Cantidad de filas después de filtrar\n",
    "print(\"Cantidad de filas después del filtro:\", len(df_reviews))\n"
   ]
  },
  {
   "cell_type": "markdown",
   "id": "3a886892",
   "metadata": {},
   "source": [
    "> Distribución\n",
    "- La gran mayoría de productos tienen pocas reseñas (entre 0 y unos cientos).\n",
    "- Hay una cola muy larga hacia la derecha, con productos que llegan a tener cientos de miles de reseñas → esto es típico de distribuciones de popularidad (pocos productos muy populares concentran la mayoría de reseñas).\n",
    "- Es una distribución altamente sesgada positivamente (right-skewed).\n",
    "\n",
    "> Estadísticos\n",
    "\n",
    "- Mínimo: 0 (2 productos sin reseñas).\n",
    "- Mediana (50%): 4,736 → La mitad de los productos tiene ≤ 4,736 reseñas.\n",
    "- Media (≈ 17,600): mucho más alta que la mediana → hay outliers que inflan el promedio.\n",
    "- Máximo: 426,973 → un producto extremadamente popular.\n",
    "- Desviación estándar (≈ 42,120): enorme en relación a la media → confirma la presencia de outliers."
   ]
  },
  {
   "cell_type": "markdown",
   "id": "77264ea9",
   "metadata": {},
   "source": [
    "# Unión de tablas "
   ]
  }
 ],
 "metadata": {
  "kernelspec": {
   "display_name": "venv (3.13.3)",
   "language": "python",
   "name": "python3"
  },
  "language_info": {
   "codemirror_mode": {
    "name": "ipython",
    "version": 3
   },
   "file_extension": ".py",
   "mimetype": "text/x-python",
   "name": "python",
   "nbconvert_exporter": "python",
   "pygments_lexer": "ipython3",
   "version": "3.13.3"
  }
 },
 "nbformat": 4,
 "nbformat_minor": 5
}
