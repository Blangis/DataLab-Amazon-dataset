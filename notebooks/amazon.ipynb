{
 "cells": [
  {
   "cell_type": "code",
   "execution_count": 337,
   "id": "23b360e1",
   "metadata": {},
   "outputs": [],
   "source": [
    "import pandas as pd\n",
    "import numpy as np\n",
    "import seaborn as sbn"
   ]
  },
  {
   "cell_type": "markdown",
   "id": "c1c46af6",
   "metadata": {},
   "source": [
    "# Carga de datos "
   ]
  },
  {
   "cell_type": "code",
   "execution_count": 338,
   "id": "35a7b5c5",
   "metadata": {},
   "outputs": [
    {
     "name": "stdout",
     "output_type": "stream",
     "text": [
      "Filas y columnas de productos dataset: (1469, 7)\n",
      "Filas y columnas de reviews dataset: (1465, 10)\n"
     ]
    }
   ],
   "source": [
    "df_products = pd.read_csv(\"../dataset_amazon/amazon - amazon_product.csv\")\n",
    "print(f\"Filas y columnas de productos dataset: {df_products.shape}\")\n",
    "\n",
    "df_reviews = pd.read_csv(\"../dataset_amazon/amazon - amazon_review.csv\")\n",
    "print(f\"Filas y columnas de reviews dataset: {df_reviews.shape}\")"
   ]
  },
  {
   "cell_type": "markdown",
   "id": "8e09bab9",
   "metadata": {},
   "source": [
    "# Tipos de datos y valores no nulos por columna"
   ]
  },
  {
   "cell_type": "code",
   "execution_count": 339,
   "id": "9612098a",
   "metadata": {},
   "outputs": [
    {
     "name": "stdout",
     "output_type": "stream",
     "text": [
      "<class 'pandas.core.frame.DataFrame'>\n",
      "RangeIndex: 1469 entries, 0 to 1468\n",
      "Data columns (total 7 columns):\n",
      " #   Column               Non-Null Count  Dtype \n",
      "---  ------               --------------  ----- \n",
      " 0   product_id           1469 non-null   object\n",
      " 1   product_name         1469 non-null   object\n",
      " 2   category             1469 non-null   object\n",
      " 3   discounted_price     1469 non-null   object\n",
      " 4   actual_price         1469 non-null   object\n",
      " 5   discount_percentage  1469 non-null   object\n",
      " 6   about_product        1465 non-null   object\n",
      "dtypes: object(7)\n",
      "memory usage: 80.5+ KB\n"
     ]
    }
   ],
   "source": [
    "df_products.info()"
   ]
  },
  {
   "cell_type": "code",
   "execution_count": 340,
   "id": "59a002c8",
   "metadata": {},
   "outputs": [
    {
     "name": "stdout",
     "output_type": "stream",
     "text": [
      "<class 'pandas.core.frame.DataFrame'>\n",
      "RangeIndex: 1465 entries, 0 to 1464\n",
      "Data columns (total 10 columns):\n",
      " #   Column          Non-Null Count  Dtype \n",
      "---  ------          --------------  ----- \n",
      " 0   user_id         1465 non-null   object\n",
      " 1   user_name       1465 non-null   object\n",
      " 2   review_id       1465 non-null   object\n",
      " 3   review_title    1465 non-null   object\n",
      " 4   review_content  1465 non-null   object\n",
      " 5   img_link        999 non-null    object\n",
      " 6   product_link    999 non-null    object\n",
      " 7   product_id      1465 non-null   object\n",
      " 8   rating          1465 non-null   object\n",
      " 9   rating_count    1463 non-null   object\n",
      "dtypes: object(10)\n",
      "memory usage: 114.6+ KB\n"
     ]
    }
   ],
   "source": [
    "df_reviews.info()"
   ]
  },
  {
   "cell_type": "markdown",
   "id": "db4ca5bd",
   "metadata": {},
   "source": [
    "# Identificación de valores nulos"
   ]
  },
  {
   "cell_type": "markdown",
   "id": "8a3a7e89",
   "metadata": {},
   "source": [
    "Para identificar qué columnas tienen nulos se usó *isnull().sum()* , para el caso de *products* se encontró que en la columna **about_product** hay 4 nulos, se tomará la decisión de imputar con *\"sin info\"* más adelante."
   ]
  },
  {
   "cell_type": "code",
   "execution_count": 341,
   "id": "778a6ec0",
   "metadata": {},
   "outputs": [
    {
     "name": "stdout",
     "output_type": "stream",
     "text": [
      " Nulos en productos: \n",
      " product_id             0\n",
      "product_name           0\n",
      "category               0\n",
      "discounted_price       0\n",
      "actual_price           0\n",
      "discount_percentage    0\n",
      "about_product          4\n",
      "dtype: int64\n"
     ]
    }
   ],
   "source": [
    "print(f\" Nulos en productos: \\n {df_products.isnull().sum()}\")"
   ]
  },
  {
   "cell_type": "markdown",
   "id": "232d3d8c",
   "metadata": {},
   "source": [
    "De igual manera para *reviews* se identificaron valores nulos, en este caso **img_links** y **product_link** tienen 466 valores nulos, sin embargo, considerando las preguntas a responder en este análisis, esas columnas no nos aportan información relevante, por lo que se sugiere eliminar esas columnas. Por otro lado para **rating_count** hay 2 valores nulos, en este caso, se plantea eliminar esos valores, ya que son un bajo porcentaje y así no sesgamos los datos suponiendo que nadie lo valoró."
   ]
  },
  {
   "cell_type": "code",
   "execution_count": 342,
   "id": "9bf97a57",
   "metadata": {},
   "outputs": [
    {
     "name": "stdout",
     "output_type": "stream",
     "text": [
      " Nulos en reviews: \n",
      "  user_id             0\n",
      "user_name           0\n",
      "review_id           0\n",
      "review_title        0\n",
      "review_content      0\n",
      "img_link          466\n",
      "product_link      466\n",
      "product_id          0\n",
      "rating              0\n",
      "rating_count        2\n",
      "dtype: int64\n"
     ]
    }
   ],
   "source": [
    "print(f\" Nulos en reviews: \\n  {df_reviews.isnull().sum()}\")"
   ]
  },
  {
   "cell_type": "markdown",
   "id": "953cdb58",
   "metadata": {},
   "source": [
    "# Manejo de valores nulos"
   ]
  },
  {
   "cell_type": "markdown",
   "id": "62902c75",
   "metadata": {},
   "source": [
    "### DataFrame *products* \n",
    "\n",
    "```\n",
    "df_products['about_product'] → selecciona la columna about_product del DataFrame df_products.\n",
    ".fillna(\"Sin descripción\") → reemplaza todos los valores nulos (NaN) de esa columna con el texto \"Sin descripción\".\n",
    "El resultado se reasigna a la misma columna.\n",
    "```"
   ]
  },
  {
   "cell_type": "code",
   "execution_count": 343,
   "id": "96ac2d08",
   "metadata": {},
   "outputs": [],
   "source": [
    "df_products['about_product'] = df_products['about_product'].fillna(\"Sin descripción\")"
   ]
  },
  {
   "cell_type": "markdown",
   "id": "242b7627",
   "metadata": {},
   "source": [
    "### DataFrame *reviews* \n",
    "\n",
    "```\n",
    ".drop(columns=[...]) → elimina columnas completas del DataFrame. Aquí borramos img_link y product_link.\n",
    "Se reasigna a df_reviews para guardar el DataFrame ya sin esas columnas.\n",
    "```\n",
    "\n",
    "```\n",
    ".dropna(...) → elimina filas que contienen valores nulos.\n",
    "subset=['rating_count'] → le decimos que solo revise la columna rating_count. Si en esa columna encuentra NaN, elimina esa fila completa.\n",
    "Se reasigna a df_reviews para guardar los cambios.\n",
    "```"
   ]
  },
  {
   "cell_type": "code",
   "execution_count": 344,
   "id": "ee7731a8",
   "metadata": {},
   "outputs": [],
   "source": [
    "df_reviews = df_reviews.drop(columns=['img_link', 'product_link'])\n",
    "df_reviews = df_reviews.dropna(subset=['rating_count'])"
   ]
  },
  {
   "cell_type": "markdown",
   "id": "25dc9b3b",
   "metadata": {},
   "source": [
    "Comprobamos que ya no tenemos nulos"
   ]
  },
  {
   "cell_type": "code",
   "execution_count": 345,
   "id": "c872628a",
   "metadata": {},
   "outputs": [
    {
     "name": "stdout",
     "output_type": "stream",
     "text": [
      " Nulos en productos: \n",
      " product_id             0\n",
      "product_name           0\n",
      "category               0\n",
      "discounted_price       0\n",
      "actual_price           0\n",
      "discount_percentage    0\n",
      "about_product          0\n",
      "dtype: int64\n",
      " Nulos en reviews: \n",
      "  user_id           0\n",
      "user_name         0\n",
      "review_id         0\n",
      "review_title      0\n",
      "review_content    0\n",
      "product_id        0\n",
      "rating            0\n",
      "rating_count      0\n",
      "dtype: int64\n"
     ]
    }
   ],
   "source": [
    "print(f\" Nulos en productos: \\n {df_products.isnull().sum()}\")\n",
    "print(f\" Nulos en reviews: \\n  {df_reviews.isnull().sum()}\")"
   ]
  },
  {
   "cell_type": "markdown",
   "id": "8ce8c5dd",
   "metadata": {},
   "source": [
    "# Normalizamos valores en DataFrame **products**"
   ]
  },
  {
   "cell_type": "code",
   "execution_count": 346,
   "id": "cec98a98",
   "metadata": {},
   "outputs": [],
   "source": [
    "# Precios\n",
    "df_products['discounted_price'] = df_products['discounted_price'].str.replace('₹','').str.replace(',','').astype(float)\n",
    "df_products['actual_price'] = df_products['actual_price'].str.replace('₹','').str.replace(',','').astype(float)\n",
    "\n",
    "# Descuento\n",
    "df_products['discount_percentage'] = df_products['discount_percentage'].str.replace('%','').astype(float)\n"
   ]
  },
  {
   "cell_type": "markdown",
   "id": "f7d5c17f",
   "metadata": {},
   "source": [
    "# Valores duplicados"
   ]
  },
  {
   "cell_type": "markdown",
   "id": "9f48ba30",
   "metadata": {},
   "source": [
    "Contamos duplicados en **products**, usando *duplicated().sum()* , nos dice cuántas columnas completas están duplicadas, es decir, todas las columnas iguales."
   ]
  },
  {
   "cell_type": "code",
   "execution_count": 347,
   "id": "3912427b",
   "metadata": {},
   "outputs": [
    {
     "name": "stdout",
     "output_type": "stream",
     "text": [
      "106\n"
     ]
    }
   ],
   "source": [
    "print(df_products.duplicated().sum())"
   ]
  },
  {
   "cell_type": "markdown",
   "id": "961b6680",
   "metadata": {},
   "source": [
    "De igual manera contamos duplicados en *reviews* "
   ]
  },
  {
   "cell_type": "code",
   "execution_count": 348,
   "id": "6f365850",
   "metadata": {},
   "outputs": [
    {
     "name": "stdout",
     "output_type": "stream",
     "text": [
      "70\n"
     ]
    }
   ],
   "source": [
    "print(df_reviews.duplicated().sum())"
   ]
  },
  {
   "cell_type": "markdown",
   "id": "db9b0c5b",
   "metadata": {},
   "source": [
    "En el caso de **products** hay 106 filas iguales, y en **reviews** hay 70 filas iguales, por lo que hay que eliminar filas idénticas para cada caso."
   ]
  },
  {
   "cell_type": "markdown",
   "id": "ac79a701",
   "metadata": {},
   "source": [
    "# Eliminación de filas idénticas"
   ]
  },
  {
   "cell_type": "code",
   "execution_count": 349,
   "id": "b79aa9c6",
   "metadata": {},
   "outputs": [],
   "source": [
    "#products\n",
    "df_products = df_products.drop_duplicates()\n",
    "#reviews\n",
    "df_reviews = df_reviews.drop_duplicates()\n"
   ]
  },
  {
   "cell_type": "markdown",
   "id": "4519d39c",
   "metadata": {},
   "source": [
    "Revisamos **id's** , es decir en products y reviews las columnas de **product_id** y de **review_id**, ya que se espera que sean identificadores únicos."
   ]
  },
  {
   "cell_type": "code",
   "execution_count": 350,
   "id": "0de18e63",
   "metadata": {},
   "outputs": [
    {
     "name": "stdout",
     "output_type": "stream",
     "text": [
      "12\n",
      "201\n"
     ]
    }
   ],
   "source": [
    "print(df_products['product_id'].duplicated().sum())\n",
    "print(df_reviews['review_id'].duplicated().sum())"
   ]
  },
  {
   "cell_type": "markdown",
   "id": "f7516cc2",
   "metadata": {},
   "source": [
    "En el caso de *products*, aquellos que había imputado con \"Sin descripción\" resultaron ser repetidos, por lo que ahora sí eliminaremos esos valores de **about_product** : "
   ]
  },
  {
   "cell_type": "code",
   "execution_count": 351,
   "id": "9a9c183c",
   "metadata": {},
   "outputs": [],
   "source": [
    "# Eliminar productos cuya descripción es \"Sin descripción\"\n",
    "df_products = df_products[df_products['about_product'] != \"Sin descripción\"]"
   ]
  },
  {
   "cell_type": "code",
   "execution_count": 352,
   "id": "b3e14b32",
   "metadata": {},
   "outputs": [
    {
     "name": "stdout",
     "output_type": "stream",
     "text": [
      "8\n",
      "201\n"
     ]
    }
   ],
   "source": [
    "print(df_products['product_id'].duplicated().sum())\n",
    "print(df_reviews['review_id'].duplicated().sum())"
   ]
  },
  {
   "cell_type": "markdown",
   "id": "9bfb2c18",
   "metadata": {},
   "source": [
    "Aún se observaron 8 productos con id duplicado, y 201 en reviews con mismo id."
   ]
  },
  {
   "cell_type": "code",
   "execution_count": 353,
   "id": "79cfb17a",
   "metadata": {},
   "outputs": [
    {
     "name": "stdout",
     "output_type": "stream",
     "text": [
      "     product_id                                       product_name  \\\n",
      "433  B07DJLFMPS  HP 32GB Class 10 MicroSD Memory Card (U1 TF Ca...   \n",
      "686  B07DJLFMPS  HP 32GB Class 10 MicroSD Memory Card (U1 TF Ca...   \n",
      "15   B083342NKJ  MI Braided USB Type-C Cable for Charging Adapt...   \n",
      "699  B083342NKJ  MI Braided USB Type-C Cable for Charging Adapt...   \n",
      "10   B08CF3D7QR  Portronics Konnect L POR-1081 Fast Charging 3A...   \n",
      "428  B08CF3D7QR  Portronics Konnect L POR-1081 Fast Charging 3A...   \n",
      "2    B096MSW6CT  Sounce Fast Phone Charging Cable & Data Sync U...   \n",
      "379  B096MSW6CT  Sounce Fast Phone Charging Cable & Data Sync U...   \n",
      "623  B096MSW6CT  Sounce Fast Phone Charging Cable & Data Sync U...   \n",
      "397  B09MT84WV5  Samsung EVO Plus 128GB microSDXC UHS-I U3 130M...   \n",
      "641  B09MT84WV5  Samsung EVO Plus 128GB microSDXC UHS-I U3 130M...   \n",
      "336  B0B5B6PQCT  boAt Wave Call Smart Watch, Smart Talk with Ad...   \n",
      "587  B0B5B6PQCT  boAt Wave Call Smart Watch, Smart Talk with Ad...   \n",
      "344  B0B5LVS732  Noise Pulse Go Buzz Smart Watch Bluetooth Call...   \n",
      "594  B0B5LVS732  Noise Pulse Go Buzz Smart Watch Bluetooth Call...   \n",
      "\n",
      "                                              category  discounted_price  \\\n",
      "433        Electronics|Accessories|MemoryCards|MicroSD             369.0   \n",
      "686        Electronics|Accessories|MemoryCards|MicroSD             369.0   \n",
      "15   Computers&Accessories|Accessories&Peripherals|...             349.0   \n",
      "699  Computers&Accessories|Accessories&Peripherals|...             349.0   \n",
      "10   Computers&Accessories|Accessories&Peripherals|...             154.0   \n",
      "428  Computers&Accessories|Accessories&Peripherals|...             154.0   \n",
      "2    Computers&Accessories|Accessories&Peripherals|...             199.0   \n",
      "379  Computers&Accessories|Accessories&Peripherals|...             199.0   \n",
      "623  Computers&Accessories|Accessories&Peripherals|...             199.0   \n",
      "397        Electronics|Accessories|MemoryCards|MicroSD            1149.0   \n",
      "641        Electronics|Accessories|MemoryCards|MicroSD            1059.0   \n",
      "336        Electronics|WearableTechnology|SmartWatches            1999.0   \n",
      "587        Electronics|WearableTechnology|SmartWatches            1799.0   \n",
      "344        Electronics|WearableTechnology|SmartWatches            1898.0   \n",
      "594        Electronics|WearableTechnology|SmartWatches            1999.0   \n",
      "\n",
      "     actual_price  discount_percentage  \\\n",
      "433        1600.0                 77.0   \n",
      "686        1600.0                 77.0   \n",
      "15          399.0                 13.0   \n",
      "699         399.0                 13.0   \n",
      "10          339.0                 55.0   \n",
      "428         339.0                 55.0   \n",
      "2          1899.0                 90.0   \n",
      "379         999.0                 80.0   \n",
      "623         999.0                 80.0   \n",
      "397        3999.0                 71.0   \n",
      "641        3999.0                 74.0   \n",
      "336        7990.0                 75.0   \n",
      "587        7990.0                 77.0   \n",
      "344        4999.0                 62.0   \n",
      "594        4999.0                 60.0   \n",
      "\n",
      "                                         about_product  \n",
      "433  HP 32GB Class 10 MicroSD Memory Card (U1 TF Ca...  \n",
      "686  Class 10, UHS-I, U1 Memory Card with Adapter|P...  \n",
      "15   1M Long Cable. Usb 2.0 (Type A)|Toughened Join...  \n",
      "699  1M Long Cable. Usb 2.0 (Type A)|Braided Usb Ty...  \n",
      "10   [CHARGE & SYNC FUNCTION]- This cable comes wit...  \n",
      "428  [CHARGE & SYNC FUNCTION]- This cable comes wit...  \n",
      "2    【 Fast Charger& Data Sync】-With built-in safet...  \n",
      "379  【 Fast Charger& Data Sync】-With built-in safet...  \n",
      "623  【 Fast Charger& Data Sync】-With built-in safet...  \n",
      "397  Up to 130MB/s read speed with UHS-I interface....  \n",
      "641  Up to 130MB/s read speed with UHS-I interface....  \n",
      "336  Bluetooth Calling- Wave Call comes with a prem...  \n",
      "587  Bluetooth Calling- Wave Call comes with a prem...  \n",
      "344  Sharp and bright display: The 1.69’’ TFT displ...  \n",
      "594  Sharp and bright display: The 1.69’’ TFT displ...  \n"
     ]
    }
   ],
   "source": [
    "# IDs de productos repetidos\n",
    "dup_products = df_products[df_products['product_id'].duplicated(keep=False)]\n",
    "print(dup_products.sort_values(by='product_id'))\n",
    "\n"
   ]
  },
  {
   "cell_type": "markdown",
   "id": "0319fedb",
   "metadata": {},
   "source": [
    "Para el caso de **products** decidí quedarme con aquellos que tenían un descuento menor, para considerar \"el peor caso\"."
   ]
  },
  {
   "cell_type": "markdown",
   "id": "a4326fbd",
   "metadata": {},
   "source": [
    "```\n",
    "df_products.sort_values('discounted_price') Ordena el DataFrame de menor a mayor según discounted_price.Es decir, los precios más bajos aparecen primero.\n",
    "\n",
    ".drop_duplicates(subset='product_id', keep='first') Busca duplicados en la columna product_id.\n",
    "\n",
    "Para cada product_id repetido, mantiene la primera fila (la que tiene el menor discounted_price, porque ya ordenaste).\n",
    "```"
   ]
  },
  {
   "cell_type": "code",
   "execution_count": null,
   "id": "3740c4e6",
   "metadata": {},
   "outputs": [],
   "source": [
    "df_products = df_products.sort_values('discounted_price').drop_duplicates(subset='product_id', keep='first')"
   ]
  },
  {
   "cell_type": "code",
   "execution_count": 358,
   "id": "34e8b950",
   "metadata": {},
   "outputs": [
    {
     "name": "stdout",
     "output_type": "stream",
     "text": [
      "Ver product_id duplicados: 0\n",
      "1351 product_id únicos\n",
      "1351 filas en total\n"
     ]
    }
   ],
   "source": [
    "# Ver cuántos product_id están duplicados\n",
    "print(f\"Ver product_id duplicados: {df_products['product_id'].duplicated().sum()}\")  # debe dar 0\n",
    "\n",
    "# Ver cuántos product_id únicos hay vs total de filas\n",
    "print(df_products['product_id'].nunique(), \"product_id únicos\")\n",
    "print(len(df_products), \"filas en total\")\n"
   ]
  },
  {
   "cell_type": "markdown",
   "id": "5d68280c",
   "metadata": {},
   "source": [
    "## Reviews"
   ]
  },
  {
   "cell_type": "code",
   "execution_count": 356,
   "id": "14db4019",
   "metadata": {},
   "outputs": [
    {
     "name": "stdout",
     "output_type": "stream",
     "text": [
      "                                               user_id  \\\n",
      "84   AEXK37TSBFHSP2TYE63YPKETWQ7Q,AEKMVX2VDNNX4ZFXI...   \n",
      "261  AEXK37TSBFHSP2TYE63YPKETWQ7Q,AEKMVX2VDNNX4ZFXI...   \n",
      "523  AFTS5BKDRY7Y23B27UVBE2V6TOHA,AHRIDJXYEBQS7MXFD...   \n",
      "466  AFTS5BKDRY7Y23B27UVBE2V6TOHA,AHRIDJXYEBQS7MXFD...   \n",
      "672  AFLBLMPC4WUEDUWHLHBQVY5AKH2A,AE4ZXGSA2CQOGKH3N...   \n",
      "..                                                 ...   \n",
      "463  AH7LW3BCJBLCZTMWBOFL33UGIRBQ,AFSJYBGBY2U6KAAUR...   \n",
      "506  AH7LW3BCJBLCZTMWBOFL33UGIRBQ,AFSJYBGBY2U6KAAUR...   \n",
      "492  AH7LW3BCJBLCZTMWBOFL33UGIRBQ,AFSJYBGBY2U6KAAUR...   \n",
      "62   AF42EMTPEJAL4LNEPPX77TN77UHA,AHBMZRY43T2GTYDVN...   \n",
      "118  AF42EMTPEJAL4LNEPPX77TN77UHA,AHBMZRY43T2GTYDVN...   \n",
      "\n",
      "                                             user_name  \\\n",
      "84   Sunil Funde,Biju Abraham Thomas,Samir,Rahul Sh...   \n",
      "261  Sunil Funde,Biju Abraham Thomas,Samir,Rahul Sh...   \n",
      "523  Ranit Barman,Ravi Singh,Karan Rai,Amazon Custo...   \n",
      "466  Ranit Barman,Ravi Singh,Karan Rai,Amazon Custo...   \n",
      "672  Velir,Dileep Venigalla,chakrapani p,kuldip tel...   \n",
      "..                                                 ...   \n",
      "463  anurag,Nirmal Singh,Vikas Keshavrao Vanave,K. ...   \n",
      "506  anurag,Nirmal Singh,Vikas Keshavrao Vanave,K. ...   \n",
      "492  anurag,Nirmal Singh,Vikas Keshavrao Vanave,K. ...   \n",
      "62   pruthvi natraj,Phani,Amazon Customer,TechDevot...   \n",
      "118  pruthvi natraj,Phani,Amazon Customer,TechDevot...   \n",
      "\n",
      "                                             review_id  \\\n",
      "84   R10365HEDURWI9,R5RP542IMC4OI,RX2HFWXTTQDTS,R26...   \n",
      "261  R10365HEDURWI9,R5RP542IMC4OI,RX2HFWXTTQDTS,R26...   \n",
      "523  R10FUJSCR3VYHY,R2Y8B5LQ5HLACQ,R3BC8GS9GGMBTI,R...   \n",
      "466  R10FUJSCR3VYHY,R2Y8B5LQ5HLACQ,R3BC8GS9GGMBTI,R...   \n",
      "672  R10KEMT1N336ZD,RL01KZO95GX4F,R1Q721FI3A7XLK,R3...   \n",
      "..                                                 ...   \n",
      "463  RZ7HZPPMZP6NJ,R3UU1TR7386E57,R3IX0H9MIZUJNR,R1...   \n",
      "506  RZ7HZPPMZP6NJ,R3UU1TR7386E57,R3IX0H9MIZUJNR,R1...   \n",
      "492  RZ7HZPPMZP6NJ,R3UU1TR7386E57,R3IX0H9MIZUJNR,R1...   \n",
      "62   RZJR37WFGXR9B,R39X6O18GM16TM,R18ZQ09EKVWZ9R,R3...   \n",
      "118  RZJR37WFGXR9B,R39X6O18GM16TM,R18ZQ09EKVWZ9R,R3...   \n",
      "\n",
      "                                          review_title  \\\n",
      "84   Nice product .,Good quality Braided cable, VFM...   \n",
      "261  Nice product .,Good quality Braided cable, VFM...   \n",
      "523  Works well, but not for long,Good product,Good...   \n",
      "466  Works well, but not for long,Good product,Good...   \n",
      "672  Awesome Product,Good product,Good quality,Good...   \n",
      "..                                                 ...   \n",
      "463  just a watch not smart one... all features are...   \n",
      "506  just a watch not smart one... all features are...   \n",
      "492  just a watch not smart one... all features are...   \n",
      "62   A well-priced product.,Lenthy cord.,Product is...   \n",
      "118  A well-priced product.,Lenthy cord.,Product is...   \n",
      "\n",
      "                                        review_content  product_id rating  \\\n",
      "84   Sturdy packing, good product!,Have used this b...  B07GVGTSLN    4.2   \n",
      "261  Sturdy packing, good product!,Have used this b...  B07F1P8KNV    4.2   \n",
      "523  The sound quality is excellent for the price, ...  B01F262EUU    4.2   \n",
      "466  The sound quality is excellent for the price, ...  B01F25X6RQ    4.2   \n",
      "672  It is good for data cables...I liked it,https:...  B08MTCKDYN    4.1   \n",
      "..                                                 ...         ...    ...   \n",
      "463  just a watch not smart one... all features are...  B0B53QFZPY    3.3   \n",
      "506  just a watch not smart one... all features are...  B0B53QLB9H    3.3   \n",
      "492  just a watch not smart one... all features are...  B0B53NXFFR    3.3   \n",
      "62   i am writing this review after 2 months, the f...  B0994GFWBH      4   \n",
      "118  i am writing this review after 2 months, the f...  B0B4G2MWSB      4   \n",
      "\n",
      "    rating_count  \n",
      "84        10,576  \n",
      "261       10,576  \n",
      "523       31,539  \n",
      "466       31,539  \n",
      "672        5,999  \n",
      "..           ...  \n",
      "463        4,415  \n",
      "506        4,415  \n",
      "492        4,415  \n",
      "62         1,313  \n",
      "118        1,313  \n",
      "\n",
      "[314 rows x 8 columns]\n"
     ]
    }
   ],
   "source": [
    "# IDs de reseñas repetidas\n",
    "dup_reviews = df_reviews[df_reviews['review_id'].duplicated(keep=False)]\n",
    "print(dup_reviews.sort_values(by='review_id'))"
   ]
  }
 ],
 "metadata": {
  "kernelspec": {
   "display_name": "venv (3.13.3)",
   "language": "python",
   "name": "python3"
  },
  "language_info": {
   "codemirror_mode": {
    "name": "ipython",
    "version": 3
   },
   "file_extension": ".py",
   "mimetype": "text/x-python",
   "name": "python",
   "nbconvert_exporter": "python",
   "pygments_lexer": "ipython3",
   "version": "3.13.3"
  }
 },
 "nbformat": 4,
 "nbformat_minor": 5
}
