{
 "cells": [
  {
   "cell_type": "code",
   "execution_count": 33,
   "id": "100eed23",
   "metadata": {},
   "outputs": [],
   "source": [
    "import pandas as pd\n",
    "import numpy as np\n",
    "import seaborn as sbn\n",
    "import matplotlib.pyplot as plt"
   ]
  },
  {
   "cell_type": "code",
   "execution_count": 34,
   "id": "ee005397",
   "metadata": {},
   "outputs": [
    {
     "name": "stdout",
     "output_type": "stream",
     "text": [
      "Filas y columnas de reviews dataset: (1465, 10)\n"
     ]
    }
   ],
   "source": [
    "df_reviews = pd.read_csv(\"../dataset_amazon/amazon - amazon_review.csv\")\n",
    "print(f\"Filas y columnas de reviews dataset: {df_reviews.shape}\")"
   ]
  },
  {
   "cell_type": "code",
   "execution_count": 35,
   "id": "6c2898fd",
   "metadata": {},
   "outputs": [
    {
     "name": "stdout",
     "output_type": "stream",
     "text": [
      " Nulos en reviews: \n",
      "  user_id             0\n",
      "user_name           0\n",
      "review_id           0\n",
      "review_title        0\n",
      "review_content      0\n",
      "img_link          466\n",
      "product_link      466\n",
      "product_id          0\n",
      "rating              0\n",
      "rating_count        2\n",
      "dtype: int64\n"
     ]
    }
   ],
   "source": [
    "print(f\" Nulos en reviews: \\n  {df_reviews.isnull().sum()}\")"
   ]
  },
  {
   "cell_type": "code",
   "execution_count": 36,
   "id": "cf2fed5e",
   "metadata": {},
   "outputs": [],
   "source": [
    "df_reviews = df_reviews.drop(columns=['img_link', 'product_link'])"
   ]
  },
  {
   "cell_type": "code",
   "execution_count": 37,
   "id": "c0518240",
   "metadata": {},
   "outputs": [],
   "source": [
    "# Imputar con 0 si no hay valor, indicando que no se registró número de reseñas\n",
    "df_reviews['rating_count'] = df_reviews['rating_count'].fillna(0)\n"
   ]
  },
  {
   "cell_type": "code",
   "execution_count": 38,
   "id": "5fdfade8",
   "metadata": {},
   "outputs": [
    {
     "name": "stdout",
     "output_type": "stream",
     "text": [
      " Nulos en reviews: \n",
      "  user_id           0\n",
      "user_name         0\n",
      "review_id         0\n",
      "review_title      0\n",
      "review_content    0\n",
      "product_id        0\n",
      "rating            0\n",
      "rating_count      0\n",
      "dtype: int64\n"
     ]
    }
   ],
   "source": [
    "\n",
    "print(f\" Nulos en reviews: \\n  {df_reviews.isnull().sum()}\")"
   ]
  },
  {
   "cell_type": "code",
   "execution_count": 39,
   "id": "255521af",
   "metadata": {},
   "outputs": [
    {
     "name": "stdout",
     "output_type": "stream",
     "text": [
      "<class 'pandas.core.frame.DataFrame'>\n",
      "RangeIndex: 1465 entries, 0 to 1464\n",
      "Data columns (total 8 columns):\n",
      " #   Column          Non-Null Count  Dtype \n",
      "---  ------          --------------  ----- \n",
      " 0   user_id         1465 non-null   object\n",
      " 1   user_name       1465 non-null   object\n",
      " 2   review_id       1465 non-null   object\n",
      " 3   review_title    1465 non-null   object\n",
      " 4   review_content  1465 non-null   object\n",
      " 5   product_id      1465 non-null   object\n",
      " 6   rating          1465 non-null   object\n",
      " 7   rating_count    1465 non-null   object\n",
      "dtypes: object(8)\n",
      "memory usage: 91.7+ KB\n"
     ]
    }
   ],
   "source": [
    "df_reviews.info()"
   ]
  },
  {
   "cell_type": "code",
   "execution_count": 40,
   "id": "1c166458",
   "metadata": {},
   "outputs": [
    {
     "name": "stdout",
     "output_type": "stream",
     "text": [
      "0    R3HXWT0LRP0NMF,R2AJM3LFTLZHFO,R6AQJGUP6P86,R1K...\n",
      "1    RGIQEG07R9HS2,R1SMWZQ86XIN8U,R2J3Y1WL29GWDE,RY...\n",
      "2    R3J3EQQ9TZI5ZJ,R3E7WBGK7ID0KV,RWU79XKQ6I1QF,R2...\n",
      "3    R3EEUZKKK9J36I,R3HJVYCLYOY554,REDECAZ7AMPQC,R1...\n",
      "4    R1BP4L2HH9TFUP,R16PVJEXKV6QZS,R2UPDB81N66T4P,R...\n",
      "5    R7S8ANNSDPR40,R3CLZFLHVJU26P,RFF7U7MPQFUGR,R1M...\n",
      "6    R8E73K2KWJRDS,RSD0JTIIWQQL8,R64CRSTE9SLW1,R2FR...\n",
      "7    R2X090D1YHACKR,R32ZCIH9AFNJ60,R3N57EVVG0EHAF,R...\n",
      "8    R1LW6NWSVTVZ2H,R3VR5WFKUS15C5,R2F6GC79OYWUKQ,R...\n",
      "9    RGIQEG07R9HS2,R1SMWZQ86XIN8U,R2J3Y1WL29GWDE,RY...\n"
     ]
    }
   ],
   "source": [
    "print(df_reviews['review_id'].head(10).to_string())"
   ]
  },
  {
   "cell_type": "code",
   "execution_count": 41,
   "id": "34002549",
   "metadata": {},
   "outputs": [
    {
     "name": "stdout",
     "output_type": "stream",
     "text": [
      "70\n"
     ]
    }
   ],
   "source": [
    "print(df_reviews.duplicated().sum())"
   ]
  },
  {
   "cell_type": "code",
   "execution_count": 42,
   "id": "68671ee8",
   "metadata": {},
   "outputs": [],
   "source": [
    "df_reviews = df_reviews.drop_duplicates()"
   ]
  },
  {
   "cell_type": "code",
   "execution_count": 43,
   "id": "244bc6a2",
   "metadata": {},
   "outputs": [
    {
     "data": {
      "text/plain": [
       "(1395, 8)"
      ]
     },
     "execution_count": 43,
     "metadata": {},
     "output_type": "execute_result"
    }
   ],
   "source": [
    "df_reviews.shape"
   ]
  },
  {
   "cell_type": "code",
   "execution_count": 44,
   "id": "889e5a03",
   "metadata": {},
   "outputs": [
    {
     "name": "stdout",
     "output_type": "stream",
     "text": [
      "Duplicados en review_id (después de limpiar comas) antes de limpiar: 201\n",
      "Número de review_id únicos: 1194\n"
     ]
    }
   ],
   "source": [
    "# Quitar comas de cada review_id\n",
    "df_reviews['review_id_clean'] = df_reviews['review_id'].str.replace(',', '', regex=False)\n",
    "\n",
    "# Revisar duplicados ahora\n",
    "duplicados_antes = df_reviews['review_id_clean'].duplicated().sum()\n",
    "print(f\"Duplicados en review_id (después de limpiar comas) antes de limpiar: {duplicados_antes}\")\n",
    "\n",
    "# Eliminar duplicados\n",
    "df_reviews_unicos = df_reviews.drop_duplicates(subset='review_id_clean').reset_index(drop=True)\n",
    "print(f\"Número de review_id únicos: {len(df_reviews_unicos)}\")\n"
   ]
  }
 ],
 "metadata": {
  "kernelspec": {
   "display_name": "venv",
   "language": "python",
   "name": "python3"
  },
  "language_info": {
   "codemirror_mode": {
    "name": "ipython",
    "version": 3
   },
   "file_extension": ".py",
   "mimetype": "text/x-python",
   "name": "python",
   "nbconvert_exporter": "python",
   "pygments_lexer": "ipython3",
   "version": "3.13.7"
  }
 },
 "nbformat": 4,
 "nbformat_minor": 5
}
